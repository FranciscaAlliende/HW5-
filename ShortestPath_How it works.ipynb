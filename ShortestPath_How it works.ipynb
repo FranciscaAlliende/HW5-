{
 "cells": [
  {
   "cell_type": "markdown",
   "metadata": {},
   "source": [
    "# How this shortest path algorithm works?"
   ]
  },
  {
   "cell_type": "markdown",
   "metadata": {},
   "source": [
    "Suppose a graph $G$ such that:"
   ]
  },
  {
   "cell_type": "code",
   "execution_count": 48,
   "metadata": {},
   "outputs": [],
   "source": [
    "graph = { \"a\" : [\"c\"],\n",
    "          \"b\" : [\"c\", \"e\"],\n",
    "          \"c\" : [\"a\", \"b\", \"d\", \"e\"],\n",
    "          \"d\" : [\"c\"],\n",
    "          \"e\" : [\"c\", \"b\"],\n",
    "          \"f\" : []}"
   ]
  },
  {
   "cell_type": "markdown",
   "metadata": {},
   "source": [
    "Then, we define the function BFS_prev, that takes as an input the graph $G$ and a node $S$ $\\epsilon$ $G$, and returns a dictionary where the keys are all the nodes conected in any possible path with $S$, and the value corresponds to the previous node, as the node that made abailable the path between the key node and $S$. "
   ]
  },
  {
   "cell_type": "code",
   "execution_count": 49,
   "metadata": {},
   "outputs": [],
   "source": [
    "def BFS_prev(graph, S):\n",
    "    prev = {}\n",
    "    # visited nodes\n",
    "    visited = []\n",
    "    # Query\n",
    "    Q = []\n",
    "    # First we append the node S on the query\n",
    "    Q.append(S)\n",
    "    # While we have nodes on query:\n",
    "    while Q:\n",
    "        current = Q.pop()\n",
    "        for child in graph[current]:\n",
    "            if child not in visited: # havent been discovered jet\n",
    "                Q = Q + list(child)\n",
    "                visited.append(child)\n",
    "                prev[child] = current\n",
    "    return prev"
   ]
  },
  {
   "cell_type": "code",
   "execution_count": 50,
   "metadata": {},
   "outputs": [
    {
     "data": {
      "text/plain": [
       "{'c': 'a', 'a': 'c', 'b': 'c', 'd': 'c', 'e': 'c'}"
      ]
     },
     "execution_count": 50,
     "metadata": {},
     "output_type": "execute_result"
    }
   ],
   "source": [
    "BFS_prev(graph, \"a\")"
   ]
  },
  {
   "cell_type": "markdown",
   "metadata": {},
   "source": [
    "Now, we are ready to define the shortest path between a node $S$ and the node $F$, where $S$,$F$ $\\epsilon$ $G$. In this case, we compute the path using the previous nodes dictionary, and taking the length of that path. Note that the path computed it is calculated from back to forward, and the final node $F$ is not included in the path. In this way, the legth of the path, is exactly our number of interest.\n",
    "\n",
    "The output of tyhis algorith is:\n",
    "\n",
    "- 0, when $S$ = $F$\n",
    "- None, when the path does not exists\n",
    "- the length of the path, when this is greater that 0"
   ]
  },
  {
   "cell_type": "code",
   "execution_count": 69,
   "metadata": {},
   "outputs": [],
   "source": [
    "def ShortestPath(S, F, graph):\n",
    "    # Previous nodes dictionary\n",
    "    D = BFS_prev(graph, S)\n",
    "    path = []\n",
    "    # If S = F return 0\n",
    "    if S == F:\n",
    "        return len(path) \n",
    "    # If the node F is not conected in any way with S, then pass\n",
    "    elif F not in D:\n",
    "        pass\n",
    "    # Otherwise, computhe the path, following the previous nodes, backwards\n",
    "    else:\n",
    "        C = F\n",
    "        while C != S:\n",
    "            path.append(D[C])\n",
    "            C = D[C]\n",
    "        return len(path)"
   ]
  },
  {
   "cell_type": "code",
   "execution_count": 70,
   "metadata": {},
   "outputs": [
    {
     "name": "stdout",
     "output_type": "stream",
     "text": [
      "Shortest Path between a and a: 0\n",
      "Shortest Path between a and c: 1\n",
      "Shortest Path between a and b: 2\n",
      "Shortest Path between a and f: None\n",
      "Shortest Path between e and d 2\n"
     ]
    }
   ],
   "source": [
    "print(\"Shortest Path between a and a:\", ShortestPath(\"a\", \"a\", graph))\n",
    "print(\"Shortest Path between a and c:\", ShortestPath(\"a\", \"c\", graph))\n",
    "print(\"Shortest Path between a and b:\",ShortestPath(\"a\", \"b\", graph))\n",
    "print(\"Shortest Path between a and f:\",ShortestPath(\"a\", \"f\", graph))\n",
    "print(\"Shortest Path between e and d\",ShortestPath(\"e\", \"d\", graph))"
   ]
  }
 ],
 "metadata": {
  "kernelspec": {
   "display_name": "Python 3",
   "language": "python",
   "name": "python3"
  },
  "language_info": {
   "codemirror_mode": {
    "name": "ipython",
    "version": 3
   },
   "file_extension": ".py",
   "mimetype": "text/x-python",
   "name": "python",
   "nbconvert_exporter": "python",
   "pygments_lexer": "ipython3",
   "version": "3.6.5"
  }
 },
 "nbformat": 4,
 "nbformat_minor": 2
}
