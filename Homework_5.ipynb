{
 "cells": [
  {
   "cell_type": "markdown",
   "metadata": {},
   "source": [
    "# Homework 5 - Visit the Wikipedia hyperlinks graph!"
   ]
  },
  {
   "cell_type": "markdown",
   "metadata": {},
   "source": [
    "In this assignment we perform an analysis of the Wikipedia Hyperlink graph. In particular, given extra information about the categories to which an article belongs to. The ultimate goal is to rank the articles according to some criteria.\n",
    "\n",
    "For this purpose we use the Wikipedia graph released by the SNAP group."
   ]
  },
  {
   "cell_type": "markdown",
   "metadata": {},
   "source": [
    "## Data\n",
    "First of all, we upload the data from the graph and the categories."
   ]
  },
  {
   "cell_type": "markdown",
   "metadata": {},
   "source": [
    "### 1.  Articles graph"
   ]
  },
  {
   "cell_type": "markdown",
   "metadata": {},
   "source": [
    "This database is a reduced version of a SNAP graph. In the database, every row is an edge and the two elements are the nodes (source and destination)."
   ]
  },
  {
   "cell_type": "code",
   "execution_count": 1,
   "metadata": {},
   "outputs": [],
   "source": [
    "import pandas as pd\n",
    "from collections import defaultdict"
   ]
  },
  {
   "cell_type": "code",
   "execution_count": 2,
   "metadata": {},
   "outputs": [
    {
     "data": {
      "text/html": [
       "<div>\n",
       "<style scoped>\n",
       "    .dataframe tbody tr th:only-of-type {\n",
       "        vertical-align: middle;\n",
       "    }\n",
       "\n",
       "    .dataframe tbody tr th {\n",
       "        vertical-align: top;\n",
       "    }\n",
       "\n",
       "    .dataframe thead th {\n",
       "        text-align: right;\n",
       "    }\n",
       "</style>\n",
       "<table border=\"1\" class=\"dataframe\">\n",
       "  <thead>\n",
       "    <tr style=\"text-align: right;\">\n",
       "      <th></th>\n",
       "      <th>Source</th>\n",
       "      <th>Destination</th>\n",
       "    </tr>\n",
       "  </thead>\n",
       "  <tbody>\n",
       "    <tr>\n",
       "      <th>0</th>\n",
       "      <td>52</td>\n",
       "      <td>401135</td>\n",
       "    </tr>\n",
       "    <tr>\n",
       "      <th>1</th>\n",
       "      <td>52</td>\n",
       "      <td>1069112</td>\n",
       "    </tr>\n",
       "    <tr>\n",
       "      <th>2</th>\n",
       "      <td>52</td>\n",
       "      <td>1163551</td>\n",
       "    </tr>\n",
       "    <tr>\n",
       "      <th>3</th>\n",
       "      <td>62</td>\n",
       "      <td>12162</td>\n",
       "    </tr>\n",
       "    <tr>\n",
       "      <th>4</th>\n",
       "      <td>62</td>\n",
       "      <td>167659</td>\n",
       "    </tr>\n",
       "  </tbody>\n",
       "</table>\n",
       "</div>"
      ],
      "text/plain": [
       "  Source Destination\n",
       "0     52      401135\n",
       "1     52     1069112\n",
       "2     52     1163551\n",
       "3     62       12162\n",
       "4     62      167659"
      ]
     },
     "execution_count": 2,
     "metadata": {},
     "output_type": "execute_result"
    }
   ],
   "source": [
    "# Import database\n",
    "articles_graph = pd.read_csv(\"wiki-topcats-reduced.txt\", sep = \"\\t\", header = None, names = [\"Source\", \"Destination\"])\n",
    "# Convert everithing to string\n",
    "articles_graph = articles_graph.applymap(str)\n",
    "articles_graph.head()"
   ]
  },
  {
   "cell_type": "markdown",
   "metadata": {},
   "source": [
    "In order to understand better the graph, we compute the edges, as a pair of tuples, of every pair of Source - Destination"
   ]
  },
  {
   "cell_type": "code",
   "execution_count": 3,
   "metadata": {},
   "outputs": [
    {
     "data": {
      "text/plain": [
       "[('52', '401135'),\n",
       " ('52', '1069112'),\n",
       " ('52', '1163551'),\n",
       " ('62', '12162'),\n",
       " ('62', '167659'),\n",
       " ('62', '279122'),\n",
       " ('62', '1089199'),\n",
       " ('62', '1354553'),\n",
       " ('62', '1400636'),\n",
       " ('62', '1403619')]"
      ]
     },
     "execution_count": 3,
     "metadata": {},
     "output_type": "execute_result"
    }
   ],
   "source": [
    "# Edges of the graph\n",
    "edges = list(zip(articles_graph.Source, articles_graph.Destination))\n",
    "edges[:10]"
   ]
  },
  {
   "cell_type": "markdown",
   "metadata": {},
   "source": [
    "We also computes the unique nodes, as the set of all the unique nodes in the graph"
   ]
  },
  {
   "cell_type": "code",
   "execution_count": 4,
   "metadata": {},
   "outputs": [
    {
     "data": {
      "text/plain": [
       "461193"
      ]
     },
     "execution_count": 4,
     "metadata": {},
     "output_type": "execute_result"
    }
   ],
   "source": [
    "# Compute the number of unique nodes\n",
    "nodes = set(articles_graph[\"Source\"]).union(set(articles_graph[\"Destination\"]))\n",
    "# Number of unique nodes\n",
    "len(nodes)"
   ]
  },
  {
   "cell_type": "markdown",
   "metadata": {},
   "source": [
    "### 2. Categories"
   ]
  },
  {
   "cell_type": "markdown",
   "metadata": {},
   "source": [
    "In this file, we found the information of which articles are in which of the top categories."
   ]
  },
  {
   "cell_type": "code",
   "execution_count": 5,
   "metadata": {},
   "outputs": [
    {
     "data": {
      "text/html": [
       "<div>\n",
       "<style scoped>\n",
       "    .dataframe tbody tr th:only-of-type {\n",
       "        vertical-align: middle;\n",
       "    }\n",
       "\n",
       "    .dataframe tbody tr th {\n",
       "        vertical-align: top;\n",
       "    }\n",
       "\n",
       "    .dataframe thead th {\n",
       "        text-align: right;\n",
       "    }\n",
       "</style>\n",
       "<table border=\"1\" class=\"dataframe\">\n",
       "  <thead>\n",
       "    <tr style=\"text-align: right;\">\n",
       "      <th></th>\n",
       "      <th>Category</th>\n",
       "      <th>Documents</th>\n",
       "    </tr>\n",
       "  </thead>\n",
       "  <tbody>\n",
       "    <tr>\n",
       "      <th>0</th>\n",
       "      <td>Category:Buprestoidea</td>\n",
       "      <td>301 302 303 304 305 306 307 308 309 310 311 3...</td>\n",
       "    </tr>\n",
       "    <tr>\n",
       "      <th>1</th>\n",
       "      <td>Category:People_from_Worcester</td>\n",
       "      <td>1056 1057 1058 1059 1060 60971 76515 76871 78...</td>\n",
       "    </tr>\n",
       "    <tr>\n",
       "      <th>2</th>\n",
       "      <td>Category:Skin_conditions_resulting_from_physic...</td>\n",
       "      <td>971 973 1166 1167 1168 1169 1170 1171 1172 11...</td>\n",
       "    </tr>\n",
       "    <tr>\n",
       "      <th>3</th>\n",
       "      <td>Category:Visual_kei_bands</td>\n",
       "      <td>1297 1300 1311 1312 1313 1314 1315 1316 1319 ...</td>\n",
       "    </tr>\n",
       "    <tr>\n",
       "      <th>4</th>\n",
       "      <td>Category:Japanese_rock_music_groups</td>\n",
       "      <td>1297 1300 1313 1314 1315 1316 1319 1320 1322 ...</td>\n",
       "    </tr>\n",
       "  </tbody>\n",
       "</table>\n",
       "</div>"
      ],
      "text/plain": [
       "                                            Category  \\\n",
       "0                              Category:Buprestoidea   \n",
       "1                     Category:People_from_Worcester   \n",
       "2  Category:Skin_conditions_resulting_from_physic...   \n",
       "3                          Category:Visual_kei_bands   \n",
       "4                Category:Japanese_rock_music_groups   \n",
       "\n",
       "                                           Documents  \n",
       "0   301 302 303 304 305 306 307 308 309 310 311 3...  \n",
       "1   1056 1057 1058 1059 1060 60971 76515 76871 78...  \n",
       "2   971 973 1166 1167 1168 1169 1170 1171 1172 11...  \n",
       "3   1297 1300 1311 1312 1313 1314 1315 1316 1319 ...  \n",
       "4   1297 1300 1313 1314 1315 1316 1319 1320 1322 ...  "
      ]
     },
     "execution_count": 5,
     "metadata": {},
     "output_type": "execute_result"
    }
   ],
   "source": [
    "# Import database\n",
    "categories = pd.read_csv(\"wiki-topcats-categories.txt\", sep = \";\", header = None, names = ['Category', 'Documents'] )\n",
    "categories.head()"
   ]
  },
  {
   "cell_type": "code",
   "execution_count": 6,
   "metadata": {},
   "outputs": [
    {
     "data": {
      "text/html": [
       "<div>\n",
       "<style scoped>\n",
       "    .dataframe tbody tr th:only-of-type {\n",
       "        vertical-align: middle;\n",
       "    }\n",
       "\n",
       "    .dataframe tbody tr th {\n",
       "        vertical-align: top;\n",
       "    }\n",
       "\n",
       "    .dataframe thead th {\n",
       "        text-align: right;\n",
       "    }\n",
       "</style>\n",
       "<table border=\"1\" class=\"dataframe\">\n",
       "  <thead>\n",
       "    <tr style=\"text-align: right;\">\n",
       "      <th></th>\n",
       "      <th>Category</th>\n",
       "      <th>Documents</th>\n",
       "    </tr>\n",
       "  </thead>\n",
       "  <tbody>\n",
       "    <tr>\n",
       "      <th>0</th>\n",
       "      <td>Buprestoidea</td>\n",
       "      <td>[301, 302, 303, 304, 305, 306, 307, 308, 309, ...</td>\n",
       "    </tr>\n",
       "    <tr>\n",
       "      <th>1</th>\n",
       "      <td>People from Worcester</td>\n",
       "      <td>[1056, 1057, 1058, 1059, 1060, 60971, 76515, 7...</td>\n",
       "    </tr>\n",
       "    <tr>\n",
       "      <th>2</th>\n",
       "      <td>Skin conditions resulting from physical factors</td>\n",
       "      <td>[971, 973, 1166, 1167, 1168, 1169, 1170, 1171,...</td>\n",
       "    </tr>\n",
       "    <tr>\n",
       "      <th>3</th>\n",
       "      <td>Visual kei bands</td>\n",
       "      <td>[1297, 1300, 1311, 1312, 1313, 1314, 1315, 131...</td>\n",
       "    </tr>\n",
       "    <tr>\n",
       "      <th>4</th>\n",
       "      <td>Japanese rock music groups</td>\n",
       "      <td>[1297, 1300, 1313, 1314, 1315, 1316, 1319, 132...</td>\n",
       "    </tr>\n",
       "  </tbody>\n",
       "</table>\n",
       "</div>"
      ],
      "text/plain": [
       "                                          Category  \\\n",
       "0                                     Buprestoidea   \n",
       "1                            People from Worcester   \n",
       "2  Skin conditions resulting from physical factors   \n",
       "3                                 Visual kei bands   \n",
       "4                       Japanese rock music groups   \n",
       "\n",
       "                                           Documents  \n",
       "0  [301, 302, 303, 304, 305, 306, 307, 308, 309, ...  \n",
       "1  [1056, 1057, 1058, 1059, 1060, 60971, 76515, 7...  \n",
       "2  [971, 973, 1166, 1167, 1168, 1169, 1170, 1171,...  \n",
       "3  [1297, 1300, 1311, 1312, 1313, 1314, 1315, 131...  \n",
       "4  [1297, 1300, 1313, 1314, 1315, 1316, 1319, 132...  "
      ]
     },
     "execution_count": 6,
     "metadata": {},
     "output_type": "execute_result"
    }
   ],
   "source": [
    "# CLEANING THE DATA\n",
    "# Remove the word \"category\"\n",
    "categories['Category'] = categories['Category'].str.replace('Category:','')\n",
    "# Remove \"_\" \n",
    "categories['Category'] = categories['Category'].str.replace('_',' ')\n",
    "# The data inside \"Documents\" is a big string: split it in to a list\n",
    "categories['Documents'] = categories['Documents'].str.split()\n",
    "# From string to integer\n",
    "for i in range(len(categories)):\n",
    "    categories[\"Documents\"][i] = list(map(int, categories[\"Documents\"][i]))\n",
    "categories.head()"
   ]
  },
  {
   "cell_type": "markdown",
   "metadata": {},
   "source": [
    "We select the categories that have more than 3.500 articles. For achieve that aim, we computed the length of each list of articles, and keep only the ones that have more than 3.500 articles."
   ]
  },
  {
   "cell_type": "code",
   "execution_count": 7,
   "metadata": {},
   "outputs": [
    {
     "data": {
      "text/html": [
       "<div>\n",
       "<style scoped>\n",
       "    .dataframe tbody tr th:only-of-type {\n",
       "        vertical-align: middle;\n",
       "    }\n",
       "\n",
       "    .dataframe tbody tr th {\n",
       "        vertical-align: top;\n",
       "    }\n",
       "\n",
       "    .dataframe thead th {\n",
       "        text-align: right;\n",
       "    }\n",
       "</style>\n",
       "<table border=\"1\" class=\"dataframe\">\n",
       "  <thead>\n",
       "    <tr style=\"text-align: right;\">\n",
       "      <th></th>\n",
       "      <th>Category</th>\n",
       "      <th>Documents</th>\n",
       "    </tr>\n",
       "  </thead>\n",
       "  <tbody>\n",
       "    <tr>\n",
       "      <th>0</th>\n",
       "      <td>English footballers</td>\n",
       "      <td>[22860, 28411, 28961, 28979, 29264, 29573, 295...</td>\n",
       "    </tr>\n",
       "    <tr>\n",
       "      <th>1</th>\n",
       "      <td>The Football League players</td>\n",
       "      <td>[14003, 23536, 27109, 27348, 27459, 27989, 280...</td>\n",
       "    </tr>\n",
       "    <tr>\n",
       "      <th>2</th>\n",
       "      <td>Association football forwards</td>\n",
       "      <td>[26876, 26877, 26879, 26887, 26892, 26904, 269...</td>\n",
       "    </tr>\n",
       "    <tr>\n",
       "      <th>3</th>\n",
       "      <td>Association football goalkeepers</td>\n",
       "      <td>[26900, 26909, 26917, 26960, 26966, 26984, 270...</td>\n",
       "    </tr>\n",
       "    <tr>\n",
       "      <th>4</th>\n",
       "      <td>Association football midfielders</td>\n",
       "      <td>[14003, 15291, 23536, 26880, 26882, 26885, 268...</td>\n",
       "    </tr>\n",
       "  </tbody>\n",
       "</table>\n",
       "</div>"
      ],
      "text/plain": [
       "                           Category  \\\n",
       "0               English footballers   \n",
       "1       The Football League players   \n",
       "2     Association football forwards   \n",
       "3  Association football goalkeepers   \n",
       "4  Association football midfielders   \n",
       "\n",
       "                                           Documents  \n",
       "0  [22860, 28411, 28961, 28979, 29264, 29573, 295...  \n",
       "1  [14003, 23536, 27109, 27348, 27459, 27989, 280...  \n",
       "2  [26876, 26877, 26879, 26887, 26892, 26904, 269...  \n",
       "3  [26900, 26909, 26917, 26960, 26966, 26984, 270...  \n",
       "4  [14003, 15291, 23536, 26880, 26882, 26885, 268...  "
      ]
     },
     "execution_count": 7,
     "metadata": {},
     "output_type": "execute_result"
    }
   ],
   "source": [
    "# Compute the length of each category \n",
    "length = []\n",
    "for i in range(len(categories)):\n",
    "    l = len(categories[\"Documents\"][i])\n",
    "    length.append(l)\n",
    "    \n",
    "# Create a new column in our df to store the length of each category\n",
    "categories['Length'] = length\n",
    "\n",
    "# Selecting only the rows that we care about\n",
    "categories = categories[categories[\"Length\"] > 3500]\n",
    "\n",
    "# Keeping only the columns that we need\n",
    "columns_of_interest = [\"Category\", \"Documents\"]\n",
    "categories = categories[columns_of_interest]\n",
    "\n",
    "# Reset the index\n",
    "categories = categories.reset_index(drop = True)\n",
    "\n",
    "# From integer to string\n",
    "for i in range(len(categories)):\n",
    "    categories[\"Documents\"][i] = list(map(str, categories[\"Documents\"][i]))\n",
    "categories.head()"
   ]
  },
  {
   "cell_type": "markdown",
   "metadata": {},
   "source": [
    "In order to do a better analysis, we filtered from the categories file the documents that are not in the graph."
   ]
  },
  {
   "cell_type": "code",
   "execution_count": 11,
   "metadata": {},
   "outputs": [
    {
     "data": {
      "text/html": [
       "<div>\n",
       "<style scoped>\n",
       "    .dataframe tbody tr th:only-of-type {\n",
       "        vertical-align: middle;\n",
       "    }\n",
       "\n",
       "    .dataframe tbody tr th {\n",
       "        vertical-align: top;\n",
       "    }\n",
       "\n",
       "    .dataframe thead th {\n",
       "        text-align: right;\n",
       "    }\n",
       "</style>\n",
       "<table border=\"1\" class=\"dataframe\">\n",
       "  <thead>\n",
       "    <tr style=\"text-align: right;\">\n",
       "      <th></th>\n",
       "      <th>Category</th>\n",
       "      <th>Documents</th>\n",
       "    </tr>\n",
       "  </thead>\n",
       "  <tbody>\n",
       "    <tr>\n",
       "      <th>0</th>\n",
       "      <td>English footballers</td>\n",
       "      <td>[80132, 85643, 1380888, 80947, 77702, 81156, 1...</td>\n",
       "    </tr>\n",
       "    <tr>\n",
       "      <th>1</th>\n",
       "      <td>The Football League players</td>\n",
       "      <td>[86822, 80643, 85643, 96710, 106231, 80947, 79...</td>\n",
       "    </tr>\n",
       "    <tr>\n",
       "      <th>2</th>\n",
       "      <td>Association football forwards</td>\n",
       "      <td>[78069, 1643214, 75992, 89811, 90010, 1642740,...</td>\n",
       "    </tr>\n",
       "    <tr>\n",
       "      <th>3</th>\n",
       "      <td>Association football goalkeepers</td>\n",
       "      <td>[1457698, 80048, 80643, 896622, 78701, 74424, ...</td>\n",
       "    </tr>\n",
       "    <tr>\n",
       "      <th>4</th>\n",
       "      <td>Association football midfielders</td>\n",
       "      <td>[97852, 80132, 85643, 1358075, 370343, 81156, ...</td>\n",
       "    </tr>\n",
       "    <tr>\n",
       "      <th>5</th>\n",
       "      <td>Association football defenders</td>\n",
       "      <td>[738698, 89628, 736071, 93557, 1382633, 135908...</td>\n",
       "    </tr>\n",
       "    <tr>\n",
       "      <th>6</th>\n",
       "      <td>Living people</td>\n",
       "      <td>[190325, 540645, 1503411, 379865, 666368, 4243...</td>\n",
       "    </tr>\n",
       "    <tr>\n",
       "      <th>7</th>\n",
       "      <td>Year of birth unknown</td>\n",
       "      <td>[360993, 1766474, 301834, 1378960, 47017, 6170...</td>\n",
       "    </tr>\n",
       "    <tr>\n",
       "      <th>8</th>\n",
       "      <td>Harvard University alumni</td>\n",
       "      <td>[56373, 891082, 1028988, 403757, 354252, 82274...</td>\n",
       "    </tr>\n",
       "    <tr>\n",
       "      <th>9</th>\n",
       "      <td>Major League Baseball pitchers</td>\n",
       "      <td>[1520439, 378961, 230526, 376787, 378490, 3909...</td>\n",
       "    </tr>\n",
       "    <tr>\n",
       "      <th>10</th>\n",
       "      <td>Members of the United Kingdom Parliament for E...</td>\n",
       "      <td>[540645, 539751, 720225, 538692, 541931, 53867...</td>\n",
       "    </tr>\n",
       "    <tr>\n",
       "      <th>11</th>\n",
       "      <td>Indian films</td>\n",
       "      <td>[581746, 583275, 581394, 589100, 591973, 58919...</td>\n",
       "    </tr>\n",
       "    <tr>\n",
       "      <th>12</th>\n",
       "      <td>Year of death missing</td>\n",
       "      <td>[317174, 716529, 378490, 269609, 1623288, 1560...</td>\n",
       "    </tr>\n",
       "    <tr>\n",
       "      <th>13</th>\n",
       "      <td>English cricketers</td>\n",
       "      <td>[671886, 668916, 667551, 666368, 670664, 54193...</td>\n",
       "    </tr>\n",
       "    <tr>\n",
       "      <th>14</th>\n",
       "      <td>Year of birth missing (living people)</td>\n",
       "      <td>[1216404, 1427377, 1373623, 1055356, 1390131, ...</td>\n",
       "    </tr>\n",
       "    <tr>\n",
       "      <th>15</th>\n",
       "      <td>Rivers of Romania</td>\n",
       "      <td>[788128, 788316, 784722, 1351067, 938634, 7848...</td>\n",
       "    </tr>\n",
       "    <tr>\n",
       "      <th>16</th>\n",
       "      <td>Main Belt asteroids</td>\n",
       "      <td>[138000, 1249671, 865703, 874709, 874097, 9993...</td>\n",
       "    </tr>\n",
       "    <tr>\n",
       "      <th>17</th>\n",
       "      <td>Asteroids named for people</td>\n",
       "      <td>[603877, 1588311, 1249671, 865731, 865703, 872...</td>\n",
       "    </tr>\n",
       "    <tr>\n",
       "      <th>18</th>\n",
       "      <td>English-language albums</td>\n",
       "      <td>[40523, 1378375, 689855, 1021638, 1355933, 555...</td>\n",
       "    </tr>\n",
       "    <tr>\n",
       "      <th>19</th>\n",
       "      <td>English television actors</td>\n",
       "      <td>[1044787, 1034389, 1080500, 1039577, 1039555, ...</td>\n",
       "    </tr>\n",
       "    <tr>\n",
       "      <th>20</th>\n",
       "      <td>British films</td>\n",
       "      <td>[1041543, 1041667, 633815, 1041882, 1042444, 1...</td>\n",
       "    </tr>\n",
       "    <tr>\n",
       "      <th>21</th>\n",
       "      <td>English-language films</td>\n",
       "      <td>[1068437, 1017473, 1246794, 1227364, 177635, 1...</td>\n",
       "    </tr>\n",
       "    <tr>\n",
       "      <th>22</th>\n",
       "      <td>American films</td>\n",
       "      <td>[1268272, 1042445, 1056173, 1247531, 1068871, ...</td>\n",
       "    </tr>\n",
       "    <tr>\n",
       "      <th>23</th>\n",
       "      <td>Fellows of the Royal Society</td>\n",
       "      <td>[1090151, 1144551, 720225, 793613, 541926, 110...</td>\n",
       "    </tr>\n",
       "    <tr>\n",
       "      <th>24</th>\n",
       "      <td>People from New York City</td>\n",
       "      <td>[501383, 953735, 1062118, 692934, 233854, 9496...</td>\n",
       "    </tr>\n",
       "    <tr>\n",
       "      <th>25</th>\n",
       "      <td>American Jews</td>\n",
       "      <td>[578755, 56373, 501383, 693562, 1058432, 21584...</td>\n",
       "    </tr>\n",
       "    <tr>\n",
       "      <th>26</th>\n",
       "      <td>American television actors</td>\n",
       "      <td>[725229, 1503411, 571071, 1063144, 1164963, 11...</td>\n",
       "    </tr>\n",
       "    <tr>\n",
       "      <th>27</th>\n",
       "      <td>American film actors</td>\n",
       "      <td>[725229, 1503411, 1225468, 1063144, 1164963, 1...</td>\n",
       "    </tr>\n",
       "    <tr>\n",
       "      <th>28</th>\n",
       "      <td>Debut albums</td>\n",
       "      <td>[1469818, 555918, 213692, 1175265, 1678755, 11...</td>\n",
       "    </tr>\n",
       "    <tr>\n",
       "      <th>29</th>\n",
       "      <td>Black-and-white films</td>\n",
       "      <td>[1268272, 1557782, 1267816, 1247531, 1247604, ...</td>\n",
       "    </tr>\n",
       "    <tr>\n",
       "      <th>30</th>\n",
       "      <td>Year of birth missing</td>\n",
       "      <td>[697378, 1620184, 269609, 1344693, 1623288, 15...</td>\n",
       "    </tr>\n",
       "    <tr>\n",
       "      <th>31</th>\n",
       "      <td>Place of birth missing (living people)</td>\n",
       "      <td>[137120, 457849, 487034, 1611977, 50297, 55500...</td>\n",
       "    </tr>\n",
       "    <tr>\n",
       "      <th>32</th>\n",
       "      <td>Article Feedback Pilot</td>\n",
       "      <td>[639440, 112159, 168855, 1403352, 727413, 1233...</td>\n",
       "    </tr>\n",
       "    <tr>\n",
       "      <th>33</th>\n",
       "      <td>American military personnel of World War II</td>\n",
       "      <td>[1263317, 812410, 1062118, 333004, 891113, 234...</td>\n",
       "    </tr>\n",
       "    <tr>\n",
       "      <th>34</th>\n",
       "      <td>Windows games</td>\n",
       "      <td>[1738134, 1721340, 1740514, 1738008, 1731563, ...</td>\n",
       "    </tr>\n",
       "  </tbody>\n",
       "</table>\n",
       "</div>"
      ],
      "text/plain": [
       "                                             Category  \\\n",
       "0                                 English footballers   \n",
       "1                         The Football League players   \n",
       "2                       Association football forwards   \n",
       "3                    Association football goalkeepers   \n",
       "4                    Association football midfielders   \n",
       "5                      Association football defenders   \n",
       "6                                       Living people   \n",
       "7                               Year of birth unknown   \n",
       "8                           Harvard University alumni   \n",
       "9                      Major League Baseball pitchers   \n",
       "10  Members of the United Kingdom Parliament for E...   \n",
       "11                                       Indian films   \n",
       "12                              Year of death missing   \n",
       "13                                 English cricketers   \n",
       "14              Year of birth missing (living people)   \n",
       "15                                  Rivers of Romania   \n",
       "16                                Main Belt asteroids   \n",
       "17                         Asteroids named for people   \n",
       "18                            English-language albums   \n",
       "19                          English television actors   \n",
       "20                                      British films   \n",
       "21                             English-language films   \n",
       "22                                     American films   \n",
       "23                       Fellows of the Royal Society   \n",
       "24                          People from New York City   \n",
       "25                                      American Jews   \n",
       "26                         American television actors   \n",
       "27                               American film actors   \n",
       "28                                       Debut albums   \n",
       "29                              Black-and-white films   \n",
       "30                              Year of birth missing   \n",
       "31             Place of birth missing (living people)   \n",
       "32                             Article Feedback Pilot   \n",
       "33        American military personnel of World War II   \n",
       "34                                      Windows games   \n",
       "\n",
       "                                            Documents  \n",
       "0   [80132, 85643, 1380888, 80947, 77702, 81156, 1...  \n",
       "1   [86822, 80643, 85643, 96710, 106231, 80947, 79...  \n",
       "2   [78069, 1643214, 75992, 89811, 90010, 1642740,...  \n",
       "3   [1457698, 80048, 80643, 896622, 78701, 74424, ...  \n",
       "4   [97852, 80132, 85643, 1358075, 370343, 81156, ...  \n",
       "5   [738698, 89628, 736071, 93557, 1382633, 135908...  \n",
       "6   [190325, 540645, 1503411, 379865, 666368, 4243...  \n",
       "7   [360993, 1766474, 301834, 1378960, 47017, 6170...  \n",
       "8   [56373, 891082, 1028988, 403757, 354252, 82274...  \n",
       "9   [1520439, 378961, 230526, 376787, 378490, 3909...  \n",
       "10  [540645, 539751, 720225, 538692, 541931, 53867...  \n",
       "11  [581746, 583275, 581394, 589100, 591973, 58919...  \n",
       "12  [317174, 716529, 378490, 269609, 1623288, 1560...  \n",
       "13  [671886, 668916, 667551, 666368, 670664, 54193...  \n",
       "14  [1216404, 1427377, 1373623, 1055356, 1390131, ...  \n",
       "15  [788128, 788316, 784722, 1351067, 938634, 7848...  \n",
       "16  [138000, 1249671, 865703, 874709, 874097, 9993...  \n",
       "17  [603877, 1588311, 1249671, 865731, 865703, 872...  \n",
       "18  [40523, 1378375, 689855, 1021638, 1355933, 555...  \n",
       "19  [1044787, 1034389, 1080500, 1039577, 1039555, ...  \n",
       "20  [1041543, 1041667, 633815, 1041882, 1042444, 1...  \n",
       "21  [1068437, 1017473, 1246794, 1227364, 177635, 1...  \n",
       "22  [1268272, 1042445, 1056173, 1247531, 1068871, ...  \n",
       "23  [1090151, 1144551, 720225, 793613, 541926, 110...  \n",
       "24  [501383, 953735, 1062118, 692934, 233854, 9496...  \n",
       "25  [578755, 56373, 501383, 693562, 1058432, 21584...  \n",
       "26  [725229, 1503411, 571071, 1063144, 1164963, 11...  \n",
       "27  [725229, 1503411, 1225468, 1063144, 1164963, 1...  \n",
       "28  [1469818, 555918, 213692, 1175265, 1678755, 11...  \n",
       "29  [1268272, 1557782, 1267816, 1247531, 1247604, ...  \n",
       "30  [697378, 1620184, 269609, 1344693, 1623288, 15...  \n",
       "31  [137120, 457849, 487034, 1611977, 50297, 55500...  \n",
       "32  [639440, 112159, 168855, 1403352, 727413, 1233...  \n",
       "33  [1263317, 812410, 1062118, 333004, 891113, 234...  \n",
       "34  [1738134, 1721340, 1740514, 1738008, 1731563, ...  "
      ]
     },
     "execution_count": 11,
     "metadata": {},
     "output_type": "execute_result"
    }
   ],
   "source": [
    "# Keep only the intersection between unique_docs and the list of documents\n",
    "intersection = []\n",
    "for i in range(len(categories)):\n",
    "    inter = set(categories[\"Documents\"][i]).intersection(nodes)\n",
    "    intersection.append(inter)\n",
    "categories['Documents'] = intersection\n",
    "# Make every element of \"Documents\", a list (from a set)\n",
    "for i in range(len(categories)):\n",
    "    categories[\"Documents\"][i] = list(categories[\"Documents\"][i])\n",
    "categories"
   ]
  },
  {
   "cell_type": "markdown",
   "metadata": {},
   "source": [
    "Finally, we create a dictionary, where the key, corresponds to the name of the category, and the value, is a list with all the documents, that belongs to that category, and also belongs to the graph."
   ]
  },
  {
   "cell_type": "code",
   "execution_count": 16,
   "metadata": {},
   "outputs": [
    {
     "name": "stdout",
     "output_type": "stream",
     "text": [
      "0 English footballers 7538\n",
      "1 The Football League players 7814\n",
      "2 Association football forwards 5097\n",
      "3 Association football goalkeepers 3737\n",
      "4 Association football midfielders 5827\n",
      "5 Association football defenders 4588\n",
      "6 Living people 348300\n",
      "7 Year of birth unknown 2536\n",
      "8 Harvard University alumni 5549\n",
      "9 Major League Baseball pitchers 5192\n",
      "10 Members of the United Kingdom Parliament for English constituencies 6491\n",
      "11 Indian films 5568\n",
      "12 Year of death missing 4122\n",
      "13 English cricketers 3275\n",
      "14 Year of birth missing (living people) 28498\n",
      "15 Rivers of Romania 7729\n",
      "16 Main Belt asteroids 11660\n",
      "17 Asteroids named for people 4895\n",
      "18 English-language albums 4760\n",
      "19 English television actors 3362\n",
      "20 British films 4422\n",
      "21 English-language films 22463\n",
      "22 American films 15159\n",
      "23 Fellows of the Royal Society 3446\n",
      "24 People from New York City 4614\n",
      "25 American Jews 3411\n",
      "26 American television actors 11531\n",
      "27 American film actors 13865\n",
      "28 Debut albums 7561\n",
      "29 Black-and-white films 10759\n",
      "30 Year of birth missing 4346\n",
      "31 Place of birth missing (living people) 5532\n",
      "32 Article Feedback Pilot 3485\n",
      "33 American military personnel of World War II 3720\n",
      "34 Windows games 4025\n"
     ]
    }
   ],
   "source": [
    "# Create a dictionary with categories selected in the previous step\n",
    "categories_dict = dict(zip(categories.Category, categories.Documents))\n",
    "\n",
    "# Info about our 35 surviving categories (name of the category and number of documents inside it)\n",
    "i = 0\n",
    "for key in categories_dict.keys():\n",
    "    print(i, key, len(categories_dict[key]))\n",
    "    i += 1"
   ]
  },
  {
   "cell_type": "markdown",
   "metadata": {},
   "source": [
    "## [RQ1] \n",
    "###  Build the graph $G=(V, E)$, where $V$ is the set of articles and $E$ the hyperlinks among them, and provide its basic information:"
   ]
  },
  {
   "cell_type": "markdown",
   "metadata": {},
   "source": [
    "From the edges previously created, we created a graph dictionary, where the key is a node, and the values is a list with all the nodes, that depends on it.  "
   ]
  },
  {
   "cell_type": "code",
   "execution_count": 23,
   "metadata": {},
   "outputs": [],
   "source": [
    "graph = defaultdict(list)\n",
    "for i in range(len(edges)):\n",
    "    key = edges[i][0]\n",
    "    value = edges[i][1]\n",
    "    graph[key].append(value)"
   ]
  },
  {
   "cell_type": "code",
   "execution_count": 21,
   "metadata": {},
   "outputs": [
    {
     "name": "stdout",
     "output_type": "stream",
     "text": [
      "{'52': ['401135', '1069112', '1163551'], '62': ['12162', '167659', '279122', '1089199', '1354553', '1400636', '1403619', '1537692', '1544420'], '64': ['64873'], '66': ['279122', '1163290'], '74': ['279122']}\n"
     ]
    }
   ],
   "source": [
    "print(dict(list(graph.items())[0:5]))"
   ]
  },
  {
   "cell_type": "markdown",
   "metadata": {},
   "source": [
    "#### 1. Direct graph\n",
    "Yes, the graph is direct since a hyperlink is in an article (so the edge starts from the node that represents the article) and leads to another article (the edge reaches the node representing the article to which the hyperlink refers ) and not vice versa.\n"
   ]
  },
  {
   "cell_type": "markdown",
   "metadata": {},
   "source": [
    "#### 2. Number of nodes"
   ]
  },
  {
   "cell_type": "code",
   "execution_count": 29,
   "metadata": {},
   "outputs": [
    {
     "data": {
      "text/plain": [
       "461193"
      ]
     },
     "execution_count": 29,
     "metadata": {},
     "output_type": "execute_result"
    }
   ],
   "source": [
    "N = len(nodes)\n",
    "N"
   ]
  },
  {
   "cell_type": "markdown",
   "metadata": {},
   "source": [
    "####  3. Number of edges"
   ]
  },
  {
   "cell_type": "code",
   "execution_count": 30,
   "metadata": {},
   "outputs": [
    {
     "data": {
      "text/plain": [
       "2645247"
      ]
     },
     "execution_count": 30,
     "metadata": {},
     "output_type": "execute_result"
    }
   ],
   "source": [
    "E = len(edges)\n",
    "E"
   ]
  },
  {
   "cell_type": "markdown",
   "metadata": {},
   "source": [
    "#### 4.  Average node degree"
   ]
  },
  {
   "cell_type": "markdown",
   "metadata": {},
   "source": [
    "The average degree, in the case of directed graphs is defined by: \n",
    "${\\displaystyle \\langle k\\rangle ={\\tfrac {E}{N}}}$. Were $E$ is the number of edges, and $N$ de number of nodes."
   ]
  },
  {
   "cell_type": "code",
   "execution_count": 31,
   "metadata": {},
   "outputs": [
    {
     "data": {
      "text/plain": [
       "5.74"
      ]
     },
     "execution_count": 31,
     "metadata": {},
     "output_type": "execute_result"
    }
   ],
   "source": [
    "k = E/N\n",
    "round(k,2)"
   ]
  },
  {
   "cell_type": "markdown",
   "metadata": {},
   "source": [
    "#### 5. Density"
   ]
  },
  {
   "cell_type": "markdown",
   "metadata": {},
   "source": [
    "For directed graphs, the graph density is defined as:\n",
    "\n",
    "${\\displaystyle D={\\frac {E}{N\\,(N-1)}}}$\n",
    "\n",
    "Where $E$ is the number of edges and $N$ is the number of nodes in the graph. \n",
    "\n",
    "A dense graph is a graph which the number of edges is close to the maximal number of edges. The opposite, a graph with only a few edges, is a sparse graph. "
   ]
  },
  {
   "cell_type": "code",
   "execution_count": 32,
   "metadata": {},
   "outputs": [
    {
     "data": {
      "text/plain": [
       "1.2436602635647606e-05"
      ]
     },
     "execution_count": 32,
     "metadata": {},
     "output_type": "execute_result"
    }
   ],
   "source": [
    "D = E/(N*(N-1))\n",
    "D"
   ]
  },
  {
   "cell_type": "markdown",
   "metadata": {},
   "source": [
    "As we can see, this is a sparse graph since the density measurement is close to zero."
   ]
  },
  {
   "cell_type": "markdown",
   "metadata": {},
   "source": [
    "## [RQ2] \n",
    "### Given a category $C_0 = \\{article_1, article_2, \\dots \\}$ as input we want to rank all of the nodes in $N$."
   ]
  },
  {
   "cell_type": "markdown",
   "metadata": {},
   "source": [
    "### Block-ranking\n",
    "\n",
    "We define de block ranking as:\n",
    "$ block_{RANKING} =\\begin{bmatrix} C_0 \\\\ C_1 \\\\ \\dots \\\\ C_c\\\\ \\end{bmatrix}$"
   ]
  },
  {
   "cell_type": "markdown",
   "metadata": {},
   "source": [
    "The first category of the rank, $C_0$, always corresponds to the input category. The order of the remaining categories is given by:\n",
    "\n",
    "$distance(C_0, C_i) = median(ShortestPath(C_0, C_i))$\n",
    "\n",
    "The lower is the distance from $C_0$, the higher is the $C_i$ position in the rank. $ShortestPath(C_0, C_i)$ is the set of all the possible shortest paths between the nodes of $C_0$ and $C_i$. \n",
    "\n",
    "Moreover, the length of a path is given by the sum of the weights of the edges it is composed by."
   ]
  },
  {
   "cell_type": "code",
   "execution_count": 38,
   "metadata": {},
   "outputs": [],
   "source": [
    "import ShortestPath\n",
    "import numpy as np\n",
    "from numpy import nanmedian\n",
    "import operator"
   ]
  },
  {
   "cell_type": "markdown",
   "metadata": {},
   "source": [
    "Using the shortest path functions, define in details the file \"ShortestPath_How it works\", and the ScoreCategories function, we are ready to compute our Block Ranking.\n",
    "\n",
    "The ScoreCategories function, takes two categories $C$ and $D$ and computes the score, defined by the median of the set of all shortests paths between $C$ and $D$."
   ]
  },
  {
   "cell_type": "code",
   "execution_count": 39,
   "metadata": {},
   "outputs": [],
   "source": [
    "def ScoreCategories(C, D):\n",
    "    cat_0 = categories_dict[C]\n",
    "    cat_1 = categories_dict[D] \n",
    "    result = []\n",
    "    for article_0 in cat_0:\n",
    "        for article_1 in cat_1:\n",
    "            sp = ShortestPath(article_0, article_1, graph)\n",
    "            if sp is not None:\n",
    "                result.append(sp)\n",
    "    return np.median(result)"
   ]
  },
  {
   "cell_type": "code",
   "execution_count": 44,
   "metadata": {},
   "outputs": [
    {
     "name": "stdout",
     "output_type": "stream",
     "text": [
      "English television actors\n"
     ]
    }
   ],
   "source": [
    "# Input categorie\n",
    "C0 = input()"
   ]
  },
  {
   "cell_type": "code",
   "execution_count": 46,
   "metadata": {},
   "outputs": [
    {
     "name": "stdout",
     "output_type": "stream",
     "text": [
      "score: English television actors English footballers done\n",
      "score: English television actors The Football League players done\n",
      "score: English television actors Association football forwards done\n",
      "score: English television actors Association football goalkeepers done\n",
      "score: English television actors Association football midfielders done\n",
      "score: English television actors Association football defenders done\n",
      "score: English television actors Living people done\n",
      "score: English television actors Year of birth unknown done\n",
      "score: English television actors Harvard University alumni done\n",
      "score: English television actors Major League Baseball pitchers done\n",
      "score: English television actors Members of the United Kingdom Parliament for English constituencies done\n",
      "score: English television actors Indian films done\n",
      "score: English television actors Year of death missing done\n",
      "score: English television actors English cricketers done\n",
      "score: English television actors Year of birth missing (living people) done\n"
     ]
    },
    {
     "name": "stderr",
     "output_type": "stream",
     "text": [
      "C:\\Users\\falli\\Anaconda3\\lib\\site-packages\\numpy\\core\\fromnumeric.py:2957: RuntimeWarning: Mean of empty slice.\n",
      "  out=out, **kwargs)\n",
      "C:\\Users\\falli\\Anaconda3\\lib\\site-packages\\numpy\\core\\_methods.py:80: RuntimeWarning: invalid value encountered in double_scalars\n",
      "  ret = ret.dtype.type(ret / rcount)\n"
     ]
    },
    {
     "name": "stdout",
     "output_type": "stream",
     "text": [
      "score: English television actors Rivers of Romania done\n",
      "score: English television actors Main Belt asteroids done\n",
      "score: English television actors Asteroids named for people done\n",
      "score: English television actors English-language albums done\n",
      "score: English television actors British films done\n",
      "score: English television actors English-language films done\n",
      "score: English television actors American films done\n",
      "score: English television actors Fellows of the Royal Society done\n",
      "score: English television actors People from New York City done\n",
      "score: English television actors American Jews done\n",
      "score: English television actors American television actors done\n",
      "score: English television actors American film actors done\n",
      "score: English television actors Debut albums done\n",
      "score: English television actors Black-and-white films done\n",
      "score: English television actors Year of birth missing done\n",
      "score: English television actors Place of birth missing (living people) done\n",
      "score: English television actors Article Feedback Pilot done\n",
      "score: English television actors American military personnel of World War II done\n",
      "score: English television actors Windows games done\n"
     ]
    }
   ],
   "source": [
    "ranking_dict = {}\n",
    "for key in categories_dict.keys():\n",
    "    if key != C0:\n",
    "        score = ScoreCategories(C0, key)\n",
    "        ranking_dict[key] = score\n",
    "        print(\"score:\", C0, key, \"done\")"
   ]
  },
  {
   "cell_type": "markdown",
   "metadata": {},
   "source": [
    "We have created, the ranking_dict, that is a dictionary, that has as keys all the categories but C0, and as values the score between the categories and C0. Note that, in this case the categories that has no path possible between the categorie and C0, the score is None, that is not define, that's why we change it with a greter number, in order to be last in the ranking, because is the most far away from C0 possible.  "
   ]
  },
  {
   "cell_type": "code",
   "execution_count": 55,
   "metadata": {},
   "outputs": [],
   "source": [
    "for key in ranking_dict.keys():\n",
    "    if ranking_dict[key] != 1.0:\n",
    "        ranking_dict[key] = 999"
   ]
  },
  {
   "cell_type": "code",
   "execution_count": 56,
   "metadata": {},
   "outputs": [
    {
     "data": {
      "text/plain": [
       "{'English footballers': 1.0,\n",
       " 'The Football League players': 1.0,\n",
       " 'Association football forwards': 1.0,\n",
       " 'Association football goalkeepers': 1.0,\n",
       " 'Association football midfielders': 1.0,\n",
       " 'Association football defenders': 1.0,\n",
       " 'Living people': 1.0,\n",
       " 'Year of birth unknown': 1.0,\n",
       " 'Harvard University alumni': 1.0,\n",
       " 'Major League Baseball pitchers': 1.0,\n",
       " 'Members of the United Kingdom Parliament for English constituencies': 1.0,\n",
       " 'Indian films': 1.0,\n",
       " 'Year of death missing': 1.0,\n",
       " 'English cricketers': 1.0,\n",
       " 'Year of birth missing (living people)': 1.0,\n",
       " 'Rivers of Romania': 999,\n",
       " 'Main Belt asteroids': 1.0,\n",
       " 'Asteroids named for people': 1.0,\n",
       " 'English-language albums': 1.0,\n",
       " 'British films': 1.0,\n",
       " 'English-language films': 1.0,\n",
       " 'American films': 1.0,\n",
       " 'Fellows of the Royal Society': 1.0,\n",
       " 'People from New York City': 1.0,\n",
       " 'American Jews': 1.0,\n",
       " 'American television actors': 1.0,\n",
       " 'American film actors': 1.0,\n",
       " 'Debut albums': 1.0,\n",
       " 'Black-and-white films': 1.0,\n",
       " 'Year of birth missing': 1.0,\n",
       " 'Place of birth missing (living people)': 1.0,\n",
       " 'Article Feedback Pilot': 1.0,\n",
       " 'American military personnel of World War II': 1.0,\n",
       " 'Windows games': 1.0}"
      ]
     },
     "execution_count": 56,
     "metadata": {},
     "output_type": "execute_result"
    }
   ],
   "source": [
    "ranking_dict"
   ]
  },
  {
   "cell_type": "markdown",
   "metadata": {},
   "source": [
    "We define ranking, as a list that contains all the categories, sorted by score, where the input categorie is the first one."
   ]
  },
  {
   "cell_type": "code",
   "execution_count": 57,
   "metadata": {},
   "outputs": [
    {
     "data": {
      "text/plain": [
       "['English television actors',\n",
       " 'English footballers',\n",
       " 'The Football League players',\n",
       " 'Association football forwards',\n",
       " 'Association football goalkeepers',\n",
       " 'Association football midfielders',\n",
       " 'Association football defenders',\n",
       " 'Living people',\n",
       " 'Year of birth unknown',\n",
       " 'Harvard University alumni',\n",
       " 'Major League Baseball pitchers',\n",
       " 'Members of the United Kingdom Parliament for English constituencies',\n",
       " 'Indian films',\n",
       " 'Year of death missing',\n",
       " 'English cricketers',\n",
       " 'Year of birth missing (living people)',\n",
       " 'Main Belt asteroids',\n",
       " 'Asteroids named for people',\n",
       " 'English-language albums',\n",
       " 'British films',\n",
       " 'English-language films',\n",
       " 'American films',\n",
       " 'Fellows of the Royal Society',\n",
       " 'People from New York City',\n",
       " 'American Jews',\n",
       " 'American television actors',\n",
       " 'American film actors',\n",
       " 'Debut albums',\n",
       " 'Black-and-white films',\n",
       " 'Year of birth missing',\n",
       " 'Place of birth missing (living people)',\n",
       " 'Article Feedback Pilot',\n",
       " 'American military personnel of World War II',\n",
       " 'Windows games',\n",
       " 'Rivers of Romania']"
      ]
     },
     "execution_count": 57,
     "metadata": {},
     "output_type": "execute_result"
    }
   ],
   "source": [
    "# All the sorted categories, but C0\n",
    "L = sorted(ranking_dict, key=ranking_dict.__getitem__)\n",
    "ranking = [C0]\n",
    "ranking = ranking + L\n",
    "# Thw complete ranking list, including C0\n",
    "ranking"
   ]
  },
  {
   "cell_type": "markdown",
   "metadata": {},
   "source": [
    "Finally, we got the block ranking vector, so we can start to sort the nodes in each category.\n",
    "\n",
    "We will sort them computing subgraph induced by each category, following the order of the block ranking vector. The procedure to get subgraph induced by c0 is different from that used for the other categories, because there aren't previous category to c0 in the block ranking vector. So we will compute it separately from the others."
   ]
  },
  {
   "cell_type": "markdown",
   "metadata": {},
   "source": [
    "First of all, we create a new dictionary (graph_1) within which, for each article in the \"Destination\" column of the dataframe categories, there is a list of all the articles in the \"Source\" column that reach this article. This step is essential to build subgraphs."
   ]
  },
  {
   "cell_type": "code",
   "execution_count": 58,
   "metadata": {},
   "outputs": [],
   "source": [
    "edges = list(zip(articles_graph.Destination, articles_graph.Source))"
   ]
  },
  {
   "cell_type": "code",
   "execution_count": 59,
   "metadata": {},
   "outputs": [],
   "source": [
    "graph_1 = defaultdict(list)\n",
    "for i in range(len(edges)):\n",
    "    key = edges[i][0]\n",
    "    value = edges[i][1]\n",
    "    graph_1[key].append(value)"
   ]
  },
  {
   "cell_type": "code",
   "execution_count": 60,
   "metadata": {},
   "outputs": [],
   "source": [
    "# Now we can compute the subgraph induced by c0. We record the score of each article of c0 in a dictionary \n",
    "W_c0=defaultdict(int)\n",
    "for node in categories_dict[ranking[0]]:\n",
    "    w=len(graph_1[node])\n",
    "    W_c0[node]=w"
   ]
  },
  {
   "cell_type": "code",
   "execution_count": 62,
   "metadata": {},
   "outputs": [
    {
     "name": "stdout",
     "output_type": "stream",
     "text": [
      "defaultdict(<class 'int'>, {'1044787': 74, '1034389': 7, '1080500': 1, '1039577': 28, '1039555': 152, '719743': 0, '1042587': 16, '1040705': 1, '1180951': 61, '1037871': 3, '1789734': 1, '1033451': 0, '1339329': 0, '1034249': 8, '1035363': 0, '724793': 12, '1061561': 113, '1470395': 1, '1061003': 62, '1035859': 2, '255982': 6, '1035088': 5, '1040055': 2, '1059228': 52, '1034044': 35, '1064458': 27, '1036255': 39, '1040397': 3, '1033666': 5, '1034477': 26, '1165447': 24, '376202': 1, '1028673': 6, '1040328': 3, '1316598': 0, '1042702': 30, '1040359': 15, '1035259': 1, '1038366': 24, '1355914': 1, '1045397': 10, '1039440': 7, '631984': 5, '1033505': 5, '1046374': 22, '1039414': 16, '1063689': 26, '722720': 5, '739530': 6, '604272': 0, '719512': 2, '1040307': 10, '1061449': 317, '1031682': 2, '1033956': 6, '1031754': 6, '1033941': 3, '1043877': 6, '1038279': 12, '430782': 1, '1035182': 4, '1037657': 2, '1039973': 25, '1043169': 37, '1032713': 1, '1035448': 0, '1040190': 4, '1033579': 2, '813340': 1, '1034720': 3, '1034135': 5, '1032937': 3, '720007': 3, '1225485': 33, '1042788': 19, '1035249': 7, '96274': 1, '208941': 2, '1031725': 2, '1033904': 6, '1034640': 3, '1131761': 2, '1033500': 2, '1033503': 3, '1038140': 4, '1044173': 12, '1039620': 12, '1038314': 3, '151506': 2, '1044149': 15, '1061142': 85, '1032947': 8, '1039516': 26, '1043024': 61, '1037084': 3, '1043852': 6, '1070197': 7, '1040650': 24, '1506080': 0, '1039449': 3, '1034040': 58, '1035799': 7, '1038280': 7, '1036260': 16, '1034252': 11, '1039447': 28, '839836': 0, '1040879': 6, '769195': 0, '1742772': 1, '1034344': 1, '1040049': 57, '1034662': 10, '1040104': 9, '1042845': 59, '1265724': 83, '1339117': 1, '1036975': 4, '1031534': 2, '1033421': 4, '1043478': 28, '1034543': 68, '1043624': 16, '165140': 0, '1044840': 106, '1237534': 6, '1689661': 1, '1035399': 8, '1034049': 10, '1042843': 47, '1169511': 9, '1033929': 4, '1039945': 15, '1037892': 6, '72636': 3, '1039943': 21, '719728': 2, '1034658': 5, '1790194': 1, '1037415': 1, '1035226': 2, '1040431': 11, '1042664': 40, '1036415': 17, '1036403': 20, '1039639': 6, '1039338': 27, '1040573': 4, '1042811': 73, '1040167': 2, '1037372': 0, '1035027': 7, '1040801': 17, '1437049': 2, '1504105': 13, '1039374': 9, '632907': 6, '1034635': 5, '1032532': 0, '1033299': 2, '1043671': 11, '1443392': 5, '1033549': 18, '1037599': 0, '1036552': 11, '1035064': 1, '1043567': 11, '1044186': 10, '1059300': 77, '1035202': 1, '1058269': 43, '1236408': 32, '1035118': 4, '1316571': 0, '719996': 1, '1038352': 14, '1038025': 1, '1033914': 3, '769078': 2, '1039360': 11, '1034120': 25, '1039627': 7, '627215': 1, '1034837': 0, '1039075': 2, '1058135': 31, '1061672': 106, '1034033': 31, '1449184': 82, '1035295': 0, '1039750': 56, '1035048': 8, '1038799': 13, '1043163': 31, '1064185': 36, '1502328': 18, '438370': 5, '1036353': 38, '1033489': 4, '1033980': 3, '1040073': 10, '1449187': 15, '1504905': 9, '1790164': 2, '1034362': 4, '1031715': 0, '1035235': 5, '1033440': 5, '1043092': 41, '1784051': 1, '1034704': 11, '1034102': 5, '1038486': 7, '1503368': 11, '1032874': 0, '1040123': 7, '1775813': 2, '1775296': 0, '1044300': 3, '1790413': 54, '1040525': 7, '1039993': 34, '1037346': 2, '1044490': 11, '1376587': 26, '1039977': 9, '719992': 1, '1038270': 10, '1248068': 0, '1037422': 2, '1034200': 4, '1036051': 4, '1037844': 5, '430662': 1, '878093': 5, '1036254': 87, '1033517': 34, '1034321': 11, '1037403': 2, '1037988': 2, '1037941': 1, '1039942': 1, '631265': 0, '1116081': 2, '1039838': 15, '1033014': 8, '1032993': 3, '1043054': 11, '1040603': 0, '1038138': 5, '1065016': 42, '1040746': 1, '1037445': 1, '1042958': 35, '1031238': 1, '719943': 5, '1042697': 51, '1037973': 2, '1042910': 33, '1181824': 13, '1382109': 2, '1031539': 4, '1033475': 4, '1034349': 8, '1035028': 11, '1039978': 3, '1040778': 2, '1034168': 6, '1034498': 2, '1484337': 2, '1790514': 2, '1040330': 0, '1036221': 38, '1184837': 51, '1369852': 1, '350088': 0, '1038096': 5, '1039742': 7, '1038092': 5, '790429': 6, '1790320': 17, '1064072': 46, '1033362': 2, '1043450': 9, '1716702': 1, '1044243': 7, '1371299': 28, '1041093': 2, '612371': 2, '1042384': 24, '1035881': 15, '1034563': 3, '719713': 1, '1061411': 188, '1357128': 1, '1033902': 6, '1034082': 6, '1037958': 0, '1050383': 2, '1163931': 36, '1037585': 5, '1044745': 12, '1032691': 1, '401893': 2, '1033609': 0, '1061698': 134, '1034676': 12, '1163840': 55, '1033751': 0, '1031574': 3, '1037880': 12, '1790511': 12, '1035899': 8, '1043122': 23, '1037274': 2, '1034171': 15, '1033689': 6, '1033434': 3, '1031585': 2, '1502330': 3, '1036022': 12, '1038262': 95, '1037571': 0, '1040036': 9, '1034659': 14, '1033967': 3, '1034014': 6, '1039865': 0, '1036503': 2, '1040808': 19, '1044293': 20, '1035017': 1, '1044386': 11, '1035253': 9, '1038977': 6, '1034727': 7, '164301': 0, '1034185': 4, '1043889': 8, '1036658': 72, '1033669': 8, '629363': 24, '1036252': 13, '1036239': 88, '1039558': 7, '1040130': 1, '1044132': 20, '1074708': 3, '1039992': 41, '1033844': 2, '1044302': 45, '1034690': 0, '1040352': 1, '1163246': 59, '1033115': 4, '1042831': 75, '1040128': 3, '1049770': 0, '1376015': 18, '1033960': 14, '373339': 3, '1035176': 9, '1044541': 8, '1034024': 1, '1787107': 1, '1033944': 5, '1033311': 1, '151482': 1, '1078003': 3, '1039499': 13, '1031645': 7, '1037327': 13, '1044336': 8, '1038004': 0, '1038145': 1, '1035803': 4, '1042614': 66, '343202': 2, '1031724': 4, '1065764': 18, '1316609': 1, '1041480': 3, '1035440': 0, '1031420': 5, '1036305': 17, '1043842': 6, '1034410': 2, '1033740': 0, '1319444': 2, '1044134': 24, '1036190': 64, '1040885': 10, '1038362': 2, '1039989': 23, '1060788': 44, '1786759': 5, '559999': 0, '1044842': 19, '1037349': 6, '1040316': 0, '1040732': 2, '1037385': 2, '719911': 0, '1034772': 11, '1033921': 8, '1036668': 2, '1377375': 1, '1040567': 4, '691547': 2, '1039623': 21, '1640862': 1, '1080359': 4, '1044317': 28, '1031521': 3, '1042381': 74, '1033792': 1, '1047312': 3, '1775358': 1, '1033391': 3, '1034605': 33, '1224548': 11, '1339315': 2, '559899': 1, '689051': 1, '1035169': 16, '1037105': 1, '1038165': 1, '1316580': 3, '1034763': 7, '146728': 7, '1578873': 1, '1034452': 48, '1236244': 7, '1034224': 9, '1037389': 3, '1034429': 0, '1040033': 3, '1043051': 27, '1062942': 26, '1034395': 14, '1037468': 0, '1039520': 44, '1065749': 20, '1504288': 1, '1031586': 0, '1044254': 16, '1039785': 13, '1066922': 26, '1034458': 33, '1043714': 9, '1042813': 83, '1044944': 7, '1038008': 0, '1040371': 3, '826282': 1, '1039495': 26, '340938': 3, '1033908': 11, '1040763': 1, '1039821': 7, '1033939': 6, '1033671': 4, '343409': 1, '1060496': 101, '1449143': 97, '1034546': 5, '1040508': 3, '1062677': 87, '1045970': 7, '1037106': 4, '1043684': 23, '1044199': 27, '1031538': 4, '109867': 3, '1032422': 1, '1034238': 3, '1039526': 24, '1033525': 21, '765030': 3, '1031171': 1, '719730': 0, '1504427': 3, '1040098': 6, '1035435': 2, '1034587': 6, '1043543': 6, '1033568': 5, '1038000': 6, '1034923': 1, '1037989': 1, '1044179': 9, '1034280': 22, '1061670': 113, '1038266': 8, '1044061': 29, '220519': 1, '1770855': 2, '1039488': 5, '1042572': 14, '1034555': 11, '1037512': 1, '1043916': 29, '1043429': 68, '1038051': 14, '1043917': 10, '1038586': 3, '1019609': 1, '1033035': 4, '1034093': 6, '1032880': 2, '1036114': 55, '1035013': 0, '1498379': 1, '1034197': 8, '499543': 4, '1061597': 115, '1064741': 27, '1039994': 25, '1790369': 11, '1033889': 24, '1339113': 2, '1447805': 2, '1042921': 21, '1073816': 3, '1060398': 98, '776424': 6, '1041368': 1, '1484777': 10, '1034295': 2, '1598253': 27, '1033860': 2, '559813': 12, '1062430': 73, '830739': 1, '1036931': 0, '1037893': 12, '1033564': 1, '1273982': 21, '1034529': 9, '1034833': 8, '1063229': 62, '1037279': 1, '1048492': 1, '1034166': 17, '1034913': 0, '1040692': 4, '1044121': 37, '1047310': 3, '1034596': 7, '1036251': 39, '1035285': 2, '1033376': 5, '1034875': 76, '1035864': 18, '1043788': 22, '928090': 4, '1033593': 0, '1040064': 20, '1040736': 4, '1043614': 21, '1034106': 3, '1178493': 230, '1042492': 8, '1037600': 3, '633298': 27, '1042847': 48, '1034988': 0, '771518': 3, '1562086': 1, '1164711': 47, '1040326': 2, '1033633': 6, '1033949': 11, '1035986': 12, '1210872': 2, '1042990': 38, '1035163': 5, '1036123': 13, '1035784': 26, '1034487': 31, '1036021': 23, '1044255': 55, '1044788': 52, '1032886': 9, '1060267': 61, '1790647': 1, '1031078': 2, '1033294': 6, '1044405': 9, '1042658': 56, '1038133': 6, '1035164': 3, '1339301': 1, '1034335': 2, '1042379': 21, '1034530': 34, '1039965': 19, '1035223': 1, '1039022': 0, '1040765': 5, '1040311': 1, '1035038': 12, '1038134': 1, '921042': 1, '1034743': 8, '1042769': 15, '1035238': 10, '1339302': 1, '1057943': 22, '1037555': 9, '1042285': 7, '1041740': 49, '1043625': 14, '1038860': 26, '1042351': 4, '1034026': 21, '1033968': 5, '1790291': 3, '1047095': 2, '1042261': 15, '1034154': 16, '1033366': 3, '1033936': 9, '1037853': 4, '1573471': 11, '1034759': 4, '1039582': 31, '1038242': 45, '430749': 9, '1034668': 4, '1039642': 18, '1035789': 16, '1504511': 2, '1790487': 4, '739131': 6, '1035815': 7, '1045699': 36, '1044227': 11, '1040324': 4, '1584232': 4, '1040496': 6, '1038937': 17, '1039595': 26, '1032942': 4, '1584263': 5, '1033942': 1, '1074710': 0, '1033877': 2, '1061759': 89, '719647': 2, '1035296': 0, '1035312': 2, '1033351': 0, '1036737': 3, '1042411': 14, '1042593': 13, '1034240': 4, '1339252': 1, '632016': 2, '1034645': 4, '1790163': 3, '1031498': 3, '1033587': 2, '1034696': 3, '1035297': 2, '1036128': 21, '1033918': 6, '1034262': 7, '1034551': 0, '612369': 9, '1580819': 1, '1044185': 37, '1044493': 9, '1037224': 10, '1044141': 14, '1035258': 7, '1489449': 2, '1035252': 3, '210755': 1, '1034110': 8, '1033450': 1, '1037407': 0, '1042589': 51, '1222215': 5, '1790466': 80, '1035447': 1, '1040520': 0, '1033324': 0, '1598218': 1, '1036487': 4, '1035442': 1, '1033732': 1, '53495': 1, '1035669': 9, '1035350': 8, '1033093': 9, '1034561': 7, '1037054': 4, '1034575': 13, '1036618': 1, '1033591': 4, '1058478': 25, '1031557': 5, '1395102': 0, '1047441': 2, '1040095': 2, '1181601': 12, '1039850': 11, '800257': 0, '1034004': 5, '1040466': 0, '1683476': 1, '637619': 1, '1043349': 35, '1039017': 19, '1040005': 8, '1039508': 23, '1038916': 36, '1038041': 0, '1042753': 29, '1036376': 31, '134497': 4, '719939': 3, '1035457': 10, '1034599': 3, '137747': 1, '1038979': 11, '1040454': 1, '1033180': 7, '1371297': 6, '765203': 0, '1039645': 28, '1034783': 0, '1033970': 5, '1037559': 4, '1041534': 6, '1044194': 28, '1032875': 0, '1061835': 170, '1035229': 4, '1034746': 6, '1031613': 1, '1035246': 4, '1035033': 4, '1035337': 1, '1040435': 11, '1041703': 30, '1040756': 0, '1061673': 184, '1033580': 1, '1043524': 1, '1035530': 2, '1037716': 5, '1043617': 6, '1082005': 1, '1062070': 142, '1039427': 1, '1033996': 8, '1033786': 0, '1033868': 3, '1371276': 0, '1069792': 65, '1039215': 3, '1034478': 13, '369362': 1, '1039698': 2, '1253518': 5, '1316592': 0, '719990': 2, '1037260': 0, '1039922': 15, '1069790': 27, '1179564': 101, '1033809': 2, '1060813': 31, '1031562': 5, '1033024': 0, '1034041': 3, '1034753': 4, '1449140': 1, '1035827': 0, '965901': 1, '1040062': 10, '1044658': 124, '696665': 1, '256816': 1, '1042854': 36, '1790076': 4, '1037429': 6, '1039737': 17, '1044135': 39, '1037225': 8, '1037378': 5, '205296': 0, '94198': 2, '1036479': 9, '1042980': 16, '1562089': 0, '1034341': 6, '1224649': 2, '1036484': 5, '1037412': 4, '1037965': 4, '1502329': 0, '720174': 1, '247476': 5, '1035284': 2, '1037611': 10, '1034377': 9, '1039761': 5, '1038129': 1, '1043217': 21, '1035449': 2, '1038021': 1, '743827': 22, '1034372': 21, '1034773': 4, '1059716': 13, '545329': 3, '1043362': 46, '1036784': 2, '1789867': 2, '1034133': 5, '1042386': 16, '1674374': 1, '1035230': 1, '1034388': 1, '1037373': 10, '1062938': 100, '1503353': 6, '1034434': 17, '1033924': 5, '1035855': 1, '1039444': 38, '1033064': 4, '1038335': 10, '1036304': 62, '1037393': 9, '1691876': 3, '1033467': 5, '1775449': 1, '1790528': 11, '1035243': 18, '1036225': 63, '555866': 3, '1035042': 6, '1036034': 12, '1040398': 10, '1151994': 0, '419816': 1, '1039482': 7, '1034413': 35, '1034328': 1, '1037975': 4, '1038991': 9, '1790339': 52, '1037270': 0, '1047196': 4, '627823': 0, '1044244': 12, '1236210': 10, '1288034': 1, '84078': 0, '1050160': 4, '1043470': 17, '1039959': 5, '1037980': 0, '769196': 0, '719916': 2, '1789868': 20, '1066755': 13, '1068453': 17, '1034027': 9, '1046036': 12, '1033066': 10, '1033923': 8, '1151993': 0, '699576': 3, '1038941': 14, '1035443': 2, '1037034': 8, '1039394': 14, '1043376': 24, '1060397': 82, '1031771': 0, '1033512': 31, '1038981': 5, '1200691': 2, '1316599': 2, '1043490': 40, '1035098': 14, '1034176': 6, '1316712': 3, '1032297': 2, '402899': 0, '1037651': 26, '1064097': 15, '722732': 0, '628232': 1, '1165634': 10, '1037536': 5, '1775644': 1, '1039860': 3, '1034580': 6, '1034207': 23, '1578912': 1, '1040481': 0, '1034602': 8, '1034125': 12, '1035926': 0, '1039792': 18, '1033846': 24, '769189': 7, '1038365': 25, '1033514': 4, '1033922': 8, '1053110': 0, '1130907': 22, '1039541': 6, '1033861': 1, '573334': 10, '812265': 7, '1164983': 29, '1033805': 4, '1177154': 32, '677905': 10, '1039563': 10, '1039588': 13, '1034817': 0, '1038142': 1, '1039513': 1, '1375301': 3, '1043971': 5, '1031545': 1, '1061704': 79, '1034775': 14, '1043358': 32, '1038050': 16, '774447': 7, '650472': 0, '1034617': 9, '1037401': 3, '1036404': 14, '1163478': 103, '560273': 1, '1033596': 4, '1790462': 8, '1034568': 5, '1036428': 20, '1037530': 6, '1070204': 1, '1163451': 88, '559891': 1, '1037718': 5, '1032948': 12, '1039995': 31, '1041063': 1, '1031738': 2, '1034723': 14, '1032274': 4, '1031537': 1, '1039564': 2, '1039390': 6, '1036111': 13, '1037985': 0, '1033560': 4, '1035003': 3, '1042743': 18, '769187': 7, '1044337': 6, '1038042': 0, '1042235': 2, '719722': 1, '1043638': 4, '1034134': 1, '1037434': 15, '1037303': 4, '1039629': 1, '1041709': 41, '1039801': 7, '1790381': 11, '1062058': 161, '1786823': 1, '1035147': 9, '1040839': 4, '1033460': 0, '1044457': 26, '1036394': 7, '1034639': 9, '1033900': 22, '769177': 1, '1044180': 22, '1033431': 19, '1038027': 7, '1039946': 6, '1035451': 2, '1039966': 10, '1788352': 5, '680129': 0, '954245': 7, '1039158': 14, '1044171': 25, '1031533': 1, '1627749': 6, '719882': 2, '1039384': 12, '1039077': 24, '1175767': 46, '1339277': 5, '1039974': 39, '1183358': 15, '1163362': 21, '1044131': 8, '1043137': 43, '1047382': 1, '1790539': 1, '634226': 2, '1031593': 5, '1038449': 2, '1044373': 6, '1037903': 2, '830390': 0, '921018': 0, '1790489': 8, '1035924': 12, '1508222': 5, '1035218': 3, '1035035': 2, '1042366': 19, '1193151': 35, '1037902': 9, '1034149': 1, '1037648': 2, '1046932': 2, '1036264': 42, '1044850': 4, '1036347': 187, '1040428': 14, '719771': 1, '1040475': 3, '1129897': 3, '175252': 2, '1037905': 1, '1042762': 30, '1042820': 50, '1339064': 1, '1035224': 0, '749268': 4, '1031799': 7, '1039951': 5, '1042916': 35, '1034182': 0, '1039624': 20, '627081': 7, '1035262': 6, '1037669': 22, '1038124': 2, '1036035': 10, '769159': 2, '1236337': 4, '1040680': 0, '1043518': 13, '1058406': 17, '1039480': 9, '1033937': 5, '1035913': 33, '430720': 18, '1036402': 26, '1036056': 5, '1040282': 1, '1040677': 4, '1040023': 15, '1056236': 3, '1151985': 1, '1224748': 9, '1034043': 18, '1034758': 1, '1468159': 3, '1790580': 3, '1036246': 7, '1039147': 8, '1036121': 34, '1505933': 10, '1037469': 1, '1044707': 6, '145391': 1, '1034446': 13, '1002309': 1, '1038257': 100, '1044175': 25, '1035352': 1, '1043545': 11, '1039514': 0, '1039496': 30, '1062159': 242, '1040318': 1, '1036544': 3, '1035866': 3, '1036371': 23, '1042981': 21, '1067687': 34, '1035874': 37, '430686': 1, '1032706': 4, '1253835': 15, '1036814': 3, '1034567': 7, '1034687': 3, '1063096': 42, '1033798': 10, '1045127': 1, '1038294': 12, '1037517': 1, '1039567': 16, '1041530': 2, '1722205': 1, '1151897': 10, '1034376': 44, '1569665': 1, '1067681': 24, '628769': 1, '1034627': 5, '1211728': 9, '1062944': 32, '1034086': 4, '772615': 20, '1033389': 13, '1033901': 16, '1036359': 20, '1062748': 146, '1034420': 44, '1036575': 1, '1062746': 107, '559696': 1, '1037848': 3, '1038076': 5, '1037659': 18, '1039435': 11, '720008': 0, '1502277': 2, '1037964': 3, '634045': 8, '1316620': 0, '1033034': 9, '1042913': 60, '794015': 0, '1034459': 31, '1037558': 3, '1043875': 7, '1044049': 14, '1068380': 15, '247467': 3, '1059162': 31, '1037318': 3, '1075352': 2, '1039404': 5, '146750': 8, '1040366': 9, '1042253': 3, '1031768': 2, '1033768': 35, '1040800': 0, '1044120': 16, '1043249': 32, '774705': 16, '1061831': 112, '1042987': 33, '1034307': 1, '1036968': 3, '830590': 1, '166620': 18, '1039155': 7, '1034063': 7, '1040341': 0, '1065235': 25, '1060402': 77, '1044127': 36, '1034129': 18, '1034764': 0, '1034156': 5, '1034507': 8, '1037920': 1, '1040830': 0, '1038683': 1, '1043426': 24, '1064934': 49, '1339284': 5, '1042297': 7, '1039585': 4, '1042468': 18, '1037471': 2, '1775274': 0, '1033535': 5, '1790175': 1, '1041659': 20, '720034': 1, '1034583': 8, '1044456': 18, '1039458': 15, '1038009': 0, '1040869': 4, '1078573': 4, '1448316': 2, '1040620': 2, '1040317': 1, '1034393': 56, '1033984': 6, '1042476': 6, '1035934': 1, '1033794': 2, '1040582': 1, '1038990': 0, '1246217': 9, '1033578': 1, '1032338': 4, '1037061': 7, '1033876': 2, '1032992': 2, '1040010': 3, '1044792': 132, '1042275': 4, '430640': 2, '1043521': 11, '1035422': 9, '1031732': 1, '1034227': 3, '1034278': 11, '1034613': 27, '1036344': 34, '1040020': 76, '1034363': 30, '1058523': 31, '1037758': 9, '1044083': 57, '1034390': 6, '1038326': 10, '1033988': 11, '1038533': 8, '1033865': 20, '1060736': 34, '633965': 0, '1164842': 32, '423988': 3, '1039676': 5, '1044290': 11, '1039070': 11, '1044076': 35, '1224572': 3, '1037058': 1, '1033950': 0, '1056666': 8, '1037313': 2, '1039553': 6, '940353': 3, '1034085': 28, '1034975': 1, '1041021': 0, '1031793': 1, '1035266': 1, '94537': 0, '1034387': 15, '1775587': 9, '612388': 2, '1046999': 2, '1033096': 4, '1288249': 0, '1034762': 3, '1038086': 61, '1035797': 51, '1040357': 6, '1035152': 26, '1039452': 8, '1040649': 19, '1044130': 9, '1037272': 1, '630760': 2, '1044157': 25, '749634': 0, '1718655': 0, '1040113': 16, '1033897': 56, '1031520': 1, '1034353': 6, '1042710': 16, '1035279': 1, '1042416': 8, '1034239': 5, '1039769': 21, '1034672': 2, '1033459': 4, '1034047': 8, '1039919': 5, '1786982': 2, '1046953': 3, '1037087': 11, '1505695': 1, '1039969': 46, '1054885': 17, '1043838': 10, '1339346': 0, '1036693': 1, '1037887': 0, '640277': 1, '1037343': 1, '1039621': 2, '1031608': 3, '1038628': 5, '1775863': 1, '722733': 14, '1060603': 37, '1034301': 10, '290953': 2, '820833': 6, '1044198': 40, '1039641': 10, '1039518': 14, '1044206': 14, '1034072': 17, '1040288': 0, '1044000': 5, '1506250': 2, '1058133': 35, '1034348': 3, '1044068': 6, '1039867': 0, '1162073': 13, '1033886': 3, '1039659': 8, '1034147': 17, '1040445': 4, '1035302': 0, '672519': 2, '1786762': 43, '1266003': 60, '1033833': 10, '1039018': 11, '1039734': 30, '1033454': 4, '1034195': 4, '1034428': 47, '1036237': 48, '1042673': 22, '1042830': 56, '1598150': 5, '1037867': 10, '1062415': 68, '920874': 0, '401983': 135, '1031769': 1, '1037521': 1, '1033779': 0, '1035175': 6, '1035112': 1, '1040623': 5, '1035260': 5, '1040295': 1, '719657': 27, '1598162': 9, '1035058': 6, '92536': 2, '1033969': 4, '1044236': 7, '1063583': 35, '1790348': 15, '1040077': 1, '1043541': 108, '758827': 5, '1573748': 1, '1033957': 1, '1034234': 6, '1034255': 13, '1033945': 7, '1062948': 77, '1031765': 1, '1031721': 3, '1034626': 2, '1776692': 0, '1034571': 8, '1040132': 18, '1035454': 2, '559668': 1, '1033791': 4, '1034378': 4, '1036326': 37, '1035800': 4, '1502534': 64, '1039968': 36, '1033774': 0, '1037932': 3, '1033912': 21, '1044075': 87, '1034993': 1, '1040819': 75, '1033470': 2, '1055645': 23, '1034036': 15, '672763': 4, '247485': 5, '1039559': 43, '559701': 1, '1037481': 1, '634221': 5, '1039545': 23, '1790471': 33, '1039935': 3, '1034270': 21, '813346': 1, '1034464': 60, '1034219': 27, '1043991': 9, '1038235': 26, '1033316': 1, '1042818': 62, '1038457': 1, '1033530': 18, '634242': 10, '1039573': 19, '1163590': 58, '1040313': 1, '1188518': 11, '392767': 2, '1035034': 17, '1039870': 4, '1035008': 1, '1035041': 14, '1037411': 5, '1034308': 2, '1290986': 0, '1034124': 13, '1042080': 57, '1033543': 7, '720021': 0, '1042732': 20, '1044275': 14, '1475382': 2, '1040221': 3, '1039853': 4, '1032655': 1, '1339311': 5, '1035150': 10, '1034115': 9, '1033537': 8, '1034186': 1, '1039921': 7, '1035203': 3, '1040182': 23, '774802': 1, '827270': 2, '1054502': 10, '1064316': 26, '1034397': 4, '1036659': 40, '1034340': 0, '1062082': 46, '1034584': 2, '1039649': 18, '1787248': 1, '1036011': 15, '1039987': 37, '1038087': 15, '1039747': 0, '1453881': 3, '1253580': 0, '1034810': 1, '1031547': 0, '1504365': 2, '1437174': 14, '1035256': 2, '1038952': 7, '1043709': 3, '1070469': 12, '1034518': 20, '1042266': 7, '1775631': 3, '1040770': 4, '1775290': 2, '1035095': 5, '1040031': 4, '1035395': 0, '1253780': 4, '632814': 26, '1040383': 17, '1034221': 7, '1033142': 13, '1040817': 6, '1031785': 0, '1042940': 61, '1034332': 8, '1034077': 33, '1068039': 8, '1061006': 73, '1787172': 2, '1034456': 31, '1039584': 8, '1035313': 4, '1224268': 9, '1040009': 5, '1034199': 1, '1031116': 1, '1035398': 2, '1034415': 13, '1236560': 3, '1031509': 0, '1036234': 72, '1037107': 3, '1037847': 11, '1033820': 38, '1034786': 2, '1035957': 21, '1036198': 4, '633526': 1, '1034042': 9, '1036510': 1, '1038246': 41, '1032540': 1, '699568': 1, '1040030': 21, '1038939': 16, '1043603': 3, '1031758': 2, '1035322': 0, '1034547': 11, '1037535': 3, '1035373': 5, '1059278': 14, '1031600': 3, '1033528': 9, '1033546': 9, '1034414': 0, '1034834': 2, '1036052': 114, '1038609': 9, '1057903': 199, '1034180': 13, '1035228': 1, '1043435': 38, '1042388': 20, '1035031': 4, '1042364': 20, '1036448': 5, '1042884': 9, '1031565': 3, '1039574': 32, '1048485': 1, '1037329': 3, '1033561': 10, '1035103': 0, '1034178': 14, '1040587': 9, '1787080': 1, '1522769': 0, '1043984': 4, '1033041': 3, '1211166': 0, '1031643': 4, '1040695': 2, '1044153': 9, '1033919': 5, '1034334': 39, '1036271': 23, '1038049': 30, '1371302': 10, '1039474': 2, '1033641': 2, '1032290': 0, '1062751': 88, '1217879': 1, '1503159': 4, '1043542': 16, '1034778': 1, '1038653': 18, '1037937': 7, '725497': 2, '1035049': 3, '1316601': 2, '1038679': 4, '1034213': 12, '480173': 9, '1339299': 5, '1033289': 0, '1031708': 0, '210464': 4, '1040767': 32, '1033926': 14, '1775198': 1, '1034711': 21, '1035070': 4, '672498': 1, '1034345': 4, '158111': 3, '1040323': 3, '1042274': 0, '628785': 7, '1077787': 2, '1790362': 77, '1061933': 134, '1035283': 3, '1040109': 1, '1165422': 19, '1037413': 4, '1033916': 2, '1034829': 1, '1040076': 7, '1042264': 15, '1056728': 58, '1043348': 18, '1034105': 17, '1039467': 29, '1039521': 8, '1037387': 3, '1042533': 30, '1339278': 2, '1037368': 11, '1039502': 16, '1035020': 0, '1039718': 6, '1041942': 23, '769186': 4, '1033453': 1, '699580': 5, '1037055': 14, '1039592': 34, '1033810': 10, '1034371': 23, '1032081': 1, '1034202': 3, '1063801': 20, '704132': 0, '1039571': 42, '1236544': 10, '1042829': 61, '1037062': 0, '1037507': 2, '1069788': 61, '774423': 28, '719894': 1, '1032980': 5, '633740': 7, '637919': 11, '1034032': 9, '1062032': 124, '1034220': 4, '730634': 1, '1039741': 3, '1040678': 9, '1040578': 2, '1043366': 23, '1035239': 3, '1044101': 43, '1043587': 15, '1035832': 11, '1038261': 90, '1041005': 1, '1042262': 55, '1034482': 11, '1034090': 4, '1035195': 4, '1790360': 18, '1057201': 5, '1034089': 1, '1037791': 9, '1033672': 0, '481038': 1, '1039586': 26, '1035291': 4, '1377934': 2, '1031686': 3, '1570740': 1, '1035307': 3, '1059184': 66, '1035236': 7, '1033674': 3, '1036259': 42, '1028024': 2, '1038942': 7, '1063039': 77, '1033832': 25, '1690829': 5, '1034945': 2, '1035690': 6, '1034302': 2, '1031583': 24, '1038361': 27, '1039711': 6, '1689810': 2, '556088': 2, '1033722': 7, '1039932': 2, '1037450': 1, '1046715': 16, '1503276': 18, '1449182': 45, '1035191': 2, '172559': 7, '1035391': 1, '1432075': 1, '720171': 0, '630109': 7, '1040179': 0, '1040836': 1, '1032881': 2, '1040799': 17, '1039658': 21, '1034394': 18, '1034818': 2, '1042383': 47, '1062157': 69, '635905': 11, '469565': 0, '1058438': 30, '1044548': 2, '1037151': 0, '1037356': 8, '1035316': 2, '630970': 1, '1033716': 7, '1035280': 1, '1034579': 4, '1037367': 21, '1034266': 10, '1039692': 21, '1040739': 1, '1040684': 0, '1061958': 136, '1163677': 403, '813337': 13, '1031588': 2, '1032308': 1, '1036429': 2, '1038117': 2, '743795': 6, '1040290': 1, '1061381': 172, '1036173': 20, '1040813': 6, '1034354': 11, '813354': 0, '1032414': 1, '1040658': 5, '1790402': 60, '1034595': 6, '1038046': 7, '1035425': 3, '1031704': 1, '1043544': 16, '1666966': 0, '1061598': 249, '1740886': 15, '1040014': 12, '1042797': 28, '1035208': 0, '1040868': 2, '1034039': 9, '1054543': 23, '1056823': 18, '1040339': 5, '1037379': 1, '1035257': 6, '1034066': 6, '1038787': 10, '1339106': 3, '1040310': 2, '431603': 3, '827551': 8, '1034069': 23, '1093839': 0, '1036886': 3, '1031698': 1, '1033583': 2, '1301556': 2, '1059303': 41, '1162214': 6, '1037414': 2, '1039565': 37, '1040491': 1, '1040647': 41, '1037148': 5, '1039410': 11, '1038689': 18, '1033708': 20, '1040334': 1, '131855': 1, '1060399': 189, '1039453': 7, '1033292': 34, '1034275': 2, '1376724': 18, '1032897': 1, '812990': 1, '1034108': 5, '1044894': 9, '1034232': 1, '1062359': 103, '1033461': 1, '1043913': 12, '1034118': 18, '1033412': 7, '1070431': 14, '1062188': 118, '1037807': 9, '1047214': 0, '1043319': 36, '1339293': 2, '1522780': 3, '1775291': 3, '1043115': 21, '1631382': 1, '1166652': 35, '1038808': 20, '630642': 8, '1040042': 6, '710514': 2, '1035037': 6, '1037283': 1, '1043974': 2, '1034386': 27, '1058584': 22, '1790555': 3, '1790507': 3, '1039768': 15, '1044476': 16, '1603173': 5, '1039653': 39, '1039379': 1, '1033940': 1, '1038437': 0, '1034029': 5, '1035179': 2, '1037589': 6, '1043757': 24, '1033878': 8, '1042927': 38, '1034615': 14, '1039072': 7, '1236415': 23, '526315': 8, '1044319': 16, '1043263': 61, '1505634': 3, '1044077': 87, '1040017': 4, '1033520': 0, '578787': 5, '1039663': 20, '1040367': 13, '601341': 1, '1039424': 12, '1036350': 16, '1034636': 6, '1478254': 4, '1789871': 3, '1061671': 181, '1038652': 4, '1062247': 81, '1063407': 67, '1043265': 16, '1339336': 1, '1036525': 5, '1037632': 1, '1058861': 53, '1047541': 9, '1041288': 4, '1067967': 13, '1038218': 2, '1033466': 3, '1037262': 4, '1040740': 0, '1035231': 0, '1790274': 7, '1069816': 27, '1043300': 10, '1036470': 4, '1038238': 40, '1039909': 2, '1043039': 39, '1060735': 79, '1044007': 11, '1043037': 16, '1039418': 4, '1059129': 23, '1375209': 0, '1035056': 3, '184837': 3, '1031731': 0, '1043655': 5, '1031705': 4, '1033586': 2, '1631896': 0, '1035861': 6, '1043130': 23, '1236354': 9, '1038240': 17, '559955': 0, '1034006': 17, '830399': 12, '1038295': 12, '1316602': 1, '1039432': 10, '1044483': 34, '1033938': 3, '1035698': 1, '1057900': 42, '1031031': 5, '1044786': 28, '1040724': 3, '1062498': 54, '1038709': 8, '451046': 4, '1225398': 8, '1035298': 1, '1037322': 0, '720014': 3, '1031744': 2, '1033646': 31, '1033323': 2, '1042362': 14, '1038048': 59, '1036280': 105, '1039517': 38, '1040835': 5, '1166395': 40, '1042851': 63, '1034346': 11, '1039503': 20, '630276': 10, '1790042': 1, '1034510': 6, '142496': 0, '1040802': 30, '1036389': 33, '1223739': 0, '1036025': 32, '1044343': 16, '1040390': 2, '1039570': 54, '1031478': 0, '1348278': 1, '1044069': 18, '1034433': 0, '1034766': 1, '1034917': 4, '1062478': 28, '1044262': 19, '1038043': 1, '1039979': 7, '1033584': 2, '1042605': 10, '1036776': 5, '1033997': 5, '1069703': 36, '1040838': 3, '418183': 0, '1786829': 1, '1063778': 12, '1042278': 2, '1039918': 5, '1580451': 1, '1037311': 9, '1788354': 0, '1037956': 1, '1789872': 3, '1043493': 41, '1473449': 6, '719832': 1, '1035011': 6, '1042389': 12, '1371305': 2, '1032971': 3, '1031781': 3, '1040336': 2, '1032876': 1, '1037993': 1, '1060307': 132, '1044843': 10, '1038929': 48, '1038136': 0, '1033511': 3, '1034122': 4, '1037835': 38, '1039635': 2, '1445510': 0, '1504075': 18, '1790623': 4, '1037936': 1, '719862': 0, '1037037': 3, '1042701': 50, '1375818': 10, '1039581': 82, '1790618': 6, '1043836': 45, '1033748': 2, '1034600': 15, '1035092': 17, '1163789': 137, '1044736': 4, '1035170': 15, '1043195': 68, '739062': 21, '1031764': 0, '1038953': 17, '1042647': 27, '1033894': 13, '1039925': 24, '1033605': 59, '1043703': 7, '1036291': 9, '1162068': 9, '1034038': 0, '1039613': 31, '1504544': 3, '1371296': 17, '1038353': 8, '517246': 3, '1039441': 19, '1037247': 3, '1033711': 10, '428273': 2, '1037483': 1, '1790325': 46, '1034989': 8, '1037498': 3, '1039446': 9, '1068467': 11, '1036103': 13, '1040047': 5, '1031580': 2, '1253592': 3, '1043908': 12, '1036328': 10, '1033375': 7, '1034686': 17, '1039579': 46, '1040796': 2, '839734': 1, '1044195': 58, '1035192': 23, '1040356': 9, '1033931': 0, '1036165': 8, '1040842': 12, '1044450': 12, '1034419': 9, '499468': 3, '1039498': 11, '1059234': 70, '699567': 1, '1034862': 2, '1037126': 17, '1038149': 6, '1042254': 6, '1375717': 3, '577621': 2, '1042514': 45, '1034087': 14, '1035702': 4, '1038290': 4, '1039429': 13, '1040289': 6, '1060505': 12, '1037334': 9, '1035326': 6, '813397': 9, '1040338': 1, '1033027': 8, '1042125': 45, '1040131': 3, '719776': 9, '1038338': 13, '1064366': 21, '1045607': 17, '1062745': 52, '572494': 1, '839850': 1, '1034491': 38, '1034950': 1, '719919': 1, '1036745': 1, '1044062': 56, '1035151': 18, '1036370': 31, '1040476': 3, '1036067': 6, '1058472': 48, '1057902': 29, '1061845': 304, '1707401': 2, '1035359': 2, '430783': 5, '1035463': 9, '901702': 17, '1033840': 19, '1038186': 4, '1039587': 36, '1042694': 19, '1043379': 7, '1034484': 5, '1050092': 20, '1034155': 18, '1038256': 53, '1041060': 0, '1529520': 2, '1061414': 126, '1180101': 62, '430748': 5, '1033811': 1, '1036673': 2, '1037526': 1, '1034657': 5, '1035067': 3, '1043851': 27, '1040373': 4, '1041342': 3, '1043600': 7, '1044043': 35, '813353': 4, '1345287': 2, '1033998': 9, '1039938': 4, '1034298': 4, '1036269': 48, '1031696': 1, '1036507': 7, '1253568': 6, '1598202': 18, '1036017': 3, '719983': 3, '1789981': 1, '1044196': 14, '1040322': 1, '1034071': 7, '628687': 2, '1044795': 74, '1035345': 2, '1042933': 23, '1046704': 24, '635835': 3, '1040458': 6, '1034081': 15, '1044142': 15, '1040878': 3, '1479183': 8, '1036388': 10, '1034382': 9, '1037544': 1, '1043234': 37, '1037766': 10, '1037904': 1, '1039608': 16, '1033555': 3, '552369': 0, '901658': 13, '1033647': 13, '1034685': 4, '559961': 0, '1043767': 14, '626857': 9, '1044318': 24, '1038632': 9, '1044489': 5, '1033965': 3, '1035113': 8, '1031703': 4, '1059315': 41, '1339092': 1, '1692642': 3, '1034318': 6, '1039866': 0, '631348': 4, '1784169': 2, '1165725': 14, '1040152': 2, '1033881': 9, '430673': 8, '212777': 0, '1037363': 38, '1040688': 0, '1040641': 3, '1039655': 53, '1062750': 80, '699563': 2, '1039777': 3, '1036026': 7, '1048435': 2, '1040321': 1, '1038152': 4, '1039962': 2, '1039067': 2, '1040779': 0, '1039961': 21, '1035255': 9, '1163090': 31, '1043849': 7, '1033009': 3, '1375669': 3, '1037742': 23, '1044484': 6, '1031185': 1, '1044168': 13, '1034469': 22, '659243': 0, '1035215': 4, '1062757': 63, '1039568': 26, '1040315': 4, '1032750': 5, '1034866': 7, '1787093': 0, '774555': 12, '466551': 3, '1037789': 4, '1035267': 0, '1040538': 1, '1040236': 0, '1039984': 21, '1038656': 10, '1039423': 9, '1038219': 24, '1034528': 16, '1040396': 12, '1339324': 3, '1033775': 6, '1040287': 3, '1042749': 23, '1037863': 5, '1033887': 7, '1039930': 3, '1180655': 41, '1031784': 1, '1038686': 6, '1044706': 4, '1037175': 0, '1790154': 1, '1263788': 5, '1038380': 13, '1788528': 2, '85090': 0, '1035309': 3, '1034141': 4, '1059297': 26, '1037824': 4, '1034364': 2, '1036369': 29, '1036395': 16, '1039952': 0, '1034922': 12, '1042419': 8, '892708': 3, '1060394': 61, '1039882': 2, '1036382': 22, '1043653': 10, '1790433': 28, '1037431': 0, '719914': 1, '612394': 0, '1036177': 22, '1044170': 28, '1339116': 1, '699573': 11, '1035211': 2, '1034209': 5, '1034020': 5, '1039664': 15, '1044981': 3, '1033885': 12, '1039464': 3, '1043627': 10, '1043106': 32, '1043290': 23, '1179678': 327, '1036373': 31, '1034084': 18, '1034515': 21, '1339359': 1, '1040286': 7, '1040710': 8, '1035919': 18, '1339108': 4, '1224032': 2, '581065': 1, '1031664': 4, '1161926': 10, '1035811': 14, '1040639': 2, '1040319': 4, '1043808': 9, '1038119': 24, '1056050': 10, '1041496': 6, '1032991': 4, '1034250': 3, '1032987': 10, '969538': 2, '1037138': 8, '1040488': 3, '1042929': 39, '1036838': 5, '1062401': 57, '1178494': 263, '1503351': 3, '1044823': 27, '1039767': 11, '1033562': 0, '1063076': 68, '1034045': 53, '1038269': 3, '1033388': 3, '1034982': 1, '1062083': 56, '1039614': 13, '1034050': 4, '1040385': 6, '1040118': 1, '1035933': 5, '1788652': 1, '1339304': 2, '1040687': 2, '1040693': 5, '1044497': 5, '1042597': 13, '1034007': 9, '1034023': 22, '1040852': 18, '1035445': 3, '901771': 30, '1033879': 16, '1042035': 39, '722606': 1, '1037598': 22, '1033099': 1, '1061617': 69, '1039406': 1, '1042473': 10, '1033567': 9, '1035727': 2, '1039735': 30, '1790491': 2, '1033890': 14, '1033690': 10, '1037369': 4, '1060396': 66, '1039532': 28, '1040626': 4, '436006': 2, '559959': 0, '1037587': 22, '1044347': 6, '1163599': 51, '1034592': 0, '1038249': 128, '1038786': 6, '152932': 0, '1034359': 12, '1034689': 4, '719795': 4, '1039481': 4, '604785': 2, '1033814': 3, '1034931': 2, '1031782': 3, '1040727': 3, '1036297': 22, '1040181': 2, '1038388': 2, '1042837': 65, '1034246': 7, '1040510': 2, '1039525': 15, '1035321': 1, '1036411': 28, '1735331': 9, '1047132': 0, '1034380': 8, '1034946': 10, '1037267': 0, '803507': 2, '1034000': 3, '1033749': 0, '1177388': 50, '1044252': 27, '1048480': 0, '1033040': 9, '1316613': 0, '769166': 2, '1037678': 26, '1031809': 1, '1037715': 8, '1058775': 21, '1038303': 3, '1033707': 0, '1032952': 6, '1033462': 1, '1034493': 22, '1039470': 0, '1061963': 129, '1774664': 0, '1161963': 10, '1034820': 23, '1033532': 3, '1339091': 0, '1035747': 0, '1150583': 13, '1037195': 0, '1031740': 1, '1036024': 4, '1036200': 19, '1058585': 11, '1039728': 2, '1031774': 0, '1038201': 6, '769176': 4, '1040063': 1, '1033582': 1, '1035107': 7, '1034604': 0, '1502434': 5, '1034447': 12, '1036236': 37, '1044074': 144, '1040788': 2, '1036480': 98, '1039726': 16, '1470305': 0, '1034281': 5, '1162370': 1, '1062758': 116, '1039751': 0, '1040690': 1, '1246990': 36, '719715': 0, '1790530': 6, '1037514': 0, '1315156': 0, '1039376': 1, '1265366': 108, '1040178': 12, '744080': 28, '1034074': 7, '1339328': 3, '1661985': 1, '1034545': 5, '1032918': 1, '1037456': 2, '1790185': 5, '1035411': 2, '1163775': 40, '1036013': 7, '1038360': 5, '1035842': 3, '1036019': 19, '1047032': 2, '1043539': 7, '1033863': 8, '1040434': 5, '694800': 7, '1043028': 37, '1043352': 24, '1033892': 32, '1039908': 7, '1034243': 7, '1036454': 5, '1039046': 1, '1034287': 40, '769167': 1, '1198128': 1, '1034260': 4, '1038884': 22, '1033691': 11, '1035276': 1, '1050382': 2, '1035299': 0, '1033754': 5, '1034374': 7, '1030593': 12, '430787': 3, '1033317': 3, '1086314': 18, '1033310': 3, '1038059': 2, '1034293': 8, '1036374': 17, '1037554': 11, '1033693': 8, '1033049': 19, '430653': 3, '1037442': 1, '1039972': 5, '1036226': 70, '1042752': 39, '157543': 7, '633677': 7, '1037250': 5, '1031577': 2, '1040871': 1, '720064': 1, '1033091': 9, '1034316': 4, '1034451': 12, '1044486': 17, '1371291': 10, '1033114': 5, '1033907': 10, '1034319': 13, '1040337': 4, '1039477': 2, '1034955': 7, '1033521': 3, '1064530': 28, '1034361': 1, '1288400': 0, '1731549': 5, '1790271': 57, '1035581': 3, '1062190': 442, '1035124': 3, '1339267': 3, '1042812': 84, '1044871': 20, '699572': 4, '1033611': 6, '1040766': 2, '1033606': 2, '1039497': 3, '1339088': 0, '1039596': 73, '1036426': 15, '1039981': 7, '1034695': 3, '1042582': 72, '1035090': 17, '1042276': 11, '1038274': 3, '1631908': 1, '1036281': 50, '1035166': 4, '552703': 1, '1038581': 10, '1033015': 6, '1039990': 31, '1042534': 23, '1787046': 1, '1043609': 20, '1036176': 23, '1040056': 42, '376209': 1, '1040570': 1, '1036060': 5, '1065934': 23, '1039748': 13, '1040615': 9, '1789883': 2, '1034261': 5, '1040018': 6, '1010755': 3, '1042923': 37, '1043012': 21, '1060403': 52, '1033414': 5, '1040136': 14, '1034342': 24, '1036113': 4, '1033576': 1, '1035032': 12, '1033054': 7, '1036645': 3, '1037513': 2, '1164852': 54, '1035263': 1, '1048425': 0, '1039536': 9, '1035212': 0, '552712': 6, '1038070': 1, '1043795': 10, '1065014': 39, '1044125': 26, '1061201': 93, '826366': 1, '739035': 9, '1040296': 1, '1032901': 0, '1775370': 0, '1043046': 33, '1067675': 22, '1377860': 1, '1265761': 15, '1033891': 25, '1037360': 15, '1042823': 20, '1060741': 65, '1044517': 5, '1062947': 38, '1035969': 12, '1034715': 4, '1037362': 5, '1033468': 2, '1042385': 6, '1033541': 30, '1037110': 4, '1033377': 15, '1504059': 10, '1657604': 2, '1034299': 7, '1040484': 3, '1039382': 22, '1036722': 4, '1033588': 1, '1040463': 3, '1193950': 13, '1034190': 4, '1038355': 6, '1042394': 4, '158448': 3, '1040827': 3, '1044345': 16, '1044067': 9, '1044082': 41, '1044182': 25, '1061939': 158, '1664641': 0, '1316597': 2, '1036039': 1, '1044160': 13, '1039721': 19, '1044261': 37, '630936': 4, '1038666': 54, '719690': 4, '1339297': 1, '1036612': 0, '430675': 0, '1038213': 13, '1037370': 7, '449340': 2, '1034490': 1, '744485': 2, '1037365': 69, '1040516': 1, '1038258': 129, '1041402': 4, '1034218': 0, '1040297': 4, '1039730': 32, '467110': 5, '1035241': 4, '1034347': 36, '1031543': 2, '1040003': 12, '635929': 3, '1039780': 18, '1047314': 2, '1048632': 11, '1034455': 14, '1060401': 69, '1033107': 3, '1033999': 7, '1042959': 42, '1040565': 5, '1033413': 1, '1035201': 1, '1037421': 15, '1034853': 1, '1031128': 5, '1037305': 3, '1040285': 3, '1033029': 4, '1031596': 4, '1038244': 30, '1431339': 0, '1339298': 2, '1033769': 1, '1035080': 3, '1034593': 40, '1060654': 62, '1033559': 10, '1035331': 2, '526313': 0, '1506561': 7, '1033577': 1, '1061702': 110, '1033531': 9, '1034304': 0, '1339276': 2, '1058948': 28, '343281': 2, '1040038': 14, '559812': 26, '1042022': 31, '1038195': 0, '1044193': 18, '1031578': 2, '1035908': 20, '1039398': 5, '1040059': 4, '1043619': 11, '1040629': 3, '1061973': 156, '1034576': 7, '1037954': 0, '1042724': 26, '1044228': 8, '1292584': 3, '1790342': 71, '1031529': 2, '1034067': 20, '1039445': 19, '1038347': 7, '1040196': 1, '1043241': 61, '1060395': 116, '1261727': 1, '722731': 7, '1031743': 4, '1034179': 30, '1034088': 2, '1034463': 39, '1035319': 8, '1040120': 11, '1035275': 2, '1694218': 6, '1042628': 7, '1057901': 52, '1033845': 48, '1040625': 8, '1037220': 1, '1034174': 9, '1790544': 0, '1039625': 9, '1339275': 3, '1033677': 7, '1043514': 17, '1042588': 80, '719904': 1, '1037578': 10, '1034724': 21, '1130926': 5, '1165023': 20, '1163662': 100, '1037409': 0, '1059417': 62, '1035269': 2, '1035376': 0, '1034750': 3, '1034879': 3, '1038236': 177, '1316593': 2, '1318318': 1, '1034978': 9, '1035928': 1, '1033504': 4, '1036856': 0, '1035149': 25, '1036567': 4, '1042665': 27, '1033670': 5, '1035213': 1, '1034310': 7, '1044078': 50, '627155': 38, '711873': 5, '1044116': 15, '1036478': 3, '1035323': 0, '1253563': 1, '1037139': 2, '1040306': 0, '1044124': 15, '1469521': 3, '1035278': 2, '1037103': 11, '1033777': 31, '1035777': 19, '1065602': 38, '1034143': 5, '1043830': 11, '1032969': 1, '1044365': 25, '1037285': 4, '1035123': 4, '1032865': 1, '1039527': 12, '1034581': 10, '1046341': 39, '40338': 1, '1040771': 1, '1034569': 13, '1069572': 37, '1043505': 9, '1316607': 3, '1039533': 7, '1040665': 6, '1031683': 4, '1035117': 10, '1044064': 8, '839823': 1, '1045144': 6, '83294': 76, '1032912': 7, '1034486': 36, '1035021': 0, '1196674': 17, '1039489': 4, '1038668': 18, '1339070': 0, '1040815': 19, '1056707': 15, '1046165': 44, '1038818': 11, '1040108': 12, '1036664': 1, '1223869': 3, '332118': 2, '1339279': 3, '1048418': 0, '552821': 2, '1036788': 0, '1033542': 6, '1037375': 13, '1166432': 8, '1039644': 9, '1034070': 21, '1035158': 1, '1038527': 16, '1057023': 19, '677623': 6, '1031615': 6, '1033773': 3, '1034730': 1, '1035444': 1, '1225436': 20, '1034165': 6, '1036244': 100, '1032262': 1, '1037658': 3, '1039713': 19, '1034333': 20, '559963': 2, '1040809': 4, '1086330': 2, '1034343': 3, '1042506': 18, '1037896': 10, '1044436': 22, '1034109': 10, '1034244': 1, '1034756': 8, '1063136': 126, '1039399': 19, '1041364': 0, '1034476': 27, '1034422': 4, '1040707': 4, '1040039': 9, '1044458': 21, '1039583': 45, '1037933': 1, '1041397': 2, '436009': 18, '1042955': 29, '1043069': 14, '1036202': 13, '1055308': 17, '1037169': 7, '1031766': 1, '131913': 13, '1037439': 6, '1042249': 2, '1033536': 25, '1034037': 6, '921066': 1, '1033156': 12, '1038322': 1, '1032917': 7, '1037542': 3, '1040110': 5, '1034148': 3, '1163669': 166, '1037476': 4, '1038774': 11, '1039602': 22, '1039321': 5, '1130109': 11, '1033719': 4, '1034588': 2, '1060306': 173, '1061833': 107, '1043191': 32, '1035190': 6, '1619958': 12, '633784': 17, '1598241': 1, '1033144': 5, '1035935': 5, '1035174': 19, '1037176': 3, '1036548': 5, '1031563': 1, '1037721': 6, '1037380': 3, '1033133': 1, '1036750': 8, '1506521': 1, '1034184': 6, '1036681': 2, '1038005': 2, '1038250': 86, '1034062': 31, '1040276': 28, '1039566': 20, '1776627': 4, '1042906': 26, '1061199': 66, '1034497': 22, '1039970': 4, '1038659': 2, '1044203': 34, '1040327': 5, '1042522': 23, '1050647': 5, '1265751': 63, '1033975': 5, '1036243': 82, '1059299': 31, '744804': 0, '1031729': 1, '1038873': 22, '1038522': 41, '1044420': 4, '113259': 15, '1035132': 7, '1047111': 2, '1035001': 0, '1035538': 6, '1059843': 37, '1043059': 12, '635900': 6, '1371304': 8, '1224650': 5, '1041953': 29, '1039760': 7, '1034467': 75, '1040648': 17, '632688': 2, '1034358': 25, '1035245': 3, '1039403': 6, '1034145': 9, '1502390': 22, '1035796': 31, '559956': 0, '1034193': 8, '1038956': 0, '1045157': 1, '1047030': 13, '1039986': 39, '1039765': 4, '167466': 15, '1035188': 5, '1042270': 19, '1691343': 3, '1033826': 1, '1339102': 1, '1039975': 7, '1047467': 1, '1037962': 0, '1316605': 1, '939698': 6, '1563196': 2, '1775592': 12, '1040245': 4, '1040149': 0, '1035089': 26, '1788366': 0, '626538': 1, '1036767': 3, '1031762': 4, '1036714': 0, '1039628': 4, '839971': 2, '1038583': 10, '1034052': 14, '1034667': 1, '1039409': 5, '1037111': 11, '1790115': 2, '1037166': 4, '712189': 16, '1039906': 13, '1031575': 4, '1034936': 3, '1031564': 2, '1037295': 14, '636176': 2, '1339105': 0, '1505925': 1, '810975': 4, '1037352': 19, '1039832': 4, '1029819': 66, '1036061': 8, '1035328': 1, '1034311': 21, '719881': 5, '1042999': 8, '1039640': 9, '1253591': 2, '1039436': 1, '1039428': 21, '40566': 3, '877548': 1, '1061881': 145, '1037527': 6, '1790584': 4, '1035998': 1, '1037399': 2, '1035813': 3, '1040807': 2, '1044935': 4, '1046595': 22, '1035965': 1, '1039606': 106, '719913': 3, '1044187': 19, '1039455': 6, '1033624': 9, '1164912': 12, '1034248': 4, '1044869': 19, '1044240': 19, '826963': 3, '901769': 14, '1037974': 2, '1031742': 12, '1032900': 2, '1033364': 8, '1038329': 0, '1039387': 4, '1141678': 12, '1032711': 0, '1502637': 4, '1044156': 10, '1236229': 7, '1511108': 7, '951839': 5, '1034139': 3, '1036375': 19, '1043595': 5, '1037623': 9, '1040490': 7, '1034462': 55, '1039939': 15, '1034443': 14, '1037437': 5, '1064372': 32, '1035392': 2, '631289': 2, '1057071': 11, '1039466': 28, '1062255': 66, '1032997': 4, '1060920': 42, '1032927': 1, '760079': 3, '1034373': 17, '1484887': 7, '1040329': 1, '431375': 18, '1040789': 14, '1061559': 61, '255983': 0, '1367729': 0, '921221': 7, '1032899': 2, '772582': 1, '794166': 0, '1033847': 7, '632805': 4, '1039569': 21, '1039415': 23, '1044133': 20, '1037361': 25, '1033979': 13, '1043681': 7, '1031220': 3, '1037590': 6, '1038150': 3, '1035094': 13, '1038665': 9, '1042271': 1, '1034117': 6, '1061664': 84, '1036399': 110, '1039929': 0, '1040312': 1, '1469540': 3, '1035157': 2, '559954': 1, '1075349': 2, '1236362': 17, '1037404': 2, '1037377': 3, '1040489': 2, '1040192': 10, '1040628': 4, '723315': 7, '1044137': 30, '1050641': 0, '1040518': 3, '1037762': 9, '1790527': 12, '1039014': 0, '1787249': 5, '1042861': 61, '1035334': 1, '343408': 0, '1036167': 42, '629279': 29, '960557': 1, '1034150': 9, '1163304': 29, '1034337': 2, '1031773': 1, '1047134': 2, '1033668': 2, '1037986': 0, '719732': 1, '1035234': 1, '719915': 2, '1031582': 5, '1035242': 8, '1037859': 13, '1038259': 34, '1040681': 2, '1062508': 173, '1471537': 1, '1033793': 5, '1039408': 2, '1047381': 0, '901770': 8, '1068125': 25, '1551528': 9, '1040075': 1, '1033963': 7, '1037432': 3, '156192': 2, '1032958': 3, '1034391': 30, '769197': 2, '1035084': 2, '1037097': 1, '1039836': 0, '720037': 0, '1037144': 2, '1035250': 9, '1061409': 83, '1031688': 14, '1484451': 5, '1042833': 31, '1034054': 43, '1790298': 4, '1033608': 6, '1031086': 3, '1034996': 0, '1042547': 10, '1786892': 46, '1062416': 93, '1039770': 27, '1030681': 5, '1041748': 41, '1080317': 0, '151481': 1, '1218032': 0, '1042932': 82, '1775524': 1, '1037388': 0, '1033084': 3, '1669902': 4, '1040332': 5, '900266': 23, '1034188': 13, '1044065': 88, '1044614': 3, '1047432': 1, '1035424': 2, '1031777': 0, '1036104': 20, '1040725': 1, '1043142': 51, '1034461': 20, '1031074': 13, '1043882': 29, '1033509': 2, '1036490': 9, '1689809': 4, '1775293': 7, '1033516': 5, '1040174': 12, '1060630': 17, '1039852': 1, '1034495': 11, '1040399': 3, '1162682': 35, '1043257': 23, '1790563': 1, '1035823': 12, '1039377': 0, '1036670': 10, '1042648': 64, '1179471': 138, '965216': 9, '1040293': 0, '1044174': 18, '1034488': 6, '1141972': 3, '1036319': 16, '1037027': 1, '1044152': 10, '1065384': 23, '1064305': 51, '1031556': 3, '719725': 0, '1038723': 9, '1038796': 25, '969539': 0, '1040715': 1, '1041390': 5, '1033558': 2, '1037153': 2, '1042555': 7, '1043846': 11, '1036240': 43, '659785': 4, '1371306': 0, '1035893': 8, '1700400': 5, '921315': 1, '1033545': 27, '1031550': 2, '32782': 4, '1037833': 9, '1165980': 7, '1043347': 43, '1033685': 0, '1034935': 1, '1060737': 43, '1062504': 94, '937995': 1, '1038492': 0, '1034305': 2, '1039967': 22, '800250': 16, '1043968': 6, '1042382': 20, '1790520': 1, '1033432': 11, '1033853': 5, '1033883': 6, '1062161': 127, '1039863': 14, '1035418': 1, '1162490': 16, '719788': 5, '348794': 9, '1036393': 22, '1036912': 2, '1066687': 5, '1040392': 18, '1376746': 19, '1035136': 20, '1036653': 8, '1038100': 10, '1052877': 8, '1196656': 104, '1034329': 4, '1040497': 0, '1038692': 4, '659227': 2, '1580820': 1, '1034492': 46, '1046880': 2, '1039696': 23, '1032405': 0, '1039733': 20, '113194': 2, '1037335': 1, '1033359': 3, '1044139': 11, '1039437': 21, '1790419': 50, '1041704': 16, '1044188': 41, '1044183': 41, '1790498': 3, '1790272': 5, '1035050': 4, '1038707': 11, '1236552': 11, '1037252': 3, '1035198': 0, '1044249': 11, '1040001': 6, '830682': 1, '1035251': 2, '1042501': 4, '1316581': 0, '1043983': 16, '1038241': 23, '1037191': 0, '1033687': 11, '1037463': 1, '1037284': 0, '1034008': 7, '1789910': 1, '1775458': 1, '1037755': 10, '1043876': 13, '1043129': 11, '1039927': 2, '1040037': 3, '1032955': 1, '1034770': 4, '1044737': 20, '1176743': 33, '400868': 1, '1044270': 8, '1253572': 6, '1037364': 13, '719854': 1, '1038351': 24, '1031591': 4, '1063405': 78, '1475348': 0, '1042535': 16, '1700513': 1, '1043117': 24, '1036069': 9, '1033928': 9, '1035205': 0, '1035274': 2, '1037330': 3, '1038097': 1, '1037552': 1, '1039983': 26, '769200': 0, '1037664': 27, '1503279': 6, '1042425': 5, '1044184': 38, '1035377': 1, '1042970': 22, '1044340': 4, '1034881': 1, '1039646': 19, '1035077': 11, '1033989': 1, '1035791': 8, '1339054': 0, '1043702': 8, '631248': 3, '1340993': 3, '1060731': 98})\n"
     ]
    }
   ],
   "source": [
    "print(dict(list(W_c0.items())[0:5]))"
   ]
  },
  {
   "cell_type": "markdown",
   "metadata": {},
   "source": [
    "Now we can extend the graph to nodes of the other categories, keeping in mind that the in-edges coming from the previous category have as weights the score of the node that sends the edge. Every extension of the graph will be stored in a list (Subgraph induced by c0 already stored) "
   ]
  },
  {
   "cell_type": "code",
   "execution_count": 63,
   "metadata": {},
   "outputs": [],
   "source": [
    "subgraph=[]\n",
    "subgraph.append(W_c0)"
   ]
  },
  {
   "cell_type": "code",
   "execution_count": 64,
   "metadata": {},
   "outputs": [],
   "source": [
    "for i in range(1,len(ranking)):\n",
    "    W_c=defaultdict(int)\n",
    "    for node in categories_dict[ranking[i]]:\n",
    "        w_c=0\n",
    "        if node not in subgraph[i-1]:\n",
    "            for inedge in graph_1[node]:\n",
    "                if inedge in subgraph[i-1]:\n",
    "                    w_c+=subgraph[i-1][inedge]\n",
    "                else:\n",
    "                    w_c+=1\n",
    "            W_c[node]=w_c\n",
    "    subgraph.append(W_c)"
   ]
  },
  {
   "cell_type": "code",
   "execution_count": 66,
   "metadata": {},
   "outputs": [
    {
     "name": "stdout",
     "output_type": "stream",
     "text": [
      "defaultdict(<class 'int'>, {'788128': 1, '788316': 1, '784722': 1, '1351067': 2, '938634': 1, '784840': 2, '784703': 1, '722089': 1, '786542': 1, '783809': 1, '786134': 1, '1622639': 1, '217543': 2, '784652': 1, '785116': 1, '217724': 1, '1633370': 1, '785311': 1, '787529': 1, '785611': 1, '786089': 1, '784919': 1, '787539': 1, '217513': 1, '785201': 1, '784034': 1, '1000397': 1, '786297': 1, '1622697': 1, '217931': 1, '787836': 1, '938389': 1, '722047': 1, '217602': 1, '1622342': 1, '1658658': 2, '996123': 1, '787546': 1, '721934': 1, '1622371': 1, '785438': 1, '786623': 9, '783836': 1, '999696': 1, '217735': 2, '1622447': 0, '784903': 7, '787709': 1, '722549': 1, '787508': 4, '940775': 1, '784190': 1, '1687980': 1, '1622522': 1, '927662': 1, '786629': 1, '784067': 1, '1480219': 1, '1622321': 1, '722094': 1, '1622182': 1, '996341': 1, '722182': 1, '786559': 1, '1686955': 1, '785330': 1, '788307': 1, '722539': 1, '787017': 1, '217581': 9, '787879': 1, '784479': 1, '995060': 1, '1622357': 2, '787577': 9, '787435': 1, '786247': 1, '784234': 1, '787982': 1, '788016': 1, '783955': 18, '787829': 1, '996370': 1, '786978': 1, '783991': 1, '217913': 1, '786366': 1, '1276062': 1, '1248401': 1, '1687623': 1, '217935': 1, '938540': 1, '784424': 1, '785191': 1, '217736': 1, '786949': 1, '787955': 2, '787961': 1, '786182': 1, '784323': 2, '1000212': 1, '787527': 5, '1622327': 2, '786598': 1, '787305': 1, '785713': 1, '785875': 1, '1622635': 1, '217855': 1, '1686582': 1, '786866': 1, '1686680': 1, '788227': 0, '903477': 1, '786927': 1, '785641': 1, '785325': 0, '784505': 1, '786607': 1, '783753': 1, '1622469': 1, '1677646': 1, '788095': 1, '785823': 2, '787030': 1, '787258': 6, '217797': 5, '786557': 4, '784616': 3, '787402': 1, '938447': 1, '784256': 4, '784645': 1, '722069': 1, '787227': 1, '785081': 3, '787705': 1, '217829': 1, '786406': 1, '788116': 1, '784136': 2, '785306': 3, '1658663': 1, '783500': 1, '787350': 1, '784223': 1, '783983': 1, '1622346': 1, '784410': 1, '784671': 2, '217612': 1, '786614': 5, '938469': 1, '788194': 1, '786438': 12, '1754692': 1, '784261': 1, '217763': 1, '787688': 1, '217813': 1, '1686561': 1, '784600': 10, '784588': 8, '785364': 2, '938611': 1, '786201': 1, '784643': 7, '783826': 1, '788091': 1, '786960': 3, '787713': 1, '1671723': 1, '786058': 1, '783543': 1, '787737': 2, '785747': 1, '788394': 1, '784054': 1, '785180': 1, '217595': 1, '784293': 1, '784405': 1, '832800': 1, '722246': 1, '787985': 1, '722053': 1, '217930': 1, '999596': 1, '1773169': 1, '785227': 1, '785642': 1, '783971': 1, '722230': 1, '784071': 1, '783979': 4, '786916': 2, '938420': 1, '217584': 1, '931097': 1, '783626': 1, '938516': 6, '784960': 1, '996421': 1, '787498': 2, '784404': 1, '1688036': 1, '786741': 7, '1687207': 1, '783613': 2, '369547': 1, '722452': 1, '1622429': 1, '1671765': 1, '1622778': 1, '785351': 1, '783897': 3, '786774': 24, '784742': 1, '783594': 3, '787639': 2, '786168': 1, '788142': 1, '783755': 3, '786930': 1, '995079': 1, '784668': 1, '786689': 1, '787458': 1, '369539': 1, '1622349': 1, '1687928': 2, '786181': 12, '722096': 2, '1622613': 1, '784665': 4, '1763768': 0, '722254': 1, '786982': 1, '787269': 1, '786306': 1, '783956': 1, '783873': 1, '1622597': 2, '784696': 1, '786608': 1, '787901': 1, '784089': 1, '1662953': 2, '784399': 1, '784619': 3, '787939': 1, '217775': 1, '722270': 2, '1687918': 1, '785523': 4, '369514': 1, '369543': 1, '787176': 1, '784088': 1, '785207': 1, '787334': 7, '783582': 1, '784998': 1, '832801': 1, '1677671': 1, '784977': 1, '903452': 1, '722247': 1, '722260': 2, '784642': 1, '788230': 7, '1687950': 1, '787333': 1, '785156': 1, '786305': 1, '931101': 1, '787140': 1, '787522': 3, '962742': 1, '783536': 3, '783668': 1, '783938': 2, '217922': 1, '722071': 2, '786746': 2, '788115': 1, '1622737': 1, '217677': 1, '785723': 1, '1672150': 1, '785633': 3, '786464': 4, '785327': 1, '787881': 1, '788176': 1, '783732': 1, '786800': 12, '783574': 1, '784720': 1, '1000206': 1, '786137': 54, '722049': 1, '786634': 1, '784845': 1, '784780': 1, '1000343': 1, '787060': 13, '788233': 1, '787794': 1, '217539': 1, '788402': 3, '941430': 1, '787318': 4, '785671': 5, '1686653': 1, '783892': 1, '784303': 1, '784495': 4, '217833': 1, '1687647': 2, '786872': 1, '722175': 1, '785803': 1, '785509': 1, '787597': 1, '787217': 3, '787277': 2, '996656': 1, '783862': 1, '785584': 1, '786342': 1, '785135': 1, '1622751': 1, '1752567': 1, '722285': 2, '784656': 1, '1763765': 1, '721882': 1, '787938': 1, '1686679': 1, '784692': 1, '788350': 1, '787965': 1, '783539': 1, '788243': 1, '785069': 2, '938621': 7, '783906': 2, '788198': 1, '788420': 1, '783686': 1, '784163': 2, '999882': 2, '996651': 1, '722016': 1, '217750': 1, '787223': 1, '786775': 8, '785229': 1, '783894': 2, '786945': 4, '721930': 1, '938526': 1, '785168': 1, '786700': 1, '785805': 1, '787568': 2, '784678': 1, '786163': 1, '1000373': 1, '217779': 1, '786232': 5, '783687': 1, '783861': 1, '217909': 1, '1622421': 1, '784590': 1, '788322': 1, '722547': 1, '721954': 1, '1000217': 1, '787021': 1, '786784': 3, '721987': 1, '787165': 1, '784935': 1, '217633': 1, '787315': 1, '785078': 1, '786921': 7, '786771': 3, '938649': 1, '1000325': 1, '783974': 1, '786474': 140, '785575': 1, '785453': 1, '217665': 1, '788036': 1, '784901': 1, '722056': 1, '786863': 14, '785798': 1, '784008': 1, '785056': 1, '784204': 2, '786283': 1, '785213': 1, '785656': 1, '217921': 2, '786970': 7, '787319': 1, '786508': 1, '784757': 1, '938499': 1, '722566': 1, '722346': 1, '786781': 1, '786990': 1, '786839': 4, '784172': 1, '1688071': 1, '784592': 1, '995972': 1, '217709': 2, '787196': 1, '786942': 1, '784988': 2, '784121': 1, '999591': 1, '786620': 1, '783857': 1, '1688039': 1, '786290': 2, '787161': 1, '786541': 1, '1278534': 1, '785297': 1, '1622689': 1, '788413': 3, '785143': 1, '788083': 2, '783947': 1, '787606': 1, '721999': 1, '721885': 1, '784192': 1, '783491': 1, '217574': 2, '787440': 1, '1660901': 1, '783716': 1, '784287': 1, '786433': 1, '785548': 1, '786354': 1, '784670': 1, '722021': 1, '784020': 1, '1622666': 1, '783941': 1, '785417': 2, '787745': 1, '787200': 1, '786120': 5, '787280': 1, '788377': 3, '784462': 1, '784095': 1, '787822': 1, '784761': 1, '996070': 1, '787814': 1, '369509': 1, '785026': 1, '785448': 1, '787341': 1, '1338886': 1, '217504': 1, '72130': 1, '785122': 1, '721969': 1, '785483': 1, '999844': 1, '785071': 3, '784634': 4, '1622298': 1, '938544': 1, '785518': 1, '787540': 1, '787481': 1, '995973': 1, '1622340': 1, '784372': 1, '784869': 1, '785427': 1, '1709526': 1, '788290': 1, '1622185': 1, '784201': 2, '785275': 1, '722133': 3, '786964': 1, '217580': 1, '788279': 1, '722555': 2, '784672': 6, '788059': 1, '1752568': 4, '784427': 1, '785214': 3, '1622431': 1, '217717': 1, '785481': 5, '1622396': 1, '217749': 1, '784597': 1, '217698': 1, '995964': 3, '1000326': 1, '786983': 2, '786912': 4, '784202': 1, '1000263': 1, '786661': 1, '786463': 1, '786259': 26, '788060': 1, '1622779': 2, '784801': 1, '996318': 1, '785086': 1, '787587': 4, '722345': 1, '1428331': 1, '787890': 1, '785379': 1, '784932': 1, '784754': 1, '1622348': 1, '787668': 4, '217510': 1, '783553': 1, '1691452': 1, '784464': 1, '785764': 1, '787801': 1, '1622398': 1, '1687600': 1, '722154': 1, '1622382': 1, '1622345': 1, '783674': 1, '1428320': 1, '1672171': 1, '787800': 1, '785249': 22, '1622533': 1, '785608': 1, '786946': 1, '784122': 1, '788149': 1, '72128': 1, '787337': 3, '784090': 1, '785995': 29, '784042': 1, '722113': 1, '785714': 1, '787795': 1, '783603': 4, '785825': 2, '1622487': 1, '996263': 1, '1764139': 1, '784483': 1, '788148': 1, '784335': 1, '927650': 1, '784975': 1, '787240': 1, '783544': 1, '784680': 1, '788456': 2, '784391': 1, '787855': 1, '784640': 2, '787495': 2, '788403': 1, '1671720': 1, '1686800': 1, '785076': 1, '938511': 1, '784858': 1, '928342': 1, '783823': 1, '722298': 2, '1560261': 1, '217783': 1, '217623': 2, '786976': 8, '1688072': 1, '783627': 1, '787804': 1, '788357': 14, '784315': 1, '784220': 1, '786937': 7, '1686771': 1, '783599': 1, '722249': 1, '1677608': 1, '1295877': 1, '722168': 1, '1447751': 1, '995054': 1, '1622393': 1, '786403': 1, '787294': 2, '1686753': 1, '938436': 6, '999900': 1, '217655': 1, '783925': 11, '1350995': 2, '722400': 1, '1622301': 1, '217676': 1, '1686713': 2, '786468': 1, '783685': 1, '722250': 4, '787364': 1, '217803': 1, '787330': 1, '722239': 4, '784080': 1, '785974': 61, '784589': 1, '903538': 1, '785431': 1, '785616': 1, '784434': 1, '784735': 1, '787987': 1, '722304': 1, '786813': 1, '1670236': 1, '785253': 1, '788388': 2, '788236': 1, '1000306': 1, '786645': 1, '786098': 1, '783799': 1, '1677609': 1, '788169': 1, '1671722': 2, '1000085': 1, '786530': 4, '783875': 2, '787932': 1, '788117': 1, '784936': 1, '787357': 1, '217523': 1, '783519': 1, '786264': 3, '788282': 1, '784834': 1, '996599': 1, '788023': 1, '721925': 1, '785239': 1, '722224': 2, '1622769': 1, '1000099': 1, '783591': 1, '784024': 2, '783807': 1, '722236': 3, '995996': 1, '784047': 1, '786735': 11, '788318': 1, '785860': 1, '787678': 1, '785567': 1, '784093': 2, '786178': 4, '787924': 1, '788002': 1, '938533': 20, '996728': 2, '787853': 1, '786553': 1, '786296': 1, '784392': 1, '783831': 1, '785186': 1, '786981': 6, '788196': 1, '785363': 1, '1622511': 1, '1687945': 2, '787473': 1, '785402': 1, '783840': 1, '786753': 3, '785761': 1, '1658659': 2, '788062': 1, '784565': 9, '1688061': 1, '788033': 1, '787389': 2, '1686645': 1, '217669': 1, '217830': 1, '783523': 1, '785573': 1, '784885': 1, '786571': 1, '787994': 1, '931107': 1, '1688064': 1, '722147': 1, '784475': 1, '785126': 1, '786252': 1, '788355': 1, '104973': 1, '217577': 1, '786668': 1, '785248': 2, '785437': 3, '1622749': 1, '784017': 1, '1687646': 1, '1622671': 1, '786888': 11, '785482': 2, '1660903': 1, '786188': 1, '999543': 1, '1660180': 1, '1440010': 1, '1686764': 1, '787208': 1, '785265': 2, '785604': 1, '784805': 1, '930643': 4, '786119': 1, '787377': 1, '785339': 1, '722301': 2, '787589': 1, '1686755': 1, '785555': 3, '217878': 1, '787197': 1, '1658643': 1, '786288': 1, '927652': 1, '999824': 1, '1622315': 1, '784400': 1, '784846': 2, '1622356': 1, '783538': 1, '1350996': 1, '786308': 1, '783848': 1, '784951': 3, '786396': 1, '787966': 1, '786631': 13, '784569': 1, '784878': 1, '787373': 1, '786357': 1, '1686581': 1, '721881': 1, '722343': 1, '217576': 1, '1687197': 1, '783502': 1, '784793': 1, '788376': 1, '786977': 1, '784432': 1, '784084': 1, '787640': 1, '786103': 20, '785433': 6, '1622756': 1, '786402': 1, '1670179': 1, '787100': 4, '783587': 1, '784896': 1, '217840': 1, '784819': 1, '788093': 1, '786399': 1, '785439': 2, '785318': 9, '938510': 3, '785832': 3, '785242': 1, '722196': 1, '783646': 2, '785580': 1, '217776': 1, '786241': 4, '1622655': 1, '217579': 1, '1278497': 1, '722083': 1, '783729': 1, '787803': 1, '784777': 2, '1000345': 1, '784058': 1, '721931': 1, '784564': 1, '784967': 2, '786260': 1, '999859': 1, '938557': 1, '217479': 2, '787535': 1, '783509': 1, '783814': 2, '784139': 2, '784554': 1, '784370': 1, '788273': 4, '787108': 1, '787154': 1, '783856': 1, '788101': 1, '722188': 3, '784188': 3, '1669956': 1, '783997': 1, '784686': 1, '217837': 3, '722350': 1, '785544': 1, '721963': 1, '788054': 1, '784800': 1, '999624': 1, '787799': 1, '785451': 1, '722348': 1, '787770': 1, '784412': 3, '785708': 1, '787241': 1, '786975': 1, '1275881': 3, '784471': 1, '787494': 1, '788021': 2, '785710': 1, '1622760': 1, '787992': 1, '784423': 1, '1764154': 1, '1686752': 1, '1622652': 1, '999606': 1, '788426': 1, '1686816': 1, '802273': 13, '786303': 1, '1672010': 1, '786516': 1, '1622510': 1, '1687206': 1, '787953': 1, '784498': 1, '996151': 1, '787964': 1, '786370': 1, '783887': 1, '788451': 9, '1274949': 1, '785665': 1, '1000321': 1, '785822': 1, '787894': 1, '786246': 3, '788367': 3, '788262': 1, '217916': 1, '783576': 1, '787286': 2, '1686956': 1, '787417': 3, '784442': 39, '784939': 2, '722534': 1, '788191': 1, '784821': 1, '722291': 1, '786993': 1, '787132': 1, '1672144': 1, '938392': 1, '786478': 1, '1622331': 1, '784374': 3, '999724': 1, '1210179': 1, '1000308': 5, '788121': 1, '785151': 1, '784251': 1, '783671': 1, '788363': 1, '784767': 1, '786690': 1, '1622612': 1, '722362': 1, '787430': 1, '787411': 7, '787472': 1, '784273': 1, '785233': 1, '788161': 1, '217553': 1, '784529': 2, '217681': 1, '785561': 1, '783711': 1, '938605': 4, '1622445': 1, '1622784': 1, '369546': 1, '784231': 1, '788108': 1, '787248': 1, '783649': 1, '722111': 1, '783730': 1, '787142': 43, '785838': 4, '785401': 1, '788041': 4, '785219': 1, '886679': 2, '783977': 1, '788197': 1, '788453': 1, '788416': 20, '783978': 1, '785208': 1, '788119': 2, '788018': 1, '786337': 1, '784653': 1, '787062': 1, '785386': 6, '787469': 1, '217711': 1, '787687': 3, '217560': 1, '787029': 19, '783784': 1, '722068': 1, '783888': 18, '784851': 1, '786094': 1, '783913': 1, '1687209': 1, '783837': 1, '784169': 1, '786060': 1, '787612': 1, '217862': 1, '784180': 3, '783508': 1, '788437': 1, '784105': 1, '787543': 3, '722204': 1, '787971': 1, '1622745': 1, '785546': 1, '785799': 1, '785648': 1, '787104': 5, '1659547': 1, '784952': 1, '785188': 1, '995064': 1, '786304': 1, '722245': 2, '1622725': 2, '938376': 1, '785429': 1, '786555': 3, '786763': 9, '784662': 1, '786428': 14, '996652': 5, '785002': 1, '787778': 1, '787937': 1, '999588': 0, '722128': 1, '783965': 2, '996732': 1, '217918': 1, '787310': 1, '786159': 1, '788414': 1, '786622': 1, '785494': 1, '786996': 1, '786327': 2, '786111': 39, '785554': 1, '1622782': 1, '832803': 1, '787756': 1, '1670178': 1, '996647': 1, '784774': 1, '722527': 1, '369531': 1, '786656': 1, '787617': 1, '721950': 1, '1622670': 1, '1687150': 1, '785617': 1, '784286': 1, '788249': 1, '722560': 1, '722424': 2, '784334': 1, '787109': 10, '785232': 4, '787173': 1, '784724': 1, '1688032': 1, '788244': 1, '785517': 1, '1688055': 1, '784037': 6, '787238': 3, '219617': 0, '784918': 3, '1000333': 1, '785741': 1, '786564': 1, '784143': 6, '217796': 1, '786770': 1, '786581': 1, '785055': 1, '784522': 1, '785154': 1, '788401': 1, '1275880': 1, '788162': 2, '1686928': 1, '785443': 1, '786149': 1, '1622596': 1, '787878': 1, '1688033': 1, '1658644': 0, '787700': 1, '1686704': 1, '788174': 1, '1002411': 2, '785885': 1, '722428': 1, '787180': 4, '722339': 1, '1686683': 2, '787119': 1, '1622504': 1, '722109': 1, '999616': 1, '787078': 2, '783641': 37, '938575': 1, '787621': 3, '1622602': 1, '786091': 4, '787026': 1, '786850': 2, '784100': 1, '786277': 1, '784406': 1, '786269': 58, '722163': 1, '787264': 2, '788222': 1, '784292': 1, '787054': 2, '786256': 30, '787619': 1, '496043': 1, '786383': 1, '217760': 1, '722127': 1, '786048': 1, '1622514': 1, '785530': 2, '787552': 2, '722309': 2, '785153': 3, '785515': 1, '219772': 0, '786682': 1, '722417': 2, '784264': 7, '217548': 1, '785599': 1, '785457': 1, '721945': 1, '217662': 1, '786070': 1, '787747': 1, '217732': 3, '369501': 1, '785839': 1, '784649': 1, '787452': 0, '217551': 1, '1622721': 1, '786936': 8, '217777': 1, '787278': 2, '787053': 1, '787043': 1, '786672': 2, '996338': 1, '783597': 2, '786041': 2, '786849': 1, '784258': 1, '787885': 1, '788407': 1, '787523': 1, '786074': 1, '785719': 2, '787273': 2, '786837': 12, '786588': 13, '722059': 1, '783579': 1, '786684': 1, '217707': 1, '784663': 4, '787316': 1, '943232': 1, '785818': 3, '787616': 1, '786050': 3, '1677660': 1, '996725': 1, '369507': 1, '785499': 1, '785203': 1, '996262': 1, '785225': 1, '217912': 2, '1687599': 1, '783939': 1, '784079': 2, '786319': 4, '786825': 11, '1687208': 1, '787511': 1, '722098': 1, '783571': 1, '994736': 1, '787790': 1, '788173': 1, '786889': 1, '787322': 1, '786637': 1, '785030': 1, '787351': 1, '788140': 1, '786270': 1, '787658': 2, '784308': 4, '722214': 1, '787746': 1, '1686517': 1, '1000317': 1, '722323': 1, '722229': 3, '1671423': 1, '938512': 1, '787538': 1, '784926': 1, '786218': 2, '1000330': 1, '217721': 1, '785781': 1, '787028': 2, '786603': 1, '785749': 1, '786788': 24, '786570': 1, '785854': 1, '787622': 1, '783700': 1, '217505': 1, '785171': 1, '783916': 1, '1622610': 1, '785338': 1, '784013': 1, '784927': 1, '785525': 1, '722104': 1, '938624': 1, '783810': 1, '786358': 1, '999721': 1, '787056': 1, '217877': 1, '787950': 2, '784296': 1, '217527': 1, '783694': 4, '785674': 1, '785527': 1, '787451': 1, '1687946': 1, '964034': 1, '783889': 1, '938509': 1, '784985': 2, '832802': 1, '783973': 1, '1670122': 1, '786723': 1, '786086': 1, '722279': 1, '783898': 1, '1622523': 1, '788044': 1, '783749': 1, '784921': 2, '785111': 8, '786090': 1, '787283': 1, '994993': 1, '784120': 1, '722120': 1, '786537': 1, '938597': 1, '1687221': 1, '788470': 1, '785841': 1, '722142': 1, '788125': 1, '785475': 12, '999736': 1, '1622532': 1, '787645': 1, '787018': 1, '999618': 1, '938501': 1, '722541': 1, '784521': 7, '722222': 1, '787506': 1, '999879': 1, '784796': 1, '1278509': 1, '786790': 5, '783794': 1, '1622466': 1, '783821': 1, '788275': 1, '721952': 1, '788477': 1, '1622742': 1, '787922': 1, '787764': 1, '788253': 1, '783615': 1, '785114': 4, '217888': 1, '1622314': 1, '786834': 9, '786102': 1, '784748': 4, '788192': 2, '787518': 1, '722411': 1, '784154': 4, '217917': 1, '783607': 1, '722538': 1, '217853': 1, '217702': 1, '785574': 1, '784196': 1, '722414': 1, '930647': 1, '783572': 1, '886676': 1, '1686939': 1, '787272': 1, '788104': 1, '784838': 1, '784228': 1, '787067': 1, '217622': 1, '783595': 2, '369526': 1, '1622339': 1, '1687951': 1, '784707': 1, '722017': 2, '786838': 3, '784508': 1, '787521': 1, '785686': 2, '787732': 1, '1671759': 1, '1670172': 1, '787073': 1, '784102': 2, '788375': 1, '996589': 1, '787385': 0, '786823': 1, '785421': 1, '1622419': 1, '785177': 1, '722084': 2, '785335': 1, '788265': 1, '786075': 1, '786551': 11, '217601': 1, '784168': 1, '1688052': 1, '786213': 2, '786953': 15, '785638': 1, '1622604': 1, '784526': 1, '1686754': 1, '786574': 22, '788441': 1, '217755': 1, '783917': 32, '722278': 1, '931110': 3, '721962': 1, '1687163': 1, '786442': 1, '784657': 1, '1622503': 1, '787082': 1, '784744': 1, '938574': 1, '1670227': 1, '785307': 3, '786088': 1, '72146': 1, '1670235': 2, '721994': 1, '784823': 1, '785222': 3, '1688058': 1, '788476': 2, '784574': 1, '999803': 1, '1688029': 1, '787293': 2, '784543': 1, '784804': 1, '783522': 1, '785080': 1, '784358': 1, '784138': 1, '784246': 1, '217799': 1, '786552': 1, '786647': 1, '787988': 1, '786862': 4, '785361': 3, '785271': 1, '938582': 1, '1688021': 1, '217805': 1, '1248414': 1, '786756': 13, '1622183': 1, '722372': 1, '784605': 2, '784051': 1, '1622687': 1, '996255': 1, '786908': 5, '217733': 1, '721979': 1, '999728': 1, '784752': 1, '788110': 1, '787190': 1, '783637': 1, '722274': 1, '785079': 1, '786828': 12, '785428': 1, '783798': 1, '785391': 1, '787486': 1, '786897': 1, '788397': 1, '938569': 1, '787693': 2, '722218': 1, '786170': 1, '784817': 1, '786701': 1, '1752580': 1, '783992': 1, '722185': 3, '832814': 1, '722199': 1, '784741': 1, '783709': 1, '787628': 1, '786766': 15, '996107': 1, '785190': 3, '1622690': 1, '786502': 1, '996309': 1, '722058': 1, '787869': 1, '784384': 1, '1622387': 1, '784457': 2, '785565': 1, '786436': 4, '784157': 3, '938623': 1, '785874': 1, '784383': 1, '938559': 1, '785257': 2, '722162': 1, '217882': 1, '1251315': 1, '787237': 1, '1622744': 15, '784971': 1, '784033': 1, '783820': 1, '787143': 2, '784860': 1, '788218': 1, '786386': 1, '786805': 1, '785228': 1, '783575': 1, '786651': 2, '783949': 1, '1686546': 1, '217879': 1, '788011': 2, '785649': 1, '938541': 1, '786496': 1, '1752564': 1, '784253': 33, '1622540': 1, '1622401': 1, '787253': 7, '785019': 2, '787656': 4, '1669967': 1, '722321': 1, '423763': 1, '931100': 2, '217547': 1, '787684': 1, '788372': 1, '787047': 1, '1622411': 1, '784571': 2, '938625': 1, '890022': 2, '788216': 1, '938518': 1, '1677545': 1, '1751275': 1, '722129': 1, '784130': 1, '784394': 1, '938591': 6, '1275978': 3, '785038': 1, '785102': 2, '996351': 1, '785392': 1, '783555': 2, '785613': 1, '1686524': 1, '217643': 1, '938549': 1, '783935': 2, '787505': 4, '785589': 1, '1677662': 1, '721989': 1, '786583': 1, '787711': 1, '785560': 1, '787701': 1, '786145': 1, '784199': 1, '783651': 2, '996119': 2, '839730': 1, '787185': 1, '786871': 3, '722241': 3, '783865': 1, '783590': 1, '785545': 1, '217739': 1, '785084': 1, '785882': 1, '788395': 1, '217647': 1, '722216': 1, '788422': 1, '999922': 4, '786832': 58, '786254': 1, '1622627': 1, '784723': 1, '1688076': 1, '995080': 1, '722251': 1, '219780': 1, '938539': 1, '786998': 1, '722329': 2, '786266': 14, '1279016': 1, '784954': 1, '784889': 1, '783942': 1, '787031': 1, '1622526': 1, '1622656': 2, '1659614': 1, '786332': 1, '785346': 1, '217809': 1, '217751': 2, '785148': 1, '217861': 1, '785828': 1, '784131': 1, '217839': 1, '217810': 1, '785459': 1, '786078': 2, '1688046': 1, '784165': 1, '788020': 1, '784248': 1, '785337': 2, '721951': 3, '787420': 0, '787607': 1, '786367': 8, '788052': 1, '786928': 7, '785899': 1, '785623': 2, '784576': 1, '787170': 1, '784835': 1, '788440': 1, '788430': 1, '721983': 1, '787758': 1, '788163': 1, '1688027': 1, '786870': 2, '783819': 1, '1622528': 3, '783678': 1, '785852': 1, '786328': 1, '999605': 1, '1279086': 1, '722416': 1, '1671424': 1, '722238': 1, '784494': 1, '785896': 1, '784697': 1, '786040': 5, '1622738': 1, '1688068': 1, '722331': 1, '787061': 1, '785278': 5, '938455': 2, '722307': 1, '217869': 1, '784176': 1, '217767': 1, '496045': 1, '938474': 2, '217764': 1, '1678028': 1, '785653': 1, '785879': 1, '1622711': 1, '787686': 1, '1622506': 1, '1622680': 1, '786167': 1, '787034': 1, '1686655': 1, '785731': 1, '788058': 1, '217880': 2, '785276': 1, '217828': 2, '784032': 1, '787346': 9, '722055': 1, '722123': 1, '938471': 2, '1687930': 1, '1688067': 1, '787920': 1, '1686957': 1, '788283': 6, '938446': 1, '786736': 4, '783580': 1, '783829': 1, '938555': 1, '1622759': 2, '784242': 1, '217713': 1, '722009': 1, '784710': 1, '938409': 2, '217793': 2, '785170': 1, '786349': 1, '217856': 2, '786560': 1, '217555': 1, '783737': 1, '721944': 2, '785512': 2, '786055': 1, '786028': 1, '722266': 1, '217570': 3, '722450': 2, '787120': 1, '788166': 1, '999615': 1, '788297': 1, '784850': 1, '784320': 1, '785098': 2, '784900': 1, '787842': 1, '413124': 117, '784218': 1, '786600': 1, '1622434': 1, '787331': 9, '784873': 1, '783789': 1, '787638': 1, '943216': 3, '369544': 1, '785813': 2, '1677618': 1, '369513': 1, '784783': 1, '217906': 1, '784499': 2, '788065': 1, '787188': 1, '783986': 1, '938488': 4, '785294': 1, '217516': 1, '999670': 1, '784690': 4, '788432': 1, '787611': 1, '785643': 1, '785277': 1, '1672162': 1, '72147': 1, '784676': 13, '722425': 2, '943210': 1, '938595': 1, '938626': 3, '938610': 3, '784669': 10, '788320': 1, '787980': 2, '217621': 1, '786215': 2, '1622412': 1, '722013': 2, '787183': 1, '1671727': 1, '784959': 1, '788203': 1, '217874': 1, '787329': 1, '786471': 1, '1658656': 2, '783706': 1, '1622400': 1, '938523': 2, '783859': 1, '787698': 1, '785472': 1, '785101': 1, '787828': 1, '784029': 1, '788335': 1, '832812': 0, '783726': 2, '783920': 1, '938543': 1, '784347': 1, '784145': 1, '571046': 1, '787282': 2, '786706': 5, '938821': 1, '784038': 1, '784994': 1, '889862': 1, '217663': 1, '783860': 1, '784973': 1, '784904': 1, '785727': 1, '999603': 1, '788408': 3, '722146': 2, '784818': 3, '783761': 1, '721986': 5, '785678': 1, '787169': 1, '785538': 1, '783934': 1, '786589': 1, '784581': 3, '1000322': 2, '722227': 4, '784762': 1, '783963': 4, '785274': 5, '783517': 1, '784855': 1, '787840': 1, '785650': 5, '788178': 3, '1688116': 1, '217482': 1, '783954': 1, '1554020': 1, '786895': 3, '722079': 3, '217842': 2, '785209': 1, '784940': 3, '785751': 3, '786951': 1, '786273': 1, '787363': 1, '784164': 5, '785566': 1, '722395': 1, '999683': 1, '785775': 1, '784503': 3, '1000360': 2, '788328': 2, '784524': 1, '788063': 3, '217613': 1, '1622673': 1, '217761': 1, '785112': 1, '1622181': 1, '784094': 1, '784527': 1, '1622758': 1, '784738': 15, '784830': 1, '784913': 1, '994987': 1, '1687597': 2, '785123': 1, '786410': 2, '788147': 1, '785500': 4, '1658660': 1, '785445': 1, '217592': 1, '784049': 2, '785220': 13, '787309': 5, '785679': 2, '937330': 2, '787044': 1, '784902': 1, '788089': 1, '788330': 1, '786708': 1, '1622389': 1, '786966': 1, '784173': 1, '787785': 1, '787090': 2, '785844': 1, '788079': 1, '788098': 1, '785250': 1, '1629309': 2, '722207': 1, '783835': 1, '786802': 1, '786868': 1, '787463': 1, '938532': 5, '217891': 1, '1428325': 2, '1671578': 1, '785308': 2, '787650': 4, '722032': 1, '1687949': 1, '787642': 1, '786492': 1, '1622662': 1, '785199': 1, '786881': 3, '938642': 1, '784978': 1, '786519': 1, '217781': 1, '786644': 5, '784150': 1, '217900': 1, '217932': 1, '786757': 1, '785539': 1, '938535': 1, '1752563': 1, '787266': 1, '1276487': 3, '722352': 1, '1669991': 1, '999723': 1, '785124': 1, '1688031': 1, '785173': 2, '785558': 1, '785735': 1, '1671918': 1, '1677522': 1, '722394': 1, '784307': 1, '786244': 1, '785596': 2, '787569': 1, '784160': 1, '784836': 1, '786466': 1, '217645': 1, '786192': 1, '788349': 2, '722219': 2, '217667': 2, '787824': 1, '785760': 1, '1000372': 1, '787103': 6, '783902': 1, '784585': 1, '784245': 1, '787194': 2, '1658662': 5, '786338': 1, '784362': 2, '217849': 1, '787903': 1, '785393': 1, '787754': 1, '785178': 1, '784610': 5, '785824': 1, '783833': 1, '1622617': 1, '787729': 1, '787995': 1, '1622372': 1, '787968': 1, '964033': 2, '786814': 1, '943215': 1, '722070': 1, '787488': 4, '783908': 1, '786742': 1, '784028': 1, '784731': 1, '785181': 3, '787146': 12, '786105': 9, '785176': 4, '785796': 1, '784270': 1, '783930': 2, '788120': 1, '1444377': 1, '786578': 1, '1000218': 1, '785059': 1, '784713': 2, '930646': 2, '786013': 13, '784630': 1, '786580': 1, '787259': 1, '721943': 1, '785378': 1, '1686772': 1, '784789': 2, '788393': 4, '938652': 2, '785426': 1, '787383': 2, '1622384': 1, '1671762': 1, '786844': 1, '784607': 1, '786633': 1, '786811': 1, '784523': 9, '930644': 1, '784304': 1, '788463': 1, '1763774': 1, '787455': 1, '787131': 1, '785108': 1, '784765': 1, '217818': 1, '787327': 1, '783506': 1, '787251': 1, '788172': 1, '787731': 1, '786712': 21, '1678051': 1, '1671402': 1, '786548': 1, '1000358': 1, '1752574': 1, '785251': 1, '783822': 1, '1672039': 2, '1764156': 1, '999924': 3, '787111': 1, '1677721': 1, '784591': 1, '783769': 1, '786381': 1, '787038': 3, '938375': 1, '1288845': 1, '722085': 1, '788391': 2, '786054': 1, '721978': 1, '785556': 4, '217470': 1, '787339': 1, '786276': 11, '786986': 1, '786363': 2, '784078': 1, '784156': 2, '785388': 1, '217835': 1, '217904': 1, '783498': 1, '787236': 1, '784217': 7, '786110': 1, '786425': 1, '938473': 1, '722349': 3, '1622408': 1, '785526': 1, '785007': 2, '217928': 5, '787880': 1, '1677652': 1, '786665': 2, '886675': 8, '786613': 1, '1671508': 1, '785296': 1, '786713': 6, '785532': 2, '886671': 1, '1764142': 1, '783748': 2, '788127': 1, '1622446': 1, '785416': 1, '784214': 1, '787584': 3, '784007': 1, '722312': 1, '787396': 3, '722308': 1, '1631211': 1, '217562': 1, '786801': 1, '787422': 0, '784057': 1, '1002966': 1, '784290': 8, '783683': 1, '1622404': 1, '1758105': 1, '784661': 1, '785651': 1, '787728': 1, '217528': 1, '786709': 1, '999568': 1, '217685': 1, '783951': 1, '1686954': 1, '788153': 1, '134749': 1, '217686': 1, '786459': 1, '938505': 4, '788238': 1, '721942': 1, '995059': 1, '786197': 1, '938421': 1, '786762': 7, '785773': 1, '786122': 5, '786624': 1, '785397': 1, '722536': 1, '783912': 1, '785295': 1, '787512': 1, '1622363': 1, '938640': 1, '996420': 3, '784822': 1, '1764146': 1, '784107': 1, '784545': 1, '722276': 2, '786534': 1, '1670226': 1, '785360': 2, '787809': 1, '783834': 1, '217640': 1, '722145': 1, '1752570': 1, '1677668': 1, '783573': 2, '722237': 1, '1622734': 1, '1622642': 1, '784965': 1, '938615': 2, '722360': 1, '783815': 1, '785347': 1, '787630': 1, '784119': 1, '783910': 4, '217834': 1, '785975': 26, '786274': 1, '784450': 2, '783496': 1, '1686763': 1, '785118': 1, '787623': 1, '785284': 4, '1622438': 1, '783682': 1, '785782': 1, '787072': 1, '786594': 1, '217770': 1, '786554': 1, '1688066': 2, '785603': 1, '1672124': 1, '217867': 2, '722167': 1, '1622329': 1, '785627': 1, '783768': 1, '217841': 1, '786737': 1, '1622587': 1, '787805': 1, '783578': 1, '787086': 1, '1000351': 1, '788354': 1, '1687615': 1, '784422': 1, '938550': 1, '1000340': 1, '938384': 1, '72149': 6, '784579': 1, '786653': 2, '783754': 1, '1671758': 4, '786261': 9, '787421': 0, '785748': 1, '1622630': 1, '788459': 1, '786714': 15, '786392': 4, '996042': 1, '217489': 1, '786255': 18, '625326': 4, '1686770': 1, '785200': 1, '786730': 1, '787482': 6, '1672088': 1, '783933': 1, '784396': 1, '722528': 1, '785493': 1, '217474': 1, '785240': 3, '784167': 1, '1622406': 0, '787916': 2, '787443': 11, '1622296': 1, '788037': 1, '787942': 1, '788332': 6, '217753': 1, '217784': 1, '783896': 1, '786547': 1, '784638': 1, '786886': 1, '1622470': 1, '1622717': 1, '788168': 2, '784247': 1, '787321': 5, '784778': 1, '783669': 1, '217854': 1, '1274135': 1, '784375': 1, '1622297': 1, '722014': 1, '787005': 1, '943791': 3, '217795': 1, '722523': 1, '788271': 1, '1622488': 1, '722289': 1, '786877': 4, '785323': 1, '787392': 1, '784005': 1, '369502': 1, '785452': 1, '783842': 1, '788272': 1, '787404': 0, '788359': 1, '788396': 1, '788072': 1, '995957': 1, '785183': 1, '1670001': 1, '784338': 3, '788186': 2, '785702': 2, '787578': 12, '786585': 1, '217758': 1, '369517': 1, '786799': 1, '217820': 1, '788302': 9, '786095': 6, '1622333': 1, '783504': 1, '999722': 3, '786187': 1, '721948': 2, '785496': 1, '938561': 1, '786135': 1, '785652': 2, '785160': 1, '786457': 2, '788257': 2, '787608': 1, '786612': 3, '722105': 1, '787074': 1, '784701': 1, '785085': 1, '938380': 1, '786954': 1, '787947': 2, '788356': 1, '784803': 1, '784679': 1, '938519': 1, '786932': 5, '785595': 4, '784112': 1, '999925': 2, '938507': 1, '722361': 1, '1622362': 1, '784003': 1, '783801': 9, '1002425': 1, '786520': 1, '785892': 1, '787604': 1, '783811': 1, '722300': 1, '785745': 1, '938648': 19, '722369': 2, '787682': 2, '785049': 1, '785375': 1, '784236': 2, '784888': 1, '999913': 1, '787302': 1, '788088': 1, '784540': 1, '787776': 1, '1278955': 1, '785752': 1, '1677664': 2, '788082': 1, '785581': 1, '786597': 1, '1687159': 1, '786439': 1, '786605': 2, '784816': 2, '217860': 1, '1000318': 3, '722296': 1, '786226': 14, '784074': 3, '1670201': 1, '784224': 5, '1622590': 1, '788019': 1, '784537': 1, '1764151': 1, '786076': 14, '788223': 1, '722282': 1, '1622319': 1, '785234': 1, '785374': 1, '788122': 1, '787071': 1, '784332': 1, '788027': 1, '722533': 1, '784687': 3, '1622600': 1, '785289': 1, '1622390': 1, '783990': 72, '786123': 2, '788111': 1, '217773': 1, '1622500': 1, '787777': 1, '1622716': 1, '722073': 1, '722337': 1, '217692': 1, '788445': 1, '783981': 1, '784312': 1, '784244': 1, '786424': 3, '788132': 3, '783786': 1, '785396': 1, '722043': 1, '783832': 1, '938382': 2, '785096': 1, '722355': 1, '786652': 1, '787575': 1, '787249': 1, '787504': 2, '784584': 1, '903424': 1, '784106': 1, '1688041': 1, '785087': 1, '994807': 1, '785436': 1, '786920': 2, '722093': 2, '524906': 0, '783765': 1, '783581': 1, '783882': 1, '784182': 1, '785634': 1, '787544': 1, '787767': 1, '786638': 1, '1554027': 1, '1000349': 1, '786460': 1, '1763463': 1, '722012': 1, '784446': 1, '217693': 1, '784655': 3, '784769': 1, '788022': 2, '938632': 1, '1767790': 1, '787281': 2, '788075': 1, '788028': 1, '787434': 11, '786211': 1, '785244': 12, '1688042': 7, '1670180': 2, '786223': 1, '72131': 1, '786658': 3, '1677544': 1, '217506': 1, '999745': 1, '785970': 54, '786673': 1, '784914': 3, '785345': 1, '784596': 1, '787857': 1, '788398': 1, '788007': 4, '1687969': 1, '1671623': 1, '785067': 2, '787714': 1, '1622748': 1, '938492': 3, '786051': 3, '1367354': 1, '217911': 1, '785164': 1, '784870': 1, '786083': 4, '787893': 5, '1705054': 2, '787150': 1, '784238': 1, '785717': 1, '783914': 1, '783718': 5, '937331': 1, '1295875': 1, '787586': 1, '1633363': 1, '788266': 1, '1002581': 1, '786400': 1, '786569': 1, '785511': 1, '786280': 1, '787057': 2, '786465': 1, '784546': 1, '217638': 1, '786780': 2, '786787': 1, '938513': 3, '217518': 1, '785662': 1, '785432': 1, '787838': 1, '217943': 1, '786323': 1, '722277': 1, '1622541': 2, '785594': 1, '217606': 2, '1622691': 1, '787913': 1, '1763764': 1, '996319': 2, '1686659': 1, '786525': 1, '217484': 1, '788045': 6, '217502': 1, '217660': 1, '785834': 2, '1275879': 1, '722328': 1, '783782': 1, '217682': 1, '217657': 1, '994957': 1, '1000310': 1, '784980': 1, '788250': 1, '999916': 1, '788067': 1, '1686648': 1, '786390': 1, '788195': 1, '372692': 1, '786082': 1, '1764138': 4, '783806': 1, '784982': 1, '785859': 2, '784147': 1, '785672': 1, '783662': 1, '787827': 4, '787550': 1, '784390': 2, '786798': 2, '785861': 1, '1687929': 1, '785263': 3, '787087': 1, '1278917': 1, '787773': 1, '784509': 1, '783631': 1, '787312': 1, '783588': 2, '785357': 1, '788400': 1, '217631': 1, '785061': 1, '787557': 2, '784962': 1, '786711': 3, '787520': 1, '1622591': 1, '1622722': 1, '784598': 1, '787275': 4, '783851': 9, '72129': 1, '785739': 2, '787690': 1, '1622300': 1, '787851': 1, '1677666': 1, '786282': 1, '721880': 1, '722263': 1, '1632025': 1, '783630': 8, '938461': 1, '722287': 1, '786228': 1, '788049': 1, '785503': 1, '786455': 1, '1658645': 3, '722402': 1, '1622636': 1, '783960': 5, '787152': 1, '785408': 1, '786842': 3, '722293': 1, '1000324': 2, '722144': 1, '784140': 1, '1671581': 1, '1275976': 1, '722341': 1, '784847': 1, '786146': 1, '1691453': 1, '784354': 1, '722403': 1, '217826': 1, '787735': 1, '1752571': 1, '785811': 1, '787674': 2, '783802': 2, '785636': 1, '787035': 1, '1622682': 1, '787178': 2, '785161': 1, '1687961': 1, '1622668': 2, '1687956': 1, '785722': 1, '784933': 6, '786859': 1, '786230': 3, '787456': 0, '788134': 1, '217848': 4, '784344': 3, '784516': 1, '217656': 1, '785430': 1, '722377': 1, '1688065': 1, '1700455': 1, '783884': 1, '784784': 1, '788378': 1, '786311': 1, '787112': 1, '217569': 1, '788208': 1, '783600': 1, '785639': 1, '785541': 7, '785757': 1, '722081': 1, '784911': 1, '996122': 1, '1713558': 1, '784595': 1, '783921': 1, '785557': 1, '786957': 1, '785622': 1, '784685': 1, '217819': 3, '785013': 1, '722035': 2, '1622659': 1, '999809': 1, '786065': 1, '785321': 1, '784448': 1, '783731': 5, '217509': 1, '722203': 1, '1671502': 3, '783743': 1, '938589': 1, '785677': 1, '783521': 1, '784928': 1, '785690': 1, '784515': 1, '721981': 1, '788189': 1, '217599': 1, '784063': 1, '1428328': 1, '786140': 1, '889482': 1, '1000095': 1, '788205': 1, '217933': 2, '788151': 1, '787077': 1, '784535': 1, '786067': 1, '1278915': 1, '784044': 1, '722029': 1, '943208': 2, '938603': 1, '1622377': 1, '217905': 1, '788417': 1, '784439': 1, '787845': 1, '996439': 1, '1622320': 1, '938439': 2, '785147': 1, '217644': 1, '783824': 1, '722376': 1, '784266': 4, '72152': 1, '722358': 2, '785858': 1, '783758': 1, '788358': 1, '787560': 1, '217924': 1, '722050': 1, '783976': 1, '784702': 5, '786925': 8, '1632520': 1, '784006': 1, '787134': 1, '783813': 1, '1688023': 1, '786539': 1, '999598': 2, '785826': 1, '786507': 1, '787403': 2, '787748': 1, '788180': 1, '785365': 1, '785601': 1, '72145': 1, '787129': 1, '722158': 1, '788030': 1, '219771': 0, '784469': 1, '788353': 1, '784827': 1, '784922': 6, '785182': 1, '938481': 3, '1000236': 1, '721958': 1, '786489': 1, '217734': 1, '786820': 5, '787216': 1, '785362': 1, '787807': 1, '1688028': 1, '784883': 1, '721973': 1, '787317': 2, '1658666': 4, '786905': 8, '787285': 1, '722159': 0, '1622424': 1, '722033': 1, '784539': 1, '788447': 1, '938608': 1, '784924': 1, '787102': 1, '786880': 1, '1622700': 1, '936950': 3, '788901': 1, '1677650': 1, '784782': 2, '785009': 1, '787977': 1, '786173': 17, '784750': 1, '721949': 1, '1554271': 1, '787972': 1, '1686658': 1, '787414': 0, '72134': 1, '784443': 1, '1000359': 1, '722152': 1, '787365': 2, '1622707': 1, '722000': 1, '1687959': 1, '722546': 1, '787484': 0, '784621': 2, '217892': 1, '785842': 1, '784557': 1, '217557': 1, '938548': 1, '783880': 1, '722202': 2, '787427': 0, '832807': 0, '217942': 4, '786688': 15, '999921': 1, '1279048': 1, '996352': 1, '784219': 2, '1774999': 1, '786238': 2, '1000347': 1, '784667': 1, '786720': 1, '784417': 5, '786840': 4, '1000898': 2, '217902': 1, '721965': 1, '217807': 1, '787496': 1, '786262': 1, '787010': 2, '888628': 1, '788224': 2, '938820': 2, '1687947': 1, '785806': 1, '938490': 1, '787847': 1, '784599': 2, '1677665': 1, '889246': 1, '785455': 1, '785487': 1, '999926': 2, '787432': 1, '783558': 1, '72120': 2, '787791': 3, '787348': 1, '786835': 14, '784210': 5, '788421': 1, '784353': 1, '72144': 1, '784216': 1, '785035': 2, '1428322': 1, '1622492': 1, '788051': 1, '1622623': 1, '722220': 1, '784593': 1, '217575': 1, '785795': 2, '217907': 1, '722034': 1, '787723': 1, '786882': 6, '785480': 1, '786495': 1, '217500': 1, '787813': 1, '722125': 1, '784409': 1, '785312': 2, '787598': 1, '722564': 1, '1688053': 1, '787358': 5, '786847': 1, '1622658': 1, '1000332': 1, '1688074': 1, '787387': 1, '784481': 1, '787854': 1, '938638': 1, '785695': 1, '999697': 1, '784111': 3, '784832': 1, '1660084': 1, '786313': 1, '788390': 1, '785070': 1, '996194': 1, '784144': 1, '788415': 1, '941900': 1, '788086': 1, '787123': 1, '786563': 1, '722193': 1, '786130': 1, '938592': 2, '783816': 19, '369516': 1, '1000305': 0, '1752576': 1, '788242': 1, '784512': 1, '786627': 6, '786330': 1, '1622781': 1, '1481597': 1, '785890': 4, '787340': 15, '784942': 1, '786491': 1, '783698': 1, '369512': 1, '721985': 1, '784000': 1, '784416': 1, '787470': 1, '784445': 1, '369533': 1, '787721': 1, '786302': 1, '785778': 1, '722338': 1, '217762': 2, '787141': 1, '787371': 1, '787574': 1, '1677670': 1, '788096': 1, '788305': 1, '721976': 1, '1688075': 1, '784276': 1, '217648': 1, '785783': 1, '962319': 1, '784718': 1, '786670': 1, '996350': 2, '722114': 1, '786887': 1, '786693': 2, '784460': 2, '786133': 1, '787429': 1, '787353': 1, '1622677': 1, '783690': 1, '787765': 1, '785645': 1, '217903': 1, '722186': 1, '1000342': 1, '1622307': 2, '788309': 1, '786878': 1, '1622732': 1, '787783': 1, '786573': 1, '1686705': 1, '788254': 1, '784570': 1, '787653': 14, '784333': 9, '1671487': 3, '787166': 1, '787956': 1, '784086': 1, '1688464': 1, '217812': 1, '784528': 1, '784361': 2, '787996': 1, '787011': 1, '785571': 1, '783609': 2, '786109': 1, '787359': 1, '783779': 1, '785412': 2, '722431': 1, '786518': 1, '787015': 1, '784419': 1, '1622306': 2, '72127': 1, '785119': 1, '785115': 1, '217568': 1, '1677657': 1, '783780': 1, '783970': 1, '722010': 1, '369527': 1, '217715': 1, '786214': 1, '784907': 1, '1622454': 1, '784386': 1, '1764136': 1, '999909': 1, '784229': 2, '784474': 2, '786278': 3, '787397': 1, '217674': 1, '783601': 1, '785800': 1, '788106': 1, '943792': 1, '785004': 1, '1677654': 1, '786865': 1, '1622586': 1, '1295874': 1, '1632024': 4, '786722': 1, '785670': 1, '938571': 1, '217616': 1, '999828': 1, '787515': 1, '72124': 1, '784227': 1, '784189': 1, '217780': 1, '1687899': 1, '721995': 1, '785024': 1, '788365': 1, '784203': 2, '785162': 1, '783670': 1, '217752': 1, '784740': 1, '788449': 1, '786599': 1, '1624728': 1, '1672042': 1, '722344': 1, '722051': 1, '785728': 1, '784092': 4, '1658650': 1, '784807': 1, '785158': 1, '784763': 1, '785862': 1, '1763769': 0, '786169': 1, '787326': 12, '996402': 1, '787083': 1, '722381': 1, '787139': 1, '1622772': 1, '1653055': 1, '1767048': 1, '996726': 1, '1669958': 1, '217540': 1, '1622376': 1, '72121': 1, '783746': 1, '787912': 1, '784104': 3, '938377': 1, '722370': 2, '1622449': 2, '784622': 1, '785831': 2, '999729': 1, '217545': 1, '938495': 1, '722137': 1, '1622705': 1, '938457': 2, '785073': 1, '787328': 1, '785144': 1, '787433': 1, '788046': 1, '788240': 1, '787390': 2, '721886': 1, '785353': 1, '784787': 1, '1677663': 1, '1622761': 1, '369542': 1, '1622187': 1, '217524': 1, '784972': 1, '1622529': 1, '1688059': 3, '785675': 1, '722040': 1, '787406': 1, '217778': 1, '785447': 1, '784799': 1, '787287': 1, '787841': 1, '217794': 1, '783611': 2, '722042': 1, '787379': 3, '721970': 2, '938578': 1, '787250': 2, '786039': 2, '787256': 1, '785435': 6, '722117': 1, '938480': 1, '786234': 2, '786036': 2, '217522': 1, '1622699': 1, '1622672': 1, '787514': 4, '217754': 1, '1671764': 1, '1677620': 2, '783589': 1, '784083': 1, '785770': 1, '1622289': 1, '786995': 1, '938413': 1, '1622295': 1, '787039': 1, '787962': 1, '217590': 2, '783577': 1, '722160': 1, '784613': 1, '785238': 1, '783993': 1, '1687601': 1, '785264': 1, '999669': 1, '786222': 1, '787092': 2, '1670229': 1, '1000323': 1, '785495': 1, '722396': 1, '1622731': 1, '786779': 2, '1772358': 3, '788201': 1, '1671760': 1, '788327': 1, '784511': 2, '785552': 1, '783643': 1, '722535': 1, '1622513': 2, '1686641': 1, '784194': 34, '785732': 1, '787572': 2, '786817': 1, '938462': 1, '1275186': 1, '721968': 1, '722020': 1, '722322': 1, '783542': 1, '1671743': 1, '784262': 1, '783713': 1, '785866': 1, '996361': 1, '784983': 2, '787643': 3, '783828': 1, '787554': 2, '785287': 2, '722149': 2, '784215': 0, '784991': 1, '787122': 7, '1686657': 1, '784695': 6, '1000213': 2, '1767056': 1, '786617': 3, '217703': 1, '785377': 2, '996048': 1, '786721': 1, '784108': 2, '217572': 2, '786947': 2, '938553': 1, '787757': 1, '787130': 7, '1278960': 1, '788199': 1, '999547': 1, '785791': 3, '786782': 20, '787563': 1, '787366': 1, '784654': 17, '786360': 1, '1622692': 1, '1764073': 1, '785660': 2, '787260': 1, '784510': 1, '938491': 1, '786405': 3, '787759': 1, '783864': 1, '1622439': 1, '784413': 1, '1677610': 4, '785609': 1, '787565': 5, '996339': 1, '786808': 1, '1000904': 1, '722187': 1, '784299': 1, '1428329': 1, '783548': 1, '784065': 1, '785398': 1, '784011': 1, '785268': 3, '787507': 1, '1622502': 1, '785441': 1, '1622530': 1, '938644': 1, '786556': 1, '786745': 19, '1622661': 1, '785262': 1, '786097': 1, '722286': 1, '722062': 1, '788185': 2, '786174': 1, '786445': 2, '785001': 3, '1686702': 1, '722554': 3, '1688045': 2, '787046': 5, '217691': 1, '787255': 1, '1767789': 1, '1622385': 1, '785245': 2, '784040': 1, '721957': 1, '786604': 1, '785591': 1, '893109': 1, '785661': 3, '785730': 1, '784964': 3, '994953': 1, '784018': 1, '722180': 1, '217668': 1, '722026': 3, '787262': 1, '787772': 1, '788024': 2, '72153': 1, '787487': 3, '787652': 9, '785310': 2, '1686769': 1, '784327': 1, '787128': 1, '784371': 3, '785785': 1, '1622311': 1, '787736': 1, '785376': 1, '1671920': 1, '217915': 1, '1677661': 1, '217659': 1, '783503': 13, '784753': 1, '1622441': 1, '786778': 1, '1364346': 1, '217908': 2, '784456': 1, '785610': 1, '217567': 1, '1622631': 1, '788220': 2, '784454': 1, '784755': 1, '787651': 1, '788114': 1, '938493': 2, '786183': 1, '783719': 1, '722173': 1, '783728': 4, '784148': 1, '722177': 1, '1671919': 1, '217689': 1, '784185': 1, '1622747': 1, '788301': 1, '996353': 1, '785894': 1, '219779': 2, '369530': 1, '787610': 1, '722018': 1, '784263': 1, '1278542': 2, '938563': 1, '217887': 1, '783890': 1, '1669968': 1, '786257': 3, '217544': 1, '786696': 1, '788329': 1, '938520': 1, '786300': 2, '784126': 2, '788133': 1, '1670115': 1, '786069': 1, '1622462': 1, '786992': 1, '783904': 2, '938465': 1, '784418': 1, '786901': 8, '784377': 1, '786740': 1, '787475': 1, '1000829': 1, '938419': 11, '787697': 1, '788439': 2, '1686588': 1, '784232': 9, '785051': 1, '1622768': 1, '217598': 1, '785462': 1, '1622486': 1, '783751': 1, '1752573': 1, '786549': 2, '1670209': 2, '784239': 2, '1786545': 1, '721996': 1, '722232': 1, '1622312': 1, '788068': 1, '786994': 1, '783805': 2, '787311': 1, '784493': 1, '369503': 1, '722211': 1, '785646': 1, '938568': 1, '784542': 1, '787027': 1, '788146': 2, '217588': 1, '784056': 1, '787037': 3, '217491': 1, '217526': 1, '784628': 1, '786087': 1, '1622750': 1, '785243': 8, '1677669': 1, '787155': 1, '785230': 4, '832799': 1, '1622288': 1, '786879': 1, '785817': 1, '1671921': 2, '783547': 1, '938560': 1, '938564': 2, '786200': 1, '783663': 1, '788099': 1, '783881': 1, '788469': 3, '785836': 1, '787914': 1, '217897': 2, '784477': 1, '785469': 1, '787626': 1, '784466': 1, '786186': 1, '784433': 1, '787064': 1, '1622647': 1, '785356': 1, '786499': 2, '1622645': 1, '783773': 1, '938529': 1, '785956': 5, '1688040': 1, '1658642': 1, '1688025': 1, '938524': 1, '1688062': 1, '999725': 1, '1622521': 1, '217926': 1, '784627': 1, '784617': 1, '784230': 1, '784556': 10, '938647': 2, '722561': 1, '788094': 1, '722141': 1, '787467': 3, '784548': 1, '786205': 1, '783736': 3, '217642': 1, '927654': 1, '783688': 1, '722174': 7, '784562': 1, '722446': 1, '787066': 1, '1622366': 1, '1672146': 1, '787873': 1, '785163': 1, '786860': 5, '784146': 3, '217859': 1, '786729': 1, '788278': 1, '784341': 1, '786621': 1, '722559': 1, '1688078': 1, '783639': 1, '786239': 2, '786705': 1, '787533': 5, '1278543': 1, '785815': 2, '1622180': 1, '217485': 1, '786430': 1, '787662': 1, '941434': 3, '784357': 1, '369545': 1, '786896': 1, '787448': 3, '1622599': 1, '786343': 1, '785063': 2, '786776': 7, '1000088': 1, '217785': 1, '784906': 2, '938556': 1, '783764': 1, '786493': 1, '784997': 1, '787710': 1, '1687957': 1, '787926': 1, '784291': 1, '1686643': 1, '786415': 1, '784274': 1, '962420': 1, '787372': 1, '783952': 2, '786660': 1, '1672148': 6, '785740': 1, '1622484': 1, '786681': 1, '783893': 1, '785302': 1, '217593': 1, '787308': 1, '785878': 2, '787998': 1, '784381': 1, '786312': 1, '784843': 1, '784468': 1, '784271': 7, '784698': 1, '786382': 1, '788070': 1, '1622740': 1, '784808': 1, '787627': 2, '785755': 1, '786793': 1, '722367': 1, '787537': 2, '784117': 1, '722252': 1, '784625': 1, '721992': 1, '786056': 2, '1622695': 1, '785003': 3, '1677649': 1, '217466': 1, '788364': 1, '217720': 1, '785299': 1, '786576': 1, '787408': 1, '786732': 1, '784989': 1, '786630': 1, '722242': 1, '788200': 1, '787605': 1, '785420': 1, '785103': 5, '721964': 2, '786333': 1, '785411': 1, '787069': 1, '1292024': 1, '785753': 1, '722208': 1, '1622498': 1, '785259': 1, '722004': 1, '784646': 1, '722212': 1, '787171': 1, '786674': 2, '784809': 1, '785018': 3, '784467': 1, '1622641': 1, '217723': 1, '784561': 2, '783972': 1, '785655': 1, '786650': 1, '786773': 39, '786106': 1, '938587': 1, '785319': 1, '784382': 1, '787573': 2, '787063': 1, '722233': 1, '722171': 1, '787707': 1, '784387': 7, '1622607': 1, '788039': 1, '217871': 1, '832810': 0, '217597': 1, '721977': 1, '786727': 1, '787959': 1, '785597': 1, '72139': 2, '783763': 1, '722273': 1, '785336': 1, '1687180': 2, '788371': 1, '787234': 1, '1686580': 3, '785669': 1, '787676': 1, '784222': 1, '1687964': 1, '787459': 0, '1686651': 1, '788286': 1, '722532': 1, '1622780': 1, '783534': 1, '1752579': 1, '217618': 1, '996247': 1, '787999': 1, '722258': 1, '785261': 1, '784366': 3, '72142': 1, '785533': 1, '1622679': 1, '785704': 1, '1278918': 1, '786281': 1, '994966': 1, '786375': 4, '787548': 1, '217651': 1, '722072': 1, '784500': 1, '996369': 2, '217821': 1, '785625': 1, '999740': 1, '1687942': 1, '784486': 3, '786115': 1, '217774': 1, '1622370': 1, '785689': 1, '783733': 1, '722179': 2, '217697': 1, '711260': 1, '1660900': 2, '786113': 1, '722432': 1, '787117': 1, '787661': 2, '938515': 1, '784426': 1, '784874': 1, '787663': 3, '788347': 1, '786334': 1, '784773': 1, '217650': 1, '787513': 1, '785766': 1, '832804': 0, '938598': 4, '787347': 1, '785540': 2, '785895': 6, '785113': 1, '783697': 1, '943212': 1, '722099': 1, '722169': 1, '787566': 1, '788352': 3, '784153': 4, '786387': 1, '936949': 1, '721975': 1, '722374': 1, '784364': 2, '1687614': 1, '722379': 1, '938508': 2, '1622629': 1, '783863': 1, '783535': 2, '1687643': 1, '786440': 1, '784792': 1, '787101': 1, '786148': 1, '785152': 2, '722557': 1, '785726': 1, '786242': 5, '217737': 1, '1622601': 1, '784586': 1, '1686543': 1, '787085': 23, '995956': 2, '788310': 1, '217629': 1, '784311': 3, '787927': 1, '927648': 10, '72148': 1, '722143': 1, '1622763': 1, '722201': 1, '785715': 1, '788202': 1, '787233': 1, '785446': 1, '783744': 1, '787896': 1, '722067': 2, '784225': 1, '784031': 1, '994986': 2, '785373': 1, '996521': 1, '786286': 1, '369519': 1, '786749': 1, '938478': 5, '1677645': 1, '786427': 1, '1000101': 1, '785450': 1, '786764': 4, '783901': 1, '938651': 1, '783775': 3, '787207': 1, '938635': 4, '1622409': 1, '788138': 1, '783766': 3, '1672036': 1, '1000361': 1, '786419': 4, '788029': 1, '788003': 4, '786855': 1, '786509': 1, '787172': 1, '786158': 3, '785317': 1, '1622783': 1, '785298': 1, '1000355': 2, '1622336': 2, '784254': 1, '784811': 1, '785060': 1, '787677': 1, '786364': 1, '786848': 1, '722126': 1, '217832': 1, '783827': 1, '788269': 1, '785105': 3, '786692': 1, '788361': 1, '1622754': 1, '1686637': 1, '1622715': 1, '786504': 1, '783771': 5, '786376': 1, '964000': 1, '787923': 1, '784829': 5, '783838': 1, '788326': 1, '1622416': 4, '787882': 1, '784288': 4, '721926': 1, '784352': 1, '784839': 1, '786092': 4, '1000393': 1, '784580': 4, '1622361': 1, '217701': 1, '962419': 2, '788460': 12, '786818': 1, '369505': 1, '787831': 1, '1688034': 2, '786777': 1, '785640': 1, '785718': 1, '783632': 1, '784848': 1, '1622395': 1, '788406': 1, '1670232': 1, '785269': 1, '1431555': 1, '787708': 1, '785463': 2, '1622352': 1, '722415': 5, '786963': 1, '722280': 1, '785772': 3, '785140': 2, '784882': 1, '787245': 1, '999804': 1, '1686525': 2, '785716': 1, '787201': 1, '999617': 1, '1000300': 1, '787762': 1, '996520': 1, '996586': 1, '788084': 1, '938588': 1, '785631': 2, '999676': 1, '784604': 1, '722268': 1, '217476': 1, '787752': 1, '217529': 1, '783550': 1, '786669': 1, '785835': 1, '217846': 1, '785763': 1, '786659': 3, '787296': 3, '217636': 2, '784559': 1, '787313': 1, '784618': 1, '783946': 6, '784674': 1, '784360': 1, '787528': 4, '784193': 1, '784212': 1, '786125': 6, '722183': 1, '785350': 1, '784566': 1, '786351': 1, '786922': 2, '722363': 2, '995979': 1, '784082': 1, '217465': 2, '217496': 1, '1672011': 1, '783968': 1, '786786': 4, '786272': 1, '1677626': 1, '787672': 1, '217934': 2, '722148': 1, '217582': 1, '785790': 1, '1622651': 1, '1000339': 5, '787023': 4, '217521': 1, '784452': 1, '785506': 2, '784639': 1, '785804': 1, '785801': 1, '785720': 1, '721956': 1, '788472': 1, '217630': 1, '786061': 1, '217565': 1, '1658652': 1, '787276': 1, '1622619': 1, '787928': 1, '1622648': 1, '784355': 1, '784728': 1, '786969': 1, '1447115': 1, '787596': 1, '722319': 1, '1672009': 1, '1688049': 1, '785053': 1, '938521': 1, '788362': 1, '999716': 1, '785400': 1, '786566': 2, '722024': 4, '788336': 1, '217654': 1, '787883': 1, '784081': 1, '783885': 4, '786310': 6, '785083': 1, '787148': 10, '786482': 1, '786307': 1, '1671622': 1, '787205': 13, '938489': 2, '788210': 1, '722373': 1, '784135': 1, '1660904': 1, '938602': 1, '784035': 8, '839728': 1, '788150': 1, '783858': 1, '722542': 1, '786321': 4, '787242': 1, '784868': 1, '1622714': 1, '217609': 3, '786136': 1, '785305': 1, '788473': 1, '787624': 1, '938628': 3, '785058': 1, '787345': 1, '1622764': 2, '1671936': 1, '1672085': 1, '787301': 9, '788345': 1, '999755': 1, '1622637': 1, '784756': 1, '787360': 1, '786071': 1, '783495': 3, '722334': 1, '722275': 1, '786950': 6, '783557': 1, '783846': 1, '787265': 1, '786209': 1, '787635': 2, '783629': 1, '785159': 12, '786528': 1, '785624': 1, '786899': 1, '783514': 1, '783677': 19, '72137': 1, '787722': 1, '1428332': 1, '1622727': 1, '786754': 2, '784837': 2, '787951': 1, '795642': 1, '1446861': 1, '787750': 1, '786769': 1, '217748': 1, '217766': 1, '786431': 1, '1622730': 1, '1686642': 3, '785215': 1, '1622789': 1, '927933': 1, '786506': 1, '783945': 1, '788389': 1, '217639': 1, '722419': 1, '786412': 1, '722368': 1, '369515': 1, '787436': 2, '786142': 21, '1686640': 2, '784875': 1, '787465': 0, '217741': 1, '722116': 1, '783872': 3, '217519': 1, '785685': 1, '783722': 1, '996340': 4, '787889': 1, '722388': 1, '785293': 1, '786636': 7, '217790': 1, '784181': 2, '784463': 1, '787886': 1, '217745': 1, '1622324': 1, '217782': 1, '787909': 1, '722269': 1, '1622609': 1, '722551': 3, '785978': 53, '1622496': 1, '786924': 1, '788188': 1, '783540': 2, '783923': 3, '787976': 1, '783844': 1, '784788': 1, '785394': 1, '785522': 1, '1622620': 3, '722006': 1, '783927': 2, '787290': 5, '785074': 1, '784158': 1, '217469': 1, '217824': 1, '938412': 1, '787501': 3, '1622189': 1, '787810': 1, '217791': 2, '785809': 1, '1002392': 1, '785383': 2, '786529': 1, '785413': 1, '787742': 1, '787936': 1, '938551': 1, '1672037': 1, '722244': 1, '1686647': 1, '787025': 1, '721990': 1, '785418': 1, '1000237': 1, '784322': 1, '938514': 1, '996438': 1, '785241': 1, '786206': 1, '1773118': 1, '1707485': 1, '217699': 1, '783772': 1, '722327': 1, '1671624': 1, '784725': 1, '1622417': 1, '72132': 1, '785382': 1, '1622420': 1, '784749': 1, '787970': 1, '786731': 1, '217881': 1, '217617': 1, '786577': 4, '785877': 1, '722332': 1, '1622468': 1, '787681': 1, '885492': 1, '217836': 2, '996365': 1, '784768': 1, '787944': 2, '722330': 1, '786473': 16, '1622388': 1, '786291': 1, '786408': 2, '217507': 1, '217586': 1, '722002': 1, '1622310': 1, '994994': 1, '898361': 3, '722003': 1, '1622347': 1, '1670210': 1, '1687624': 1, '785320': 1, '786545': 4, '786794': 4, '785000': 1, '786221': 4, '1622192': 1, '840722': 1, '788184': 1, '938630': 1, '1297504': 1, '784265': 1, '996648': 3, '786856': 9, '219770': 0, '1622618': 1, '788475': 1, '784487': 1, '722347': 1, '788232': 12, '786204': 1, '787399': 1, '783654': 1, '784174': 2, '72136': 2, '1658667': 1, '943209': 1, '1688047': 1, '722567': 1, '786393': 1, '787004': 1, '786725': 3, '722243': 1, '786646': 3, '787306': 1, '785888': 1, '784912': 1, '786407': 1, '787050': 1, '1002561': 3, '722530': 1, '784488': 2, '996202': 1, '784910': 1, '1000097': 1, '785088': 1, '722359': 1, '784573': 3, '553331': 1, '1758829': 0, '787564': 1, '784097': 1, '785410': 1, '1622704': 1, '787192': 1, '787625': 14, '787218': 1, '786199': 1, '722422': 1, '938456': 1, '903423': 1, '785029': 13, '787567': 1, '722046': 1, '217585': 1, '784345': 3, '786293': 1, '1622685': 1, '784626': 2, '784990': 2, '787343': 1, '787793': 1, '788409': 1, '1622291': 1, '787618': 1, '1622358': 1, '722210': 4, '784717': 1, '786432': 3, '217747': 3, '786991': 1, '217688': 2, '786582': 1, '786803': 1, '784776': 1, '786494': 1, '1622464': 1, '1688043': 1, '785680': 1, '217726': 1, '787730': 1, '1000350': 2, '786586': 1, '1622455': 1, '217936': 1, '785091': 1, '787703': 1, '785236': 1, '784050': 1, '783497': 1, '1764145': 1, '786997': 1, '721941': 1, '786875': 1, '217530': 1, '785491': 2, '784931': 1, '177285': 1, '783720': 2, '787973': 1, '217866': 2, '785630': 2, '722537': 1, '783568': 1, '786441': 1, '1764144': 1, '217554': 1, '1618356': 1, '786546': 1, '787483': 1, '217705': 2, '785893': 1, '938475': 2, '217865': 1, '787821': 1, '787093': 1, '788032': 1, '784356': 1, '217771': 1, '786531': 1, '1000382': 1, '784716': 1, '785881': 1, '369524': 1, '787210': 25, '1000899': 1, '1278916': 2, '786824': 3, '787478': 0, '783554': 1, '938528': 1, '788324': 1, '786971': 1, '787751': 1, '786057': 1, '217700': 1, '369500': 1, '786538': 2, '788061': 2, '938650': 4, '786437': 1, '785620': 1, '785789': 4, '787369': 1, '616691': 1, '785442': 1, '217512': 1, '784606': 1, '787816': 1, '785150': 1, '783624': 8, '784328': 1, '785340': 1, '787657': 27, '787105': 1, '721869': 1, '784268': 1, '786059': 8, '785458': 1, '786606': 5, '1622703': 2, '783512': 1, '786472': 1, '786941': 14, '783747': 1, '785424': 2, '938596': 1, '995932': 1, '722005': 1, '784073': 1, '787323': 1, '788047': 1, '722060': 3, '1763770': 0, '787153': 2, '722078': 1, '217608': 1, '787068': 9, '1687955': 1, '938547': 1, '1672031': 1, '218153': 1, '938378': 1, '1622338': 1, '784747': 1, '785724': 1, '786938': 1, '1000320': 1, '787462': 1, '1677558': 1, '786601': 1, '1622595': 1, '217857': 1, '788154': 4, '788209': 1, '787195': 14, '217731': 3, '786395': 2, '786874': 15, '217716': 1, '217671': 1, '783552': 1, '784455': 4, '784677': 1, '786857': 2, '783948': 1, '722324': 1, '785534': 4, '786128': 1, '788025': 1, '784402': 3, '786157': 1, '784760': 6, '785553': 1, '217566': 1, '783757': 3, '788423': 4, '787395': 2, '787620': 1, '938411': 1, '783665': 1, '787442': 1, '783760': 7, '785149': 1, '784480': 1, '787095': 9, '785737': 1, '787425': 0, '784177': 2, '787187': 1, '938613': 1, '786913': 279, '787186': 5, '722311': 1, '786738': 1, '722087': 2, '1686712': 1, '1688044': 1, '784633': 2, '784506': 4, '785588': 1, '784786': 1, '785326': 1, '1622757': 1, '786918': 3, '784438': 1, '931109': 1, '787933': 1, '1764147': 3, '788219': 1, '1000336': 1, '786030': 1, '722161': 2, '785519': 1, '722522': 1, '788177': 1, '1671408': 1, '783943': 6, '784675': 1, '788315': 1, '721946': 1, '785054': 1, '938496': 1, '785226': 1, '1688057': 1, '1000830': 1, '787485': 0, '787797': 1, '1752572': 1, '787808': 1, '786810': 1, '784587': 1, '1671926': 1, '788303': 1, '217710': 1, '886405': 1, '999906': 1, '722164': 1, '217646': 1, '938599': 1, '784541': 28, '1758830': 1, '787815': 1, '788424': 1, '784485': 1, '1000352': 1, '1705053': 1, '722190': 1, '787734': 1, '938614': 1, '784700': 5, '787667': 1, '1752577': 1, '787526': 1, '787094': 1, '722054': 1, '1622415': 1, '72133': 1, '787740': 1, '784305': 4, '784380': 4, '785774': 1, '938537': 2, '968987': 1, '722122': 1, '784909': 3, '785369': 1, '786444': 1, '787884': 1, '787438': 1, '722206': 1, '927871': 2, '1687960': 1, '217549': 1, '1687943': 1, '785701': 1, '999935': 1, '1672152': 1, '785688': 1, '785415': 3, '722297': 1, '931104': 6, '786752': 6, '996592': 1, '787209': 1, '785097': 1, '722366': 1, '217589': 1, '1677672': 1, '217884': 1, '722543': 2, '784632': 1, '787891': 2, '786561': 4, '1622435': 1, '786139': 1, '788234': 2, '785657': 1, '1686815': 1, '722157': 1, '785389': 2, '1000356': 1, '785602': 1, '784603': 1, '785698': 2, '784237': 1, '722217': 1, '783527': 2, '784856': 1, '785210': 1, '783505': 1, '785315': 3, '788348': 1, '722022': 1, '722107': 1, '721928': 1, '786487': 1, '722371': 1, '996252': 1, '784482': 1, '787743': 1, '1764732': 1, '784955': 4, '1688070': 1, '786289': 6, '1686646': 1, '217786': 1, '783796': 3, '783680': 1, '788333': 1, '1622675': 1, '1686940': 1, '785733': 1, '786955': 1, '783689': 2, '784575': 2, '788379': 1, '788137': 1, '999604': 1, '722097': 2, '938636': 2, '1428321': 1, '785820': 1, '783614': 1, '783878': 1, '784611': 1, '784161': 1, '217607': 2, '217889': 1, '787247': 2, '785380': 1, '784249': 1, '784278': 2, '783531': 1, '786384': 1, '787335': 1, '784957': 15, '722335': 2, '1622634': 1, '787492': 1, '722178': 1, '787934': 1, '786751': 2, '784824': 1, '784941': 6, '784300': 3, '783510': 1, '785322': 1, '217490': 1, '995963': 1, '369511': 1, '786320': 1, '1444375': 2, '722457': 1, '787601': 1, '1658657': 1, '217858': 1, '784403': 1, '1688020': 1, '785423': 1, '996050': 1, '788074': 1, '784737': 1, '217811': 1, '784689': 1, '787477': 0, '786035': 1, '786858': 6, '832805': 5, '996727': 1, '784772': 2, '217815': 1, '786347': 1, '783526': 1, '217875': 1, '785765': 1, '785300': 1, '785130': 3, '784651': 12, '784842': 1, '721888': 1, '786999': 1, '786203': 1, '786112': 1, '217850': 4, '722303': 1, '1622614': 1, '625000': 1, '783644': 3, '1622713': 0, '785793': 1, '787664': 1, '722526': 1, '784098': 1, '786697': 1, '788229': 1, '996416': 1, '786984': 1, '722421': 1, '938653': 1, '1686526': 1, '787382': 1, '787811': 1, '1622497': 1, '1672075': 1, '722192': 1, '786271': 1, '783961': 1, '786892': 3, '784501': 2, '788015': 1, '721991': 1, '785193': 1, '938545': 1, '938606': 1, '785141': 1, '787864': 1, '784325': 1, '785282': 1, '784530': 1, '787769': 1, '995965': 1, '786042': 1, '722226': 2, '722031': 1, '784221': 2, '1622660': 1, '786602': 1, '787915': 1, '784420': 22, '786344': 1, '722213': 1, '784376': 1, '788144': 1, '1688069': 1, '722318': 1, '995933': 6, '784496': 1, '786250': 6, '783787': 1, '785513': 1, '1672008': 1, '784890': 1, '786642': 1, '786345': 1, '1000215': 1, '785127': 15, '784415': 1, '1622726': 1, '786939': 3, '784379': 4, '1671767': 1, '785100': 1, '1138463': 1, '1763766': 0, '788221': 1, '784444': 1, '785505': 1, '787384': 1, '787471': 7, '786151': 1, '785155': 1, '783883': 1, '784014': 1, '783900': 2, '786819': 1, '787633': 1, '722524': 1, '788374': 2, '784019': 3, '788405': 3, '783693': 1, '787199': 2, '788113': 1, '787213': 1, '786435': 2, '722015': 4, '785856': 1, '784519': 2, '217893': 1, '721993': 2, '1686523': 1, '784884': 1, '783655': 1, '786153': 1, '787045': 1, '217666': 1, '784001': 1, '1758866': 3, '784134': 4, '1000337': 1, '785224': 2, '784853': 3, '722076': 1, '785570': 2, '722088': 2, '784208': 1, '786107': 1, '788373': 2, '783691': 1, '1758106': 1, '722382': 1, '784407': 1, '784929': 1, '1688026': 1, '722221': 2, '217804': 1, '783931': 3, '787386': 1, '784775': 1, '886430': 1, '784547': 3, '785145': 1, '786829': 20, '785676': 1, '786968': 1, '786972': 1, '1000353': 2, '785247': 1, '1351066': 1, '1677653': 3, '1660898': 1, '217552': 1, '1622499': 2, '217600': 1, '786379': 1, '1622472': 1, '787675': 1, '785501': 2, '217626': 2, '785137': 1, '217501': 1, '217801': 1, '784289': 1, '1622341': 1, '785742': 2, '784708': 1, '1622292': 2, '996362': 1, '1263742': 1, '784178': 1, '722023': 1, '786294': 1, '785185': 13, '787081': 1, '787780': 1, '1751071': 1, '938637': 1, '784852': 1, '786237': 4, '783656': 1, '785673': 1, '783841': 1, '217684': 1, '786609': 4, '787003': 1, '943207': 3, '1686703': 1, '788035': 1, '786190': 3, '787292': 2, '784620': 1, '783817': 1, '784191': 1, '787986': 1, '788404': 1, '784949': 1, '787510': 2, '785095': 10, '785694': 1, '1687619': 1, '783610': 1, '788103': 1, '784736': 1, '788118': 1, '785857': 1, '784550': 1, '784243': 1, '785502': 1, '938506': 1, '217563': 1, '783625': 2, '1622795': 1, '784340': 1, '783905': 1, '1622451': 1, '1622293': 1, '786279': 1, '786590': 1, '938641': 1, '784046': 1, '1622490': 1, '783966': 1, '785132': 1, '722429': 1, '783617': 1, '722176': 3, '938486': 1, '786316': 3, '217894': 4, '788157': 1, '785042': 1, '1622676': 1, '786483': 1, '722124': 1, '722261': 1, '783926': 1, '786533': 1, '1677700': 1, '786595': 1, '786486': 1, '784241': 17, '784421': 1, '1671768': 1, '217537': 1, '784891': 1, '786265': 2, '1276488': 1, '217759': 1, '938385': 1, '785520': 1, '787671': 3, '1000309': 1, '787902': 1, '783870': 1, '787254': 1, '787856': 1, '722378': 1, '783849': 5, '784170': 1, '786195': 2, '902078': 1, '786503': 5, '784451': 3, '999923': 3, '722383': 1, '217706': 1, '787232': 3, '786475': 1, '999741': 1, '784739': 1, '786129': 1, '783721': 2, '785198': 1, '788313': 2, '217738': 5, '785802': 1, '217756': 1, '785658': 3, '784048': 1, '787270': 1, '721947': 1, '785014': 1, '1622355': 1, '1671935': 2, '787006': 1, '1669927': 1, '784877': 1, '786739': 1, '722110': 1, '787231': 3, '788102': 1, '786339': 1, '787032': 1, '941432': 1, '784226': 1, '785549': 1, '784705': 1, '787525': 3, '931098': 1, '787644': 1, '785010': 1, '785547': 1, '787826': 1, '784711': 1, '786176': 1, '722375': 1, '786917': 5, '783957': 1, '784110': 2, '787545': 1, '1687149': 1, '966073': 1, '938472': 1, '217520': 1, '784893': 1, '995055': 2, '787133': 2, '786926': 2, '217558': 1, '217587': 4, '722326': 1, '787145': 1, '721929': 1, '788466': 4, '787228': 1, '787646': 1, '1670170': 1, '936951': 1, '786314': 1, '1658661': 1, '786611': 4, '784314': 1, '784841': 1, '785621': 1, '1671922': 1, '785684': 2, '787214': 4, '785705': 1, '787222': 1, '1428327': 2, '784602': 1, '1367356': 1, '722449': 1, '722315': 2, '786635': 1, '787267': 1, '787303': 1, '785367': 2, '784844': 1, '784211': 1, '1622392': 1, '784721': 1, '784513': 1, '785779': 1, '786156': 1, '1687179': 2, '784826': 1, '1622719': 2, '787235': 1, '938536': 1, '784781': 1, '785478': 1, '1622405': 1, '785256': 1, '1672074': 1, '1446209': 1, '996522': 1, '787191': 1, '785283': 3, '786822': 12, '783684': 1, '783712': 5, '996348': 1, '786619': 5, '787491': 1, '1622765': 1, '786096': 1, '787065': 1, '784563': 1, '217939': 1, '785699': 1, '786750': 3, '785286': 3, '938646': 8, '1677699': 1, '785384': 1, '1000335': 1, '786298': 1, '783839': 15, '1000362': 1, '787416': 1, '785206': 1, '1622640': 1, '788340': 1, '217687': 1, '1000331': 1, '1622456': 2, '785743': 1, '722558': 1, '788000': 1, '786501': 1, '1428324': 1, '787444': 1, '787798': 1, '784127': 1, '1622624': 1, '785023': 1, '722290': 1, '784272': 1, '784294': 1, '788258': 1, '786285': 2, '1670204': 1, '787689': 1, '783628': 2, '783944': 1, '786618': 1, '1622774': 1, '785470': 2, '787055': 1, '999735': 0, '217886': 4, '784859': 1, '785093': 4, '1686654': 1, '785572': 1, '784470': 1, '785048': 1, '722281': 1, '785089': 15, '784930': 1, '784810': 1, '783895': 3, '787246': 4, '722404': 1, '1687649': 1, '786934': 4, '722314': 1, '217690': 1, '1770601': 1, '787052': 1, '1622505': 2, '787706': 1, '785821': 1, '785202': 2, '786231': 3, '784664': 1, '783606': 3, '787419': 1, '217615': 1, '722150': 3, '786052': 6, '1671486': 1, '938546': 1, '787541': 2, '941435': 1, '786931': 1, '1622507': 1, '785034': 2, '722390': 1, '787848': 1, '1672006': 2, '1670176': 1, '785465': 1, '786903': 6, '788204': 1, '788319': 1, '786513': 34, '784114': 1, '786935': 10, '1367355': 5, '786045': 3, '785897': 1, '943211': 6, '784152': 1, '886674': 1, '784732': 1, '784993': 1, '938601': 1, '786512': 1, '1622701': 1, '785016': 1, '788268': 1, '1428323': 1, '1000831': 1, '783524': 2, '938468': 1, '785619': 1, '784036': 1, '785471': 1, '783608': 1, '785759': 1, '787115': 2, '784594': 1, '787905': 1, '787164': 1, '786454': 2, '783788': 1, '784857': 1, '722038': 2, '786155': 4, '1622407': 1, '785131': 7, '217468': 1, '788160': 1, '1622519': 1, '788248': 1, '783738': 2, '787935': 1, '785136': 1, '785179': 2, '785867': 2, '72143': 1, '784709': 1, '788077': 1, '786667': 3, '784887': 1, '786258': 10, '784317': 2, '994963': 1, '1622753': 1, '1622632': 1, '722080': 1, '787779': 1, '788135': 1, '722434': 1, '784066': 1, '72150': 1, '783808': 7, '784854': 1, '1686638': 1, '217578': 1, '784981': 2, '1622791': 1, '722172': 1, '1622360': 1, '722209': 1, '783647': 1, '1622794': 3, '787929': 1, '784534': 3, '1622739': 1, '927661': 2, '786797': 1, '1669916': 1, '786562': 2, '783561': 1, '784348': 1, '786885': 8, '886392': 1, '783995': 13, '1622418': 1, '1672029': 1, '786175': 1, '783825': 1, '786625': 1, '788386': 3, '938530': 3, '722265': 1, '785794': 1, '996336': 1, '604737': 1, '938497': 1, '787449': 0, '1686563': 1, '784693': 1, '1000341': 1, '784992': 5, '785536': 1, '217477': 1, '785204': 1, '784447': 1, '217564': 1, '786643': 1, '785872': 2, '722197': 4, '787866': 1, '722387': 1, '788175': 2, '787445': 1, '786443': 1, '787480': 1, '785142': 1, '722426': 1, '217852': 1, '788008': 1, '784313': 6, '784779': 1, '938451': 1, '784688': 4, '787872': 1, '786965': 5, '784055': 1, '786517': 13, '1622318': 1, '999564': 1, '219769': 0, '785691': 1, '784641': 3, '786852': 7, '938593': 1, '1671625': 1, '788260': 1, '722305': 1, '785542': 1, '786398': 1, '785629': 1, '784682': 1, '721998': 1, '996356': 1, '787768': 1, '938567': 3, '217652': 1, '995968': 1, '721932': 1, '786654': 1, '787862': 1, '784727': 1, '785666': 3, '217535': 1, '786456': 1, '786544': 1, '784123': 1, '784301': 1, '785464': 1, '1002426': 2, '784745': 2, '786804': 1, '785479': 1, '722435': 1, '787355': 3, '1622638': 1, '785260': 1, '217532': 1, '784316': 3, '788294': 1, '785605': 1, '786180': 2, '787239': 1, '787413': 1, '787695': 1, '1688462': 1, '784825': 1, '1622402': 1, '217872': 2, '788159': 1, '787378': 1, '788001': 1, '784250': 1, '784099': 1, '784295': 1, '785746': 1, '217742': 2, '784070': 1, '1700454': 1, '938531': 1, '786434': 1, '722156': 1, '785292': 1, '786826': 28, '786421': 3, '788337': 1, '787437': 3, '722433': 2, '785006': 1, '785064': 1, '938387': 1, '783742': 1, '787954': 1, '787989': 1, '786141': 1, '785864': 1, '787022': 3, '217517': 1, '784187': 1, '783592': 4, '788259': 1, '786450': 4, '722095': 1, '787685': 2, '784820': 1, '786198': 1, '784916': 6, '788078': 1, '787261': 2, '787818': 1, '786565': 1, '786759': 10, '783804': 1, '784113': 1, '217628': 1, '217729': 1, '783653': 4, '783924': 1, '72141': 1, '785037': 1, '786411': 1, '787833': 1, '787647': 1, '786616': 1, '1764152': 1, '1622735': 1, '722271': 2, '784999': 2, '722198': 1, '787696': 1, '786806': 1, '940776': 2, '788226': 0, '787268': 1, '369522': 1, '217696': 1, '786488': 1, '1622643': 1, '832813': 0, '784970': 1, '784175': 1, '999601': 1, '1622788': 1, '1654703': 1, '787202': 1, '1670208': 1, '787244': 1, '786687': 1, '722061': 1, '999915': 2, '783593': 2, '784694': 14, '1622430': 1, '783645': 1, '787699': 1, '217743': 1, '788053': 1, '785449': 1, '784155': 1, '72117': 1, '788237': 1, '785258': 1, '788255': 1, '941431': 5, '786626': 1, '786037': 1, '722398': 1, '787945': 1, '217495': 2, '722112': 3, '787907': 1, '786217': 1, '787641': 1, '786085': 3, '786099': 1, '787981': 1, '787167': 1, '784137': 1, '783919': 1, '783672': 5, '1622305': 1, '787325': 6, '783559': 1, '217827': 1, '787284': 2, '1460967': 1, '1622379': 1, '788314': 1, '159478': 1, '784648': 3, '722223': 1, '785414': 1, '786789': 5, '721967': 1, '783570': 2, '785880': 1, '787555': 1, '1622437': 1, '217847': 1, '786851': 9, '996204': 1, '786523': 1, '1688077': 1, '72118': 1, '785516': 2, '1622368': 10, '722409': 1, '783530': 1, '722008': 1, '786104': 2, '788392': 1, '785562': 3, '785721': 1, '786985': 1, '722165': 1, '786490': 1, '786514': 1, '159477': 1, '783958': 1, '722045': 25, '784862': 1, '784435': 1, '788124': 2, '787802': 1, '784609': 1, '786760': 2, '787405': 1, '786426': 1, '786510': 1, '783988': 1, '217471': 1, '788073': 3, '787058': 1, '786923': 1, '787556': 22, '722140': 1, '787585': 1, '787744': 1, '784812': 1, '786212': 1, '786691': 1, '788287': 1, '783633': 1, '786417': 1, '217925': 1, '784186': 3, '784894': 1, '783488': 1, '785090': 1, '786126': 2, '784128': 1, '722310': 1, '785600': 1, '786904': 12, '722057': 2, '785473': 1, '938604': 5, '784658': 4, '785849': 1, '784389': 1, '1688060': 1, '787497': 1, '784257': 1, '784908': 1, '786535': 1, '786152': 3, '785381': 1, '722231': 1, '217503': 1, '788306': 1, '788446': 2, '786335': 3, '217488': 1, '786511': 1, '830825': 1, '786718': 1, '786401': 1, '1687963': 1, '786267': 2, '217538': 1, '786353': 1, '787024': 1, '784195': 1, '787189': 35, '784758': 1, '786063': 1, '785212': 2, '784473': 1, '785172': 1, '787168': 1, '369508': 1, '785419': 5, '784729': 1, '783797': 1, '1622381': 1, '1622188': 1, '217788': 1, '783525': 1, '788136': 1, '788369': 2, '1622351': 1, '999627': 1, '369504': 1, '786210': 1, '786894': 7, '219768': 0, '1687936': 1, '1686636': 1, '1622294': 1, '785697': 1, '787599': 2, '839729': 1, '1764137': 1, '785027': 1, '996736': 1, '785404': 4, '787012': 1, '722184': 2, '785668': 4, '722295': 2, '784351': 2, '786378': 3, '788366': 1, '999831': 1, '787741': 1, '785045': 1, '1622457': 2, '786707': 1, '786792': 1, '1687151': 1, '785385': 1, '786796': 1, '788464': 1, '1672073': 2, '1672072': 1, '787946': 1, '788457': 1, '786906': 3, '785313': 3, '784719': 1, '787774': 1, '786064': 7, '1622290': 1, '1279068': 1, '787393': 4, '785664': 1, '787295': 3, '786397': 1, '217627': 2, '722063': 2, '999565': 2, '783994': 1, '783774': 1, '1622615': 1, '1622444': 2, '784790': 3, '1000363': 3, '787782': 1, '784039': 19, '722102': 1, '784899': 1, '783739': 1, '722200': 4, '785614': 1, '783586': 2, '784944': 6, '787000': 1, '1686814': 1, '786295': 153, '783741': 6, '1671482': 1, '784401': 1, '786372': 2, '784016': 1, '217525': 1, '217534': 1, '1670169': 1, '787252': 1, '938581': 1, '787760': 1, '786352': 1, '1622718': 1, '787464': 0, '786409': 1, '217873': 3, '784961': 3, '785784': 1, '783752': 2, '786374': 1, '1672028': 1, '787679': 3, '783675': 2, '786077': 1, '722115': 1, '217823': 2, '217808': 1, '1622678': 3, '788252': 1, '784629': 1, '886677': 1, '785075': 5, '786876': 1, '787530': 1, '784798': 1, '784489': 1, '996010': 1, '721887': 1, '783962': 1, '72122': 1, '786961': 1, '938464': 1, '785827': 2, '369529': 1, '787257': 1, '787593': 2, '999902': 1, '787571': 1, '785092': 1, '1687948': 1, '369521': 1, '217619': 1, '787127': 1, '785343': 1, '784871': 1, '784635': 1, '785606': 1, '785889': 1, '785528': 2, '1622508': 1, '938853': 1, '787775': 1, '783695': 1, '785461': 1, '784209': 2, '785734': 1, '787118': 18, '1622665': 1, '1622736': 1, '786377': 3, '788293': 1, '788311': 1, '785341': 1, '785355': 1, '783886': 1, '784207': 1, '938566': 1, '999562': 0, '369532': 1, '788066': 1, '787391': 9, '785371': 2, '784280': 1, '786596': 1, '784831': 1, '785850': 1, '1688037': 1, '783803': 2, '786164': 23, '369523': 1, '786481': 1, '787849': 1, '1622394': 2, '996304': 1, '217792': 1, '1622793': 1, '1279015': 1, '722001': 1, '1622657': 1, '999566': 1, '788331': 1, '785221': 1, '785197': 1, '786914': 28, '938504': 1, '786785': 6, '784867': 1, '785359': 1, '784159': 1, '788182': 1, '783638': 1, '786150': 4, '786235': 3, '783843': 2, '785667': 1, '1688056': 1, '722272': 1, '938594': 2, '72125': 1, '788444': 0, '786527': 1, '783681': 3, '217596': 3, '786526': 1, '784614': 1, '787113': 1, '722389': 2, '938485': 1, '785564': 2, '1622459': 1, '784129': 1, '785290': 1, '788013': 2, '1622698': 1, '783845': 1, '999883': 1, '788281': 1, '786369': 1, '788341': 1, '72151': 1, '787691': 2, '785529': 1, '785281': 1, '787969': 9, '787908': 1, '786592': 1, '784367': 1, '787304': 1, '722262': 1, '217831': 3, '1622712': 1, '785579': 1, '786765': 1, '785104': 1, '721953': 7, '787509': 1, '787588': 1, '1686644': 1, '788090': 2, '786666': 4, '786962': 3, '787097': 7, '787952': 1, '784691': 1, '788419': 1, '1622588': 6, '928034': 2, '1658651': 1, '784504': 1, '999752': 1, '1686661': 1, '785235': 1, '783790': 1, '785133': 2, '784976': 3, '722074': 3, '788428': 1, '784714': 1, '787665': 1, '722391': 1, '784950': 1, '786325': 1, '786891': 3, '217798': 1, '722091': 4, '996074': 1, '217637': 1, '787576': 1, '788276': 1, '722412': 1, '787221': 2, '787193': 5, '787156': 1, '1622359': 1, '785659': 1, '786043': 3, '787820': 1, '217494': 1, '787070': 1, '1671579': 1, '786196': 19, '785485': 1, '217573': 1, '783507': 1, '783950': 2, '786910': 1, '1622332': 2, '785110': 2, '938645': 1, '722364': 1, '786299': 3, '722108': 1, '938584': 1, '999679': 1, '722385': 3, '217923': 3, '217571': 1, '787361': 3, '994962': 1, '217515': 1, '788097': 1, '787177': 1, '786245': 9, '1622667': 1, '783909': 1, '786579': 1, '787410': 22, '787279': 1, '217898': 1, '785550': 1, '72140': 1, '898360': 1, '788165': 1, '785167': 1, '217620': 1, '786867': 20, '784791': 1, '722430': 1, '785792': 1, '787184': 1, '788212': 1, '217624': 1, '785129': 1, '217658': 1, '787096': 7, '786414': 1, '787461': 1, '937085': 1, '1622383': 3, '788009': 1, '783762': 1, '1677625': 2, '785712': 1, '784284': 1, '788264': 1, '785033': 1, '1622723': 1, '785120': 1, '938379': 1, '786593': 1, '1688050': 1, '1701578': 1, '999600': 2, '787431': 5, '784385': 1, '785637': 2, '785598': 1, '839966': 2, '217679': 1, '788342': 1, '786322': 1, '722562': 1, '783783': 1, '217802': 10, '787819': 1, '784285': 1, '787211': 1, '786655': 3, '786248': 1, '999625': 1, '784259': 1, '1263743': 1, '1633371': 1, '785109': 4, '787446': 1, '786093': 1, '787114': 1, '784568': 1, '784577': 1, '788107': 3, '785099': 2, '785814': 1, '786988': 5, '783528': 1, '783705': 1, '785843': 3, '788145': 1, '1677655': 1, '787263': 3, '217919': 1, '786940': 1, '72114': 1, '787426': 0, '217845': 1, '786453': 1, '788130': 1, '785040': 1, '217546': 1, '722365': 1, '783734': 2, '785819': 1, '1622626': 1, '784507': 1, '928033': 1, '784517': 3, '784879': 1, '1622364': 1, '938494': 1, '786572': 1, '787680': 1, '787298': 2, '1622322': 1, '1688054': 1, '786350': 1, '786979': 1, '787336': 1, '938477': 1, '1622495': 1, '722283': 1, '788256': 1, '786118': 1, '219781': 2, '369525': 1, '1671488': 1, '788112': 1, '784492': 4, '1758831': 1, '785044': 1, '1671485': 1, '1686532': 1, '786536': 13, '890023': 1, '783937': 1, '785011': 3, '1002389': 1, '787887': 1, '1622413': 1, '938538': 1, '784441': 1, '786807': 1, '1622309': 1, '1764148': 1, '832809': 0, '785865': 1, '786821': 12, '787614': 1, '786038': 2, '785324': 1, '784872': 2, '786733': 1, '1688018': 2, '1622589': 1, '1622344': 1, '783984': 1, '786154': 2, '786371': 2, '788298': 6, '369528': 1, '788285': 1, '784337': 1, '785303': 1, '786485': 1, '217498': 1, '787367': 1, '786521': 1, '787447': 1, '999726': 2, '784041': 1, '785285': 1, '783781': 1, '787716': 1, '783850': 1, '786948': 11, '786100': 1, '788251': 2, '788155': 4, '1000357': 8, '787356': 1, '787531': 1, '1758865': 1, '785041': 21, '788411': 1, '784601': 1, '784770': 1, '787629': 7, '1763773': 0, '787655': 12, '1677656': 1, '787984': 1, '994972': 1, '938390': 1, '1686727': 1, '783545': 2, '786072': 1, '1622625': 2, '784733': 1, '784275': 1, '787960': 1, '1622664': 1, '787380': 1, '1622785': 1, '787147': 1, '1671489': 1, '783879': 1, '784813': 1, '784393': 2, '1677651': 2, '786958': 4, '1622326': 2, '788436': 4, '369520': 1, '785062': 1, '786791': 7, '1622709': 1, '784886': 1, '788438': 1, '722027': 1, '787524': 1, '788455': 1, '1670203': 2, '784615': 1, '786615': 1, '786429': 1, '721876': 1, '1250519': 1, '217757': 1, '788206': 1, '786418': 1, '786657': 1, '788284': 1, '783868': 2, '785992': 46, '1662329': 1, '1304022': 1, '72119': 1, '217487': 1, '787859': 1, '938476': 1, '787179': 1, '785157': 3, '787673': 2, '787493': 1, '927870': 1, '999888': 1, '786640': 1, '722101': 1, '786974': 1, '1622304': 1, '785744': 1, '722529': 1, '786648': 8, '785454': 1, '999684': 1, '888627': 2, '787124': 1, '787008': 1, '785328': 5, '938470': 1, '785615': 1, '784880': 1, '787219': 3, '787930': 1, '722544': 1, '785334': 1, '1000377': 1, '787755': 1, '722447': 1, '783911': 1, '786676': 1, '72113': 1, '938482': 4, '783666': 1, '938391': 1, '996342': 1, '938580': 1, '784116': 1, '616690': 1, '1688465': 1, '787832': 1, '217472': 1, '369506': 1, '786131': 1, '999608': 1, '217787': 1, '788304': 1, '783776': 1, '783702': 6, '786391': 1, '1672149': 1, '784414': 1, '784267': 1, '786591': 1, '1002562': 1, '783616': 3, '1622603': 1, '787450': 0, '783602': 1, '996104': 1, '786193': 2, '788434': 1, '788057': 1, '785510': 1, '722320': 1, '786268': 1, '785883': 2, '788109': 5, '788105': 1, '783640': 1, '1687944': 1, '785094': 1, '787502': 1, '786331': 1, '783996': 1, '784336': 1, '1672202': 2, '784525': 1, '786743': 1, '722342': 0, '941433': 1, '784330': 3, '787059': 1, '783795': 3, '785279': 1, '784076': 1, '785833': 2, '1622741': 2, '786046': 3, '785174': 2, '784461': 1, '1672040': 1, '784465': 1, '1622489': 1, '786324': 6, '787702': 1, '938449': 1, '217864': 1, '784240': 1, '722119': 2, '787551': 8, '787877': 1, '938534': 4, '217670': 1, '788370': 1, '787590': 2, '787424': 0, '787020': 1, '786451': 1, '783867': 1, '787370': 1, '1000392': 1, '786185': 3, '72154': 1, '1428326': 1, '783936': 2, '1000348': 1, '785217': 3, '786359': 1, '787212': 1, '784459': 1, '722552': 1, '784002': 1, '784866': 1, '886680': 1, '938498': 7, '783541': 1, '1672125': 2, '785403': 1, '786423': 1, '787125': 1, '1000301': 1, '1622594': 1, '787694': 1, '785693': 1, '217718': 1, '786761': 1, '786462': 1, '217508': 2, '938386': 3, '1671747': 1, '722131': 1, '784795': 1, '785231': 1, '787788': 1, '1622524': 1, '786480': 2, '938517': 1, '783998': 1, '786031': 1, '784449': 2, '786893': 1, '784027': 1, '785873': 1, '786114': 1, '217511': 2, '217673': 1, '1622287': 1, '787724': 1, '787098': 5, '1622694': 1, '786162': 1, '999751': 1, '788468': 1, '783492': 1, '784984': 1, '786388': 1, '783703': 7, '1622386': 1, '783989': 1, '1622708': 1, '786216': 1, '996587': 1, '788461': 1, '1686723': 1, '784026': 3, '1367353': 1, '938487': 1, '217694': 1, '785531': 2, '722228': 1, '1622688': 1, '788031': 1, '1002391': 1, '1622702': 5, '1658655': 1, '1622628': 1, '788360': 1, '722153': 1, '788334': 1, '787609': 1, '784346': 1, '1000344': 1, '722030': 6, '786062': 3, '722384': 1, '1622325': 1, '1622458': 1, '1671422': 1, '784560': 1, '784378': 1, '784502': 1, '785972': 8, '785066': 1, '786639': 1, '1687164': 1, '787075': 1, '1622621': 1, '999742': 1, '787761': 1, '722025': 1, '784060': 1, '787107': 1, '1772570': 1, '785768': 1, '786663': 17, '931105': 1, '217603': 1, '928032': 2, '784043': 1, '787990': 1, '787160': 4, '722195': 1, '784395': 1, '217714': 1, '785886': 1, '784306': 1, '839967': 1, '784132': 8, '784118': 1, '785015': 1, '722007': 4, '787603': 1, '787041': 20, '787906': 1, '938445': 1, '1622534': 1, '788443': 0, '721980': 1, '832808': 0, '938502': 3, '787198': 1, '784061': 1, '785521': 1, '786469': 1, '784087': 1, '785409': 3, '1622308': 1, '722565': 1, '787868': 1, '1764149': 1, '722248': 1, '787415': 1, '1002390': 4, '786869': 1, '784861': 1, '783714': 3, '1622467': 1, '783529': 1, '786884': 1, '999668': 1, '788167': 1, '783724': 1, '783877': 1, '783847': 1, '784053': 1, '786726': 5, '787354': 2, '785194': 1, '784183': 1, '788471': 2, '1622608': 1, '722041': 3, '1658649': 4, '1688048': 1, '785569': 1, '785216': 2, '217550': 1, '786584': 1, '785692': 3, '722234': 3, '786907': 1, '784966': 1, '787368': 1, '722392': 1, '788181': 1, '217744': 3, '1000354': 1, '786685': 1, '369518': 1, '785466': 1, '786929': 6, '785352': 1, '785205': 36, '787846': 1, '783518': 1, '1686686': 1, '1687958': 4, '785725': 1, '722019': 2, '623529': 0, '217730': 1, '369540': 1, '785406': 1, '786695': 14, '996117': 1, '1622465': 1, '1622367': 1, '1622622': 1, '784437': 1, '722418': 1, '788465': 1, '784397': 1, '787181': 1, '938622': 1, '217542': 1, '784520': 1, '784045': 2, '787439': 1, '786980': 1, '784963': 1, '787014': 1, '783549': 1, '785787': 1, '787532': 1, '786505': 3, '722401': 1, '785837': 1, '785711': 1, '784956': 1, '217680': 1, '217499': 1, '783791': 1, '834508': 1, '999671': 1, '788156': 1, '1000338': 1, '217614': 3, '787099': 3, '995995': 2, '938572': 1, '722256': 1, '786361': 1, '1622633': 1, '787499': 2, '1687905': 1, '786263': 1, '784115': 2, '788429': 12, '1671590': 1, '787374': 1, '784555': 1, '784365': 1, '783515': 1, '787542': 1, '995075': 1, '784624': 2, '938444': 2, '217914': 1, '217561': 1, '721961': 4, '217722': 2, '785829': 1, '938388': 1, '786420': 1, '1752569': 1, '787715': 6, '786902': 1, '784282': 7, '787997': 1, '722451': 1, '722453': 1, '369537': 1, '785117': 1, '722151': 1, '785021': 33, '787823': 1, '722215': 1, '784004': 1, '784476': 1, '787561': 5, '783696': 3, '784538': 3, '938408': 4, '1687141': 1, '785576': 4, '787875': 1, '217822': 2, '72126': 1, '1658648': 1, '783922': 1, '785267': 1, '788317': 1, '721966': 1, '787865': 1, '938435': 3, '217927': 1, '1622790': 3, '785846': 1, '785612': 1, '784987': 2, '783891': 1, '1686975': 1, '785434': 1, '785700': 1, '787580': 5, '217661': 1, '785484': 1, '784917': 1, '999590': 1, '787299': 2, '722191': 2, '786728': 7, '996051': 1, '785977': 75, '785192': 1, '785065': 1, '787352': 1, '783560': 1, '784969': 11, '788056': 1, '784458': 1, '217533': 1, '1622654': 1, '783852': 1, '785255': 1, '217728': 1, '788207': 1, '788454': 1, '722134': 1, '1671503': 1, '785504': 1, '938542': 1, '787002': 1, '1622494': 1, '217768': 1, '787338': 1, '788452': 1, '839992': 1, '783767': 2, '784326': 3, '1686768': 1, '369510': 3, '784318': 1, '783818': 1, '788042': 1, '1304339': 1, '787766': 1, '784514': 1, '217678': 1, '786422': 1, '787636': 5, '1622775': 1, '787860': 1, '1701579': 2, '784743': 1, '722292': 1, '999561': 1, '784151': 1, '784059': 1, '788418': 3, '786452': 1, '786680': 1, '786846': 1, '722092': 1, '784828': 1, '785012': 1, '783692': 1, '1622343': 1, '217695': 2, '1752565': 3, '787001': 1, '721940': 1, '786675': 2, '784012': 1, '784905': 3, '722132': 1, '783648': 2, '785444': 1, '784583': 2, '785563': 1, '786309': 1, '786841': 4, '788123': 1, '784637': 6, '788183': 1, '787917': 1, '787009': 1, '996393': 1, '72116': 1, '787091': 4, '783710': 1, '786755': 1, '785590': 1, '217772': 1, '787519': 1, '217653': 1, '217604': 1, '785440': 1, '787503': 1, '721974': 1, '1691800': 1, '786809': 4, '999858': 1, '784536': 3, '788312': 1, '722255': 2, '938459': 2, '785863': 3, '1686802': 1, '722357': 2, '217481': 1, '1677518': 1, '785270': 1, '787948': 1, '1686652': 1, '217725': 1, '783673': 1, '788325': 1, '722518': 1, '72123': 2, '783830': 2, '786044': 2, '788239': 21, '786944': 2, '217486': 1, '786202': 1, '787175': 1, '787342': 7, '787911': 1, '785756': 3, '785246': 1, '784141': 2, '1671938': 1, '787870': 1, '785477': 1, '786540': 15, '786816': 2, '999893': 1, '898362': 1, '787136': 1, '786484': 1, '1275977': 1, '784125': 2, '784746': 8, '938383': 1, '1672020': 1, '786172': 1, '787110': 1, '996323': 1, '1622752': 1, '785175': 1, '784009': 1, '1295876': 1, '786446': 1, '787151': 6, '784369': 6, '999599': 1, '1686649': 1, '787400': 1, '722130': 1, '722284': 1, '785758': 3, '832811': 0, '784895': 1, '786275': 1, '999678': 1, '783915': 1, '784068': 1, '787600': 3, '1622693': 1, '783546': 1, '722531': 1, '1686801': 1, '938552': 3, '722354': 1, '788474': 9, '1686838': 1, '785314': 1, '786909': 6, '938663': 1, '927651': 1, '938407': 3, '1622525': 1, '785072': 1, '786340': 1, '217876': 3, '787215': 1, '784233': 1, '788004': 1, '785358': 1, '785020': 1, '785189': 4, '787553': 1, '785682': 1, '786368': 1, '938503': 1, '1622443': 1, '786284': 1, '1000313': 1, '788427': 1, '722294': 1, '788081': 1, '1000848': 1, '786919': 2, '996310': 1, '787516': 1, '217712': 1, '784484': 1, '784436': 1, '787040': 1, '787613': 1, '785052': 5, '786575': 4, '784343': 1, '722100': 1, '938483': 1, '784558': 1, '784297': 1, '889248': 1, '217863': 1, '783715': 2, '1000381': 1, '72135': 1, '784197': 1, '788190': 1, '787666': 4, '787817': 1, '786649': 1, '785370': 5, '783679': 1, '786121': 1, '788131': 1, '786033': 1, '786795': 3, '1460968': 1, '999650': 1, '1662954': 1, '722103': 1, '722225': 1, '783967': 1, '1622313': 1, '785456': 1, '722545': 1, '883772': 1, '787013': 1, '938453': 1, '787570': 7, '787649': 1, '722135': 1, '787474': 1, '1687618': 1, '786678': 1, '1304337': 2, '784572': 2, '787834': 1, '784478': 11, '943213': 1, '938612': 2, '785729': 2, '786461': 1, '788261': 15, '1622448': 0, '785891': 1, '786049': 2, '787958': 1, '783623': 4, '722313': 1, '785754': 1, '1000837': 1, '787536': 4, '217851': 1, '786467': 2, '788323': 1, '785869': 1, '786236': 1, '787871': 1, '1670121': 1, '785490': 1, '788092': 1, '785486': 1, '1677520': 1, '785497': 3, '722048': 1, '1430252': 1, '787943': 1, '1688017': 3, '785348': 3, '786326': 1, '938500': 1, '784101': 4, '785187': 1, '783759': 1, '784785': 1, '783740': 1, '785125': 1, '786973': 1, '217816': 1, '788351': 2, '885493': 1, '938585': 10, '783569': 1, '788187': 5, '721971': 1, '787490': 6, '784149': 4, '785808': 1, '784734': 1, '1622777': 1, '784660': 5, '784310': 1, '1000307': 1, '784943': 1, '787230': 1, '787717': 1, '722519': 1, '784124': 22, '783533': 1, '785273': 1, '786717': 1, '786458': 1, '1658665': 1, '785884': 1, '786767': 1, '788462': 1, '784947': 1, '785683': 1, '783800': 1, '788087': 1, '787332': 2, '217594': 1, '784644': 1, '787135': 1, '938562': 1, '1000327': 1, '1752578': 1, '784324': 3, '787918': 1, '1622663': 1, '72115': 1, '1686516': 2, '783642': 1, '786032': 1, '1622696': 1, '1658664': 1, '785868': 1, '786864': 3, '1622483': 1, '786047': 4, '784673': 1, '783516': 1, '999611': 1, '787388': 1, '786470': 7, '785387': 1, '1622512': 1, '722118': 1, '722517': 1, '785687': 1, '786124': 1, '722336': 1, '787454': 0, '787019': 1, '999602': 1, '996363': 1, '999607': 2, '1622650': 1, '784567': 1, '217591': 6, '721935': 1, '938452': 2, '786161': 1, '210923': 1, '784897': 1, '1002412': 1, '783501': 1, '783493': 1, '788006': 1, '788129': 1, '995934': 1, '787401': 0, '786683': 3, '721884': 4, '785077': 1, '784069': 1, '1672045': 1, '785709': 1, '786315': 4, '784881': 1, '938460': 2, '783584': 1, '369541': 1, '784015': 1, '786671': 4, '783854': 1, '788425': 1, '787375': 2, '1763771': 0, '784631': 1, '1671763': 2, '784659': 1, '1764140': 1, '788076': 3, '787376': 1, '784349': 3, '722264': 1, '1687965': 1, '722205': 3, '784518': 1, '1671484': 1, '787874': 1, '1622766': 1, '722253': 1, '787784': 1, '787583': 1, '787835': 1, '722380': 1, '784200': 1, '786724': 2, '217641': 1, '786447': 1, '785039': 5, '786365': 1, '787468': 0, '785272': 3, '938573': 1, '832806': 1, '722520': 1, '787949': 1, '784863': 1, '1622527': 1, '722194': 1, '787291': 1, '784388': 2, '784021': 2, '784184': 2, '786389': 3, '785898': 1, '788126': 1, '787042': 1, '788026': 1, '786956': 1, '788005': 1, '786815': 1, '784497': 1, '999546': 1, '785810': 1, '783928': 6, '785047': 1, '788368': 1, '996366': 1, '1622686': 1, '785586': 1, '785871': 1, '787763': 1, '786679': 1, '785474': 5, '1687645': 1, '1687650': 1, '217769': 8, '787016': 1, '788055': 1, '1622369': 1, '786567': 1, '788139': 1, '788263': 1, '938576': 1, '722340': 1, '785696': 1, '722064': 2, '786915': 2, '1622374': 2, '785644': 1, '785585': 1, '1622380': 1, '786952': 1, '788152': 1, '1622616': 1, '786138': 8, '786416': 1, '784974': 1, '1688051': 1, '787547': 10, '783869': 4, '217800': 1, '788339': 4, '785476': 1, '783899': 4, '783667': 1, '1686684': 1, '785405': 2, '1764155': 1, '1671501': 1, '785252': 1, '785068': 2, '788344': 1, '785851': 1, '217635': 1, '787407': 6, '784085': 1, '722065': 4, '786233': 1, '786524': 1, '787733': 1, '784864': 1, '785368': 1, '787394': 1, '783940': 1, '788010': 1, '786628': 1, '938554': 1, '1764153': 1, '787149': 1, '1304338': 1, '785736': 1, '217475': 1, '1479086': 1, '783704': 3, '783745': 6, '1622354': 1, '786768': 1, '786744': 1, '1622397': 1, '785468': 1, '787753': 1, '786191': 2, '1622328': 1, '721927': 1, '786348': 1, '786117': 1, '787957': 1, '785632': 1, '1316539': 1, '722397': 1, '787324': 1, '994956': 1, '1622605': 1, '785489': 1, '785593': 1, '786933': 3, '787892': 1, '785057': 13, '217559': 1, '217473': 2, '72112': 1, '787888': 1, '785492': 1, '783876': 1, '784252': 1, '784898': 2, '217901': 1, '784025': 5, '721959': 3, '786336': 1, '787852': 1, '884720': 1, '1622598': 1, '709153': 1, '217817': 1, '783537': 1, '996723': 2, '1622776': 1, '787243': 2, '784532': 1, '787919': 2, '995066': 1, '784636': 1, '1002750': 1, '784608': 1, '786854': 4, '787806': 1, '785788': 2, '787876': 1, '787967': 1, '784398': 1, '219650': 1, '722302': 1, '722170': 1, '1671923': 1, '785354': 1, '1671738': 1, '785106': 1, '217806': 1, '788164': 1, '786177': 1, '786029': 1, '785288': 1, '786500': 1, '786229': 3, '785488': 1, '784198': 1, '722427': 1, '787271': 2, '788034': 1, '722550': 1, '784490': 1, '784077': 1, '784430': 2, '784091': 1, '783664': 1, '785107': 46, '217610': 1, '1629310': 1, '784329': 5, '785703': 1, '938558': 1, '785169': 4, '788450': 1, '938484': 1, '1622746': 1, '721955': 1, '785559': 1, '996360': 1, '1000328': 3, '784298': 1, '787602': 2, '788300': 3, '999544': 1, '722393': 4, '786208': 2, '722563': 1, '786699': 1, '786220': 1, '999612': 1, '787900': 2, '785390': 1, '722066': 1, '786497': 1, '722408': 1, '787203': 1, '217492': 1, '783659': 37, '787453': 1, '785254': 1, '786610': 1, '787781': 1, '784205': 1, '788308': 2, '785780': 2, '722299': 2, '787428': 0, '783490': 2, '938619': 1, '787121': 1, '786677': 1, '788085': 1, '785301': 1, '786385': 25, '788171': 1, '785211': 1, '785583': 3, '784715': 1, '1672084': 2, '1691790': 1, '786967': 1, '787749': 1, '787725': 1, '1622743': 1, '1669959': 2, '783612': 1, '1687205': 1, '785762': 3, '788431': 1, '1688035': 1, '787975': 1, '217920': 1, '784302': 1, '938467': 3, '785028': 1, '177284': 1, '785830': 1, '785786': 1, '1364344': 1, '787670': 1, '784995': 1, '785578': 3, '787844': 1, '783717': 1, '788380': 1, '784915': 1, '1671504': 1, '996349': 2, '784979': 1, '785587': 2, '788270': 1, '785568': 3, '994964': 1, '217765': 1, '722257': 1, '788193': 1, '722028': 1, '786207': 1, '1686656': 2, '217929': 2, '784623': 1, '786831': 23, '1687954': 1, '788381': 1, '722235': 1, '786911': 6, '785165': 1, '722155': 2, '786116': 1, '784771': 1, '1672163': 1, '788291': 1, '786329': 1, '889475': 1, '787162': 1, '786380': 1, '786747': 1, '786132': 1, '783598': 2, '787157': 10, '787479': 1, '999620': 1, '785266': 1, '786883': 1, '1670175': 1, '786108': 1, '786101': 1, '786830': 16, '217789': 5, '722410': 1, '999626': 4, '784945': 1, '786703': 1, '1622710': 1, '787220': 1, '786734': 1, '785031': 1, '787226': 2, '999907': 1, '786073': 1, '931099': 1, '783987': 1, '785514': 1, '787993': 1, '788048': 1, '786833': 38, '217649': 1, '787314': 2, '784544': 1, '787991': 2, '784533': 1, '1688073': 2, '995135': 1, '787719': 1, '1622606': 1, '784331': 2, '784766': 1, '217899': 2, '784022': 1, '786251': 28, '788467': 1, '786515': 1, '783604': 1, '787634': 1, '1660902': 1, '784453': 1, '786716': 1, '787863': 1, '785309': 1, '786715': 1, '783812': 1, '217625': 1, '1622669': 1, '786694': 2, '788296': 1, '1622646': 1, '785046': 1, '785498': 1, '217634': 1, '722086': 1, '999898': 1, '1688024': 1, '788292': 2, '785017': 1, '786179': 1, '787229': 2, '786861': 1, '787562': 1, '721982': 1, '786702': 1, '785582': 2, '1000404': 1, '786171': 1, '783953': 1, '784681': 1, '785543': 1, '1622755': 2, '788158': 2, '785771': 3, '722267': 1, '786448': 6, '788241': 1, '787137': 1, '784235': 1, '1622767': 1, '938639': 1, '787843': 1, '217746': 4, '784582': 3, '722138': 1, '786227': 1, '1000103': 1, '785139': 3, '785223': 1, '784411': 1, '787089': 1, '786301': 1, '784472': 5, '787579': 1, '785706': 1, '786543': 1, '785628': 1, '721997': 11, '787412': 6, '784706': 1, '787839': 1, '784440': 1, '996322': 1, '788299': 2, '1622681': 1, '783513': 6, '996196': 1, '784920': 1, '722259': 1, '784179': 1, '786853': 1, '783723': 1, '1622335': 1, '1669879': 1, '787307': 1, '1658646': 1, '784730': 1, '786292': 1, '785848': 1, '786143': 1, '787637': 1, '1622190': 1, '999880': 1, '722420': 1, '1687598': 1, '1622706': 1, '788071': 3, '785663': 4, '787441': 1, '788211': 1, '785407': 2, '785025': 1, '785807': 1, '996346': 1, '1763772': 0, '787489': 2, '721960': 1, '787787': 1, '787079': 4, '784072': 3, '787897': 1, '785853': 1, '784359': 1, '217467': 2, '786373': 1, '786165': 1, '783618': 1, '783932': 1, '217541': 1, '785184': 5, '783556': 2, '722333': 1, '1687952': 1, '784551': 1, '784683': 1, '784794': 2, '787159': 2, '996197': 2, '721933': 1, '786587': 1, '785138': 1, '787206': 1, '785681': 3, '788288': 1, '1622493': 1, '786719': 1, '787007': 1, '783982': 1, '787726': 1, '786532': 1, '784552': 2, '786034': 2, '1622733': 2, '786194': 9, '1000329': 1, '785845': 1, '1688022': 2, '783975': 3, '369534': 1, '1622460': 1, '783918': 1, '785422': 2, '1622485': 1, '217727': 2, '787718': 1, '786568': 1, '786240': 1, '787631': 2, '217478': 1, '1428330': 1, '786346': 1, '785618': 1, '783583': 1, '783699': 1, '722525': 1, '784797': 1, '784062': 1, '786413': 1, '783871': 1, '787174': 1, '784923': 1, '784428': 1, '787581': 1, '968957': 1, '1677621': 1, '784269': 1, '786080': 3, '217838': 2, '786898': 1, '785524': 1, '995063': 1, '787654': 3, '786068': 1, '787423': 0, '931102': 1, '1755936': 2, '787418': 1, '784363': 1, '787825': 1, '783999': 1, '783903': 1, '722306': 2, '784751': 1, '788217': 1, '1687953': 1, '785005': 3, '787632': 1, '785008': 1, '1687962': 1, '786066': 1, '999847': 1, '889247': 4, '787592': 4, '1622491': 1, '788433': 1, '784206': 1, '784213': 1, '787088': 1, '787648': 1, '784171': 5, '722556': 1, '1622509': 1, '786189': 1, '788346': 1, '722139': 2, '1669957': 1, '938631': 2, '1279047': 1, '785537': 1, '217531': 3, '785425': 2, '786686': 1, '785316': 2, '784726': 1, '722037': 1, '787289': 2, '784549': 1, '785767': 1, '786836': 7, '788448': 2, '938410': 1, '217704': 1, '787789': 1, '785082': 1, '785812': 1, '217672': 1, '219773': 0, '785592': 1, '938620': 1, '722136': 1, '783661': 1, '786873': 2, '938583': 1, '784968': 1, '787812': 1, '787692': 1, '788280': 1, '1677647': 1, '787409': 19, '784064': 1, '788014': 1, '1686650': 1, '72138': 1, '786249': 2, '1658692': 1, '787204': 1, '786812': 12, '787084': 1, '722077': 2, '938629': 1, '788274': 1, '1622649': 3, '785535': 1, '784309': 1, '722181': 2, '722406': 1, '996734': 1, '784934': 1, '785395': 1, '786550': 1, '784162': 1, '787297': 3, '787460': 1, '787867': 1, '787080': 3, '1660179': 2, '722521': 1, '783985': 1, '1700412': 1, '784759': 1, '787559': 2, '784260': 1, '783605': 3, '217870': 2, '786748': 3, '1658647': 2, '1622720': 1, '784764': 3, '722121': 1, '722039': 1, '788017': 1, '722548': 1, '785577': 1, '927649': 1, '784958': 1, '785887': 3, '787850': 1, '783520': 1, '784283': 1, '787106': 1, '784849': 1, '219683': 1, '786845': 15, '785460': 1, '784704': 1, '787158': 1, '785043': 1, '786664': 1, '784133': 1, '784650': 1, '217910': 2, '1622373': 1, '999784': 1, '785036': 1, '1688038': 1, '1671748': 1, '787941': 1, '784937': 1, '217536': 1, '785121': 1, '938590': 2, '927647': 1, '571045': 1, '784953': 1, '1554270': 1, '786522': 1, '786704': 3, '787727': 1, '784925': 12, '785349': 1, '217514': 1, '722036': 1, '1670238': 1, '787979': 1, '783658': 1, '785146': 1, '217493': 1, '787594': 2, '785738': 1, '783499': 1, '787660': 1, '931103': 1, '783596': 1, '722011': 4, '785647': 1, '787974': 1, '217844': 1, '72111': 1, '786758': 1, '784023': 1, '999548': 1, '1687140': 1, '785196': 1, '788289': 1, '785372': 1, '784815': 1, '217814': 1, '996649': 1, '1752575': 1, '784075': 1, '784806': 1, '1000319': 1, '786084': 2, '784946': 3, '787320': 2, '786356': 1, '784429': 1, '999545': 1, '787669': 1, '996653': 1, '788213': 1, '787931': 3, '1622414': 1, '785769': 1, '1677667': 4, '784010': 1, '785128': 2, '217895': 1, '783511': 1, '1000836': 1, '787771': 1, '217885': 1, '217883': 1, '217740': 2, '783650': 3, '784103': 1, '784321': 2, '784030': 5, '784712': 1, '784699': 1, '784876': 1, '786900': 4, '785291': 1, '785876': 1, '1672127': 1, '217632': 1, '1622440': 1, '783959': 1, '784578': 1, '787591': 1, '787288': 5, '784553': 2, '217719': 1, '786476': 3, '722082': 2, '788100': 1, '785304': 1, '784342': 3, '787138': 1, '722448': 1, '783929': 1, '786394': 1, '788235': 1, '1622762': 1, '787963': 1, '787225': 1, '784281': 1, '784612': 1, '787595': 1, '217708': 1, '217605': 1, '996329': 1, '783676': 2, '786355': 1, '787381': 1, '787738': 1, '1622792': 1, '786018': 44, '931106': 1, '785280': 1, '787615': 1, '996118': 1, '938565': 1, '1002560': 1, '722288': 1, '938617': 2, '783792': 1, '784368': 1, '784833': 1, '1764143': 1, '786498': 2, '787457': 1, '784892': 1, '784802': 84, '1686735': 1, '1672030': 1, '785218': 1, '786341': 1, '1670153': 1, '217664': 1, '785840': 1, '787861': 1, '722044': 1, '788040': 1, '1658653': 1, '788050': 1, '784279': 1, '786632': 1, '943793': 1, '786243': 3, '722052': 1, '788012': 1, '927653': 1, '785508': 1, '722075': 1, '783793': 2, '784373': 1, '787978': 1, '788179': 1, '787898': 4, '787786': 1, '1767791': 2, '784142': 1, '722166': 1, '1000295': 1, '217868': 1, '938579': 1, '721883': 1, '1622184': 1, '1660899': 1, '938381': 1, '1658654': 1, '783770': 1, '786317': 1, '1671925': 1, '938600': 1, '786698': 1, '722090': 1, '722399': 1, '721988': 1, '784096': 2, '785507': 1, '787837': 1, '1670181': 1, '788385': 1, '785654': 3, '785342': 4, '785032': 1, '787517': 1, '783907': 1, '786710': 1, '786772': 7, '722423': 4, '938458': 1, '783494': 1, '787398': 1, '787910': 1, '787126': 1, '783727': 1, '784166': 2, '786219': 3, '786362': 1, '1763490': 1, '788231': 1, '786053': 1, '787349': 3, '784350': 1, '787739': 1, '217825': 2, '788080': 2, '217556': 2, '722405': 1, '784647': 1, '722356': 1, '1002968': 1, '1752581': 1, '722351': 1, '1002580': 2, '785626': 1, '217675': 1, '784684': 34, '786783': 19, '1672147': 1, '786144': 1, '783778': 1, '784531': 4, '787033': 1, '995074': 1, '786160': 5, '783964': 1, '787582': 3, '787500': 1, '787796': 2, '786662': 1, '787344': 6, '1688063': 3, '217683': 2, '787274': 3, '787076': 26, '786959': 1, '783980': 4, '785366': 1, '787925': 1, '1437270': 0, '1428319': 1, '787899': 8, '999904': 1, '787534': 1, '930645': 1, '785195': 12, '1763767': 0, '217497': 1, '784814': 1, '784277': 2, '996105': 1, '787362': 2, '784666': 2, '1622531': 1, '786318': 1, '787224': 1, '787048': 1, '938577': 2, '783657': 1, '785797': 3, '786147': 1, '788228': 1, '787549': 1, '788343': 2, '788458': 1, '784425': 1, '783874': 1, '999877': 1, '786843': 2, '217890': 1, '788435': 1, '1554069': 1, '788043': 1, '1622450': 1, '787712': 1, '785855': 3, '785776': 1, '786641': 15, '722540': 1, '788170': 1, '785134': 1, '938396': 1, '784986': 1, '787051': 4, '938586': 1, '784255': 1, '785870': 1, '217843': 1, '786253': 2, '788321': 1, '722413': 1, '217896': 1, '788412': 1, '1622193': 1, '938616': 1, '787830': 1, '722553': 1, '1000346': 1, '784339': 3, '787116': 1, '787792': 1, '938570': 1, '788399': 2, '787476': 5, '931108': 2, '785551': 1, '217583': 1, '722189': 1, '787182': 1, '786184': 1, '786479': 1, '785707': 1, '786287': 1, '1764141': 1, '785022': 1, '787049': 52, '1000334': 1, '787683': 1, '722407': 1, '783853': 1, '785237': 4, '787940': 1, '787558': 1, '784948': 1, '786224': 2, '786890': 1, '886678': 1, '788143': 3, '722386': 1, '721972': 1, '787704': 1, '938525': 2, '786477': 1, '784938': 1, '783660': 1, '787983': 3, '783725': 3, '785344': 1, '784431': 1, '787659': 7, '787858': 1, '788064': 5, '1677611': 1, '722325': 1, '786079': 1, '788225': 1, '786081': 2, '1687927': 1, '783652': 1, '996001': 1, '787904': 1, '787720': 1, '788338': 1, '785607': 1, '786166': 1, '784996': 2, '784865': 4, '787036': 1, '783777': 1, '783785': 1, '1677648': 2, '783585': 1, '788038': 1, '786987': 2, '369538': 1, '784408': 1, '785635': 1, '787300': 1, '788267': 1, '938479': 1, '784319': 6, '785166': 2, '1622375': 1, '783866': 2, '788410': 1, '786989': 3, '938643': 1, '786404': 1, '783735': 1, '786449': 1, '784491': 1, '785050': 1, '785750': 1, '786558': 1, '1002967': 2, '787163': 1})\n"
     ]
    }
   ],
   "source": [
    "print(dict(list(W_c.items())[0:5]))"
   ]
  },
  {
   "cell_type": "markdown",
   "metadata": {},
   "source": [
    "Now we can extend the graph to nodes of the other categories, keeping in mind that the in-edges coming from the previous category have as weights the score of the node that sends the edge. Every extension of the graph will be stored in a list (Subgraph induced by c0 already stored) "
   ]
  },
  {
   "cell_type": "code",
   "execution_count": 63,
   "metadata": {},
   "outputs": [],
   "source": [
    "subgraph=[]\n",
    "subgraph.append(W_c0)"
   ]
  },
  {
   "cell_type": "code",
   "execution_count": 64,
   "metadata": {},
   "outputs": [],
   "source": [
    "for i in range(1,len(ranking)):\n",
    "    W_c=defaultdict(int)\n",
    "    for node in categories_dict[ranking[i]]:\n",
    "        w_c=0\n",
    "        if node not in subgraph[i-1]:\n",
    "            for inedge in graph_1[node]:\n",
    "                if inedge in subgraph[i-1]:\n",
    "                    w_c+=subgraph[i-1][inedge]\n",
    "                else:\n",
    "                    w_c+=1\n",
    "            W_c[node]=w_c\n",
    "    subgraph.append(W_c)"
   ]
  },
  {
   "cell_type": "code",
   "execution_count": 66,
   "metadata": {
    "scrolled": false
   },
   "outputs": [
    {
     "name": "stdout",
     "output_type": "stream",
     "text": [
      "defaultdict(<class 'int'>, {'788128': 1, '788316': 1, '784722': 1, '1351067': 2, '938634': 1, '784840': 2, '784703': 1, '722089': 1, '786542': 1, '783809': 1, '786134': 1, '1622639': 1, '217543': 2, '784652': 1, '785116': 1, '217724': 1, '1633370': 1, '785311': 1, '787529': 1, '785611': 1, '786089': 1, '784919': 1, '787539': 1, '217513': 1, '785201': 1, '784034': 1, '1000397': 1, '786297': 1, '1622697': 1, '217931': 1, '787836': 1, '938389': 1, '722047': 1, '217602': 1, '1622342': 1, '1658658': 2, '996123': 1, '787546': 1, '721934': 1, '1622371': 1, '785438': 1, '786623': 9, '783836': 1, '999696': 1, '217735': 2, '1622447': 0, '784903': 7, '787709': 1, '722549': 1, '787508': 4, '940775': 1, '784190': 1, '1687980': 1, '1622522': 1, '927662': 1, '786629': 1, '784067': 1, '1480219': 1, '1622321': 1, '722094': 1, '1622182': 1, '996341': 1, '722182': 1, '786559': 1, '1686955': 1, '785330': 1, '788307': 1, '722539': 1, '787017': 1, '217581': 9, '787879': 1, '784479': 1, '995060': 1, '1622357': 2, '787577': 9, '787435': 1, '786247': 1, '784234': 1, '787982': 1, '788016': 1, '783955': 18, '787829': 1, '996370': 1, '786978': 1, '783991': 1, '217913': 1, '786366': 1, '1276062': 1, '1248401': 1, '1687623': 1, '217935': 1, '938540': 1, '784424': 1, '785191': 1, '217736': 1, '786949': 1, '787955': 2, '787961': 1, '786182': 1, '784323': 2, '1000212': 1, '787527': 5, '1622327': 2, '786598': 1, '787305': 1, '785713': 1, '785875': 1, '1622635': 1, '217855': 1, '1686582': 1, '786866': 1, '1686680': 1, '788227': 0, '903477': 1, '786927': 1, '785641': 1, '785325': 0, '784505': 1, '786607': 1, '783753': 1, '1622469': 1, '1677646': 1, '788095': 1, '785823': 2, '787030': 1, '787258': 6, '217797': 5, '786557': 4, '784616': 3, '787402': 1, '938447': 1, '784256': 4, '784645': 1, '722069': 1, '787227': 1, '785081': 3, '787705': 1, '217829': 1, '786406': 1, '788116': 1, '784136': 2, '785306': 3, '1658663': 1, '783500': 1, '787350': 1, '784223': 1, '783983': 1, '1622346': 1, '784410': 1, '784671': 2, '217612': 1, '786614': 5, '938469': 1, '788194': 1, '786438': 12, '1754692': 1, '784261': 1, '217763': 1, '787688': 1, '217813': 1, '1686561': 1, '784600': 10, '784588': 8, '785364': 2, '938611': 1, '786201': 1, '784643': 7, '783826': 1, '788091': 1, '786960': 3, '787713': 1, '1671723': 1, '786058': 1, '783543': 1, '787737': 2, '785747': 1, '788394': 1, '784054': 1, '785180': 1, '217595': 1, '784293': 1, '784405': 1, '832800': 1, '722246': 1, '787985': 1, '722053': 1, '217930': 1, '999596': 1, '1773169': 1, '785227': 1, '785642': 1, '783971': 1, '722230': 1, '784071': 1, '783979': 4, '786916': 2, '938420': 1, '217584': 1, '931097': 1, '783626': 1, '938516': 6, '784960': 1, '996421': 1, '787498': 2, '784404': 1, '1688036': 1, '786741': 7, '1687207': 1, '783613': 2, '369547': 1, '722452': 1, '1622429': 1, '1671765': 1, '1622778': 1, '785351': 1, '783897': 3, '786774': 24, '784742': 1, '783594': 3, '787639': 2, '786168': 1, '788142': 1, '783755': 3, '786930': 1, '995079': 1, '784668': 1, '786689': 1, '787458': 1, '369539': 1, '1622349': 1, '1687928': 2, '786181': 12, '722096': 2, '1622613': 1, '784665': 4, '1763768': 0, '722254': 1, '786982': 1, '787269': 1, '786306': 1, '783956': 1, '783873': 1, '1622597': 2, '784696': 1, '786608': 1, '787901': 1, '784089': 1, '1662953': 2, '784399': 1, '784619': 3, '787939': 1, '217775': 1, '722270': 2, '1687918': 1, '785523': 4, '369514': 1, '369543': 1, '787176': 1, '784088': 1, '785207': 1, '787334': 7, '783582': 1, '784998': 1, '832801': 1, '1677671': 1, '784977': 1, '903452': 1, '722247': 1, '722260': 2, '784642': 1, '788230': 7, '1687950': 1, '787333': 1, '785156': 1, '786305': 1, '931101': 1, '787140': 1, '787522': 3, '962742': 1, '783536': 3, '783668': 1, '783938': 2, '217922': 1, '722071': 2, '786746': 2, '788115': 1, '1622737': 1, '217677': 1, '785723': 1, '1672150': 1, '785633': 3, '786464': 4, '785327': 1, '787881': 1, '788176': 1, '783732': 1, '786800': 12, '783574': 1, '784720': 1, '1000206': 1, '786137': 54, '722049': 1, '786634': 1, '784845': 1, '784780': 1, '1000343': 1, '787060': 13, '788233': 1, '787794': 1, '217539': 1, '788402': 3, '941430': 1, '787318': 4, '785671': 5, '1686653': 1, '783892': 1, '784303': 1, '784495': 4, '217833': 1, '1687647': 2, '786872': 1, '722175': 1, '785803': 1, '785509': 1, '787597': 1, '787217': 3, '787277': 2, '996656': 1, '783862': 1, '785584': 1, '786342': 1, '785135': 1, '1622751': 1, '1752567': 1, '722285': 2, '784656': 1, '1763765': 1, '721882': 1, '787938': 1, '1686679': 1, '784692': 1, '788350': 1, '787965': 1, '783539': 1, '788243': 1, '785069': 2, '938621': 7, '783906': 2, '788198': 1, '788420': 1, '783686': 1, '784163': 2, '999882': 2, '996651': 1, '722016': 1, '217750': 1, '787223': 1, '786775': 8, '785229': 1, '783894': 2, '786945': 4, '721930': 1, '938526': 1, '785168': 1, '786700': 1, '785805': 1, '787568': 2, '784678': 1, '786163': 1, '1000373': 1, '217779': 1, '786232': 5, '783687': 1, '783861': 1, '217909': 1, '1622421': 1, '784590': 1, '788322': 1, '722547': 1, '721954': 1, '1000217': 1, '787021': 1, '786784': 3, '721987': 1, '787165': 1, '784935': 1, '217633': 1, '787315': 1, '785078': 1, '786921': 7, '786771': 3, '938649': 1, '1000325': 1, '783974': 1, '786474': 140, '785575': 1, '785453': 1, '217665': 1, '788036': 1, '784901': 1, '722056': 1, '786863': 14, '785798': 1, '784008': 1, '785056': 1, '784204': 2, '786283': 1, '785213': 1, '785656': 1, '217921': 2, '786970': 7, '787319': 1, '786508': 1, '784757': 1, '938499': 1, '722566': 1, '722346': 1, '786781': 1, '786990': 1, '786839': 4, '784172': 1, '1688071': 1, '784592': 1, '995972': 1, '217709': 2, '787196': 1, '786942': 1, '784988': 2, '784121': 1, '999591': 1, '786620': 1, '783857': 1, '1688039': 1, '786290': 2, '787161': 1, '786541': 1, '1278534': 1, '785297': 1, '1622689': 1, '788413': 3, '785143': 1, '788083': 2, '783947': 1, '787606': 1, '721999': 1, '721885': 1, '784192': 1, '783491': 1, '217574': 2, '787440': 1, '1660901': 1, '783716': 1, '784287': 1, '786433': 1, '785548': 1, '786354': 1, '784670': 1, '722021': 1, '784020': 1, '1622666': 1, '783941': 1, '785417': 2, '787745': 1, '787200': 1, '786120': 5, '787280': 1, '788377': 3, '784462': 1, '784095': 1, '787822': 1, '784761': 1, '996070': 1, '787814': 1, '369509': 1, '785026': 1, '785448': 1, '787341': 1, '1338886': 1, '217504': 1, '72130': 1, '785122': 1, '721969': 1, '785483': 1, '999844': 1, '785071': 3, '784634': 4, '1622298': 1, '938544': 1, '785518': 1, '787540': 1, '787481': 1, '995973': 1, '1622340': 1, '784372': 1, '784869': 1, '785427': 1, '1709526': 1, '788290': 1, '1622185': 1, '784201': 2, '785275': 1, '722133': 3, '786964': 1, '217580': 1, '788279': 1, '722555': 2, '784672': 6, '788059': 1, '1752568': 4, '784427': 1, '785214': 3, '1622431': 1, '217717': 1, '785481': 5, '1622396': 1, '217749': 1, '784597': 1, '217698': 1, '995964': 3, '1000326': 1, '786983': 2, '786912': 4, '784202': 1, '1000263': 1, '786661': 1, '786463': 1, '786259': 26, '788060': 1, '1622779': 2, '784801': 1, '996318': 1, '785086': 1, '787587': 4, '722345': 1, '1428331': 1, '787890': 1, '785379': 1, '784932': 1, '784754': 1, '1622348': 1, '787668': 4, '217510': 1, '783553': 1, '1691452': 1, '784464': 1, '785764': 1, '787801': 1, '1622398': 1, '1687600': 1, '722154': 1, '1622382': 1, '1622345': 1, '783674': 1, '1428320': 1, '1672171': 1, '787800': 1, '785249': 22, '1622533': 1, '785608': 1, '786946': 1, '784122': 1, '788149': 1, '72128': 1, '787337': 3, '784090': 1, '785995': 29, '784042': 1, '722113': 1, '785714': 1, '787795': 1, '783603': 4, '785825': 2, '1622487': 1, '996263': 1, '1764139': 1, '784483': 1, '788148': 1, '784335': 1, '927650': 1, '784975': 1, '787240': 1, '783544': 1, '784680': 1, '788456': 2, '784391': 1, '787855': 1, '784640': 2, '787495': 2, '788403': 1, '1671720': 1, '1686800': 1, '785076': 1, '938511': 1, '784858': 1, '928342': 1, '783823': 1, '722298': 2, '1560261': 1, '217783': 1, '217623': 2, '786976': 8, '1688072': 1, '783627': 1, '787804': 1, '788357': 14, '784315': 1, '784220': 1, '786937': 7, '1686771': 1, '783599': 1, '722249': 1, '1677608': 1, '1295877': 1, '722168': 1, '1447751': 1, '995054': 1, '1622393': 1, '786403': 1, '787294': 2, '1686753': 1, '938436': 6, '999900': 1, '217655': 1, '783925': 11, '1350995': 2, '722400': 1, '1622301': 1, '217676': 1, '1686713': 2, '786468': 1, '783685': 1, '722250': 4, '787364': 1, '217803': 1, '787330': 1, '722239': 4, '784080': 1, '785974': 61, '784589': 1, '903538': 1, '785431': 1, '785616': 1, '784434': 1, '784735': 1, '787987': 1, '722304': 1, '786813': 1, '1670236': 1, '785253': 1, '788388': 2, '788236': 1, '1000306': 1, '786645': 1, '786098': 1, '783799': 1, '1677609': 1, '788169': 1, '1671722': 2, '1000085': 1, '786530': 4, '783875': 2, '787932': 1, '788117': 1, '784936': 1, '787357': 1, '217523': 1, '783519': 1, '786264': 3, '788282': 1, '784834': 1, '996599': 1, '788023': 1, '721925': 1, '785239': 1, '722224': 2, '1622769': 1, '1000099': 1, '783591': 1, '784024': 2, '783807': 1, '722236': 3, '995996': 1, '784047': 1, '786735': 11, '788318': 1, '785860': 1, '787678': 1, '785567': 1, '784093': 2, '786178': 4, '787924': 1, '788002': 1, '938533': 20, '996728': 2, '787853': 1, '786553': 1, '786296': 1, '784392': 1, '783831': 1, '785186': 1, '786981': 6, '788196': 1, '785363': 1, '1622511': 1, '1687945': 2, '787473': 1, '785402': 1, '783840': 1, '786753': 3, '785761': 1, '1658659': 2, '788062': 1, '784565': 9, '1688061': 1, '788033': 1, '787389': 2, '1686645': 1, '217669': 1, '217830': 1, '783523': 1, '785573': 1, '784885': 1, '786571': 1, '787994': 1, '931107': 1, '1688064': 1, '722147': 1, '784475': 1, '785126': 1, '786252': 1, '788355': 1, '104973': 1, '217577': 1, '786668': 1, '785248': 2, '785437': 3, '1622749': 1, '784017': 1, '1687646': 1, '1622671': 1, '786888': 11, '785482': 2, '1660903': 1, '786188': 1, '999543': 1, '1660180': 1, '1440010': 1, '1686764': 1, '787208': 1, '785265': 2, '785604': 1, '784805': 1, '930643': 4, '786119': 1, '787377': 1, '785339': 1, '722301': 2, '787589': 1, '1686755': 1, '785555': 3, '217878': 1, '787197': 1, '1658643': 1, '786288': 1, '927652': 1, '999824': 1, '1622315': 1, '784400': 1, '784846': 2, '1622356': 1, '783538': 1, '1350996': 1, '786308': 1, '783848': 1, '784951': 3, '786396': 1, '787966': 1, '786631': 13, '784569': 1, '784878': 1, '787373': 1, '786357': 1, '1686581': 1, '721881': 1, '722343': 1, '217576': 1, '1687197': 1, '783502': 1, '784793': 1, '788376': 1, '786977': 1, '784432': 1, '784084': 1, '787640': 1, '786103': 20, '785433': 6, '1622756': 1, '786402': 1, '1670179': 1, '787100': 4, '783587': 1, '784896': 1, '217840': 1, '784819': 1, '788093': 1, '786399': 1, '785439': 2, '785318': 9, '938510': 3, '785832': 3, '785242': 1, '722196': 1, '783646': 2, '785580': 1, '217776': 1, '786241': 4, '1622655': 1, '217579': 1, '1278497': 1, '722083': 1, '783729': 1, '787803': 1, '784777': 2, '1000345': 1, '784058': 1, '721931': 1, '784564': 1, '784967': 2, '786260': 1, '999859': 1, '938557': 1, '217479': 2, '787535': 1, '783509': 1, '783814': 2, '784139': 2, '784554': 1, '784370': 1, '788273': 4, '787108': 1, '787154': 1, '783856': 1, '788101': 1, '722188': 3, '784188': 3, '1669956': 1, '783997': 1, '784686': 1, '217837': 3, '722350': 1, '785544': 1, '721963': 1, '788054': 1, '784800': 1, '999624': 1, '787799': 1, '785451': 1, '722348': 1, '787770': 1, '784412': 3, '785708': 1, '787241': 1, '786975': 1, '1275881': 3, '784471': 1, '787494': 1, '788021': 2, '785710': 1, '1622760': 1, '787992': 1, '784423': 1, '1764154': 1, '1686752': 1, '1622652': 1, '999606': 1, '788426': 1, '1686816': 1, '802273': 13, '786303': 1, '1672010': 1, '786516': 1, '1622510': 1, '1687206': 1, '787953': 1, '784498': 1, '996151': 1, '787964': 1, '786370': 1, '783887': 1, '788451': 9, '1274949': 1, '785665': 1, '1000321': 1, '785822': 1, '787894': 1, '786246': 3, '788367': 3, '788262': 1, '217916': 1, '783576': 1, '787286': 2, '1686956': 1, '787417': 3, '784442': 39, '784939': 2, '722534': 1, '788191': 1, '784821': 1, '722291': 1, '786993': 1, '787132': 1, '1672144': 1, '938392': 1, '786478': 1, '1622331': 1, '784374': 3, '999724': 1, '1210179': 1, '1000308': 5, '788121': 1, '785151': 1, '784251': 1, '783671': 1, '788363': 1, '784767': 1, '786690': 1, '1622612': 1, '722362': 1, '787430': 1, '787411': 7, '787472': 1, '784273': 1, '785233': 1, '788161': 1, '217553': 1, '784529': 2, '217681': 1, '785561': 1, '783711': 1, '938605': 4, '1622445': 1, '1622784': 1, '369546': 1, '784231': 1, '788108': 1, '787248': 1, '783649': 1, '722111': 1, '783730': 1, '787142': 43, '785838': 4, '785401': 1, '788041': 4, '785219': 1, '886679': 2, '783977': 1, '788197': 1, '788453': 1, '788416': 20, '783978': 1, '785208': 1, '788119': 2, '788018': 1, '786337': 1, '784653': 1, '787062': 1, '785386': 6, '787469': 1, '217711': 1, '787687': 3, '217560': 1, '787029': 19, '783784': 1, '722068': 1, '783888': 18, '784851': 1, '786094': 1, '783913': 1, '1687209': 1, '783837': 1, '784169': 1, '786060': 1, '787612': 1, '217862': 1, '784180': 3, '783508': 1, '788437': 1, '784105': 1, '787543': 3, '722204': 1, '787971': 1, '1622745': 1, '785546': 1, '785799': 1, '785648': 1, '787104': 5, '1659547': 1, '784952': 1, '785188': 1, '995064': 1, '786304': 1, '722245': 2, '1622725': 2, '938376': 1, '785429': 1, '786555': 3, '786763': 9, '784662': 1, '786428': 14, '996652': 5, '785002': 1, '787778': 1, '787937': 1, '999588': 0, '722128': 1, '783965': 2, '996732': 1, '217918': 1, '787310': 1, '786159': 1, '788414': 1, '786622': 1, '785494': 1, '786996': 1, '786327': 2, '786111': 39, '785554': 1, '1622782': 1, '832803': 1, '787756': 1, '1670178': 1, '996647': 1, '784774': 1, '722527': 1, '369531': 1, '786656': 1, '787617': 1, '721950': 1, '1622670': 1, '1687150': 1, '785617': 1, '784286': 1, '788249': 1, '722560': 1, '722424': 2, '784334': 1, '787109': 10, '785232': 4, '787173': 1, '784724': 1, '1688032': 1, '788244': 1, '785517': 1, '1688055': 1, '784037': 6, '787238': 3, '219617': 0, '784918': 3, '1000333': 1, '785741': 1, '786564': 1, '784143': 6, '217796': 1, '786770': 1, '786581': 1, '785055': 1, '784522': 1, '785154': 1, '788401': 1, '1275880': 1, '788162': 2, '1686928': 1, '785443': 1, '786149': 1, '1622596': 1, '787878': 1, '1688033': 1, '1658644': 0, '787700': 1, '1686704': 1, '788174': 1, '1002411': 2, '785885': 1, '722428': 1, '787180': 4, '722339': 1, '1686683': 2, '787119': 1, '1622504': 1, '722109': 1, '999616': 1, '787078': 2, '783641': 37, '938575': 1, '787621': 3, '1622602': 1, '786091': 4, '787026': 1, '786850': 2, '784100': 1, '786277': 1, '784406': 1, '786269': 58, '722163': 1, '787264': 2, '788222': 1, '784292': 1, '787054': 2, '786256': 30, '787619': 1, '496043': 1, '786383': 1, '217760': 1, '722127': 1, '786048': 1, '1622514': 1, '785530': 2, '787552': 2, '722309': 2, '785153': 3, '785515': 1, '219772': 0, '786682': 1, '722417': 2, '784264': 7, '217548': 1, '785599': 1, '785457': 1, '721945': 1, '217662': 1, '786070': 1, '787747': 1, '217732': 3, '369501': 1, '785839': 1, '784649': 1, '787452': 0, '217551': 1, '1622721': 1, '786936': 8, '217777': 1, '787278': 2, '787053': 1, '787043': 1, '786672': 2, '996338': 1, '783597': 2, '786041': 2, '786849': 1, '784258': 1, '787885': 1, '788407': 1, '787523': 1, '786074': 1, '785719': 2, '787273': 2, '786837': 12, '786588': 13, '722059': 1, '783579': 1, '786684': 1, '217707': 1, '784663': 4, '787316': 1, '943232': 1, '785818': 3, '787616': 1, '786050': 3, '1677660': 1, '996725': 1, '369507': 1, '785499': 1, '785203': 1, '996262': 1, '785225': 1, '217912': 2, '1687599': 1, '783939': 1, '784079': 2, '786319': 4, '786825': 11, '1687208': 1, '787511': 1, '722098': 1, '783571': 1, '994736': 1, '787790': 1, '788173': 1, '786889': 1, '787322': 1, '786637': 1, '785030': 1, '787351': 1, '788140': 1, '786270': 1, '787658': 2, '784308': 4, '722214': 1, '787746': 1, '1686517': 1, '1000317': 1, '722323': 1, '722229': 3, '1671423': 1, '938512': 1, '787538': 1, '784926': 1, '786218': 2, '1000330': 1, '217721': 1, '785781': 1, '787028': 2, '786603': 1, '785749': 1, '786788': 24, '786570': 1, '785854': 1, '787622': 1, '783700': 1, '217505': 1, '785171': 1, '783916': 1, '1622610': 1, '785338': 1, '784013': 1, '784927': 1, '785525': 1, '722104': 1, '938624': 1, '783810': 1, '786358': 1, '999721': 1, '787056': 1, '217877': 1, '787950': 2, '784296': 1, '217527': 1, '783694': 4, '785674': 1, '785527': 1, '787451': 1, '1687946': 1, '964034': 1, '783889': 1, '938509': 1, '784985': 2, '832802': 1, '783973': 1, '1670122': 1, '786723': 1, '786086': 1, '722279': 1, '783898': 1, '1622523': 1, '788044': 1, '783749': 1, '784921': 2, '785111': 8, '786090': 1, '787283': 1, '994993': 1, '784120': 1, '722120': 1, '786537': 1, '938597': 1, '1687221': 1, '788470': 1, '785841': 1, '722142': 1, '788125': 1, '785475': 12, '999736': 1, '1622532': 1, '787645': 1, '787018': 1, '999618': 1, '938501': 1, '722541': 1, '784521': 7, '722222': 1, '787506': 1, '999879': 1, '784796': 1, '1278509': 1, '786790': 5, '783794': 1, '1622466': 1, '783821': 1, '788275': 1, '721952': 1, '788477': 1, '1622742': 1, '787922': 1, '787764': 1, '788253': 1, '783615': 1, '785114': 4, '217888': 1, '1622314': 1, '786834': 9, '786102': 1, '784748': 4, '788192': 2, '787518': 1, '722411': 1, '784154': 4, '217917': 1, '783607': 1, '722538': 1, '217853': 1, '217702': 1, '785574': 1, '784196': 1, '722414': 1, '930647': 1, '783572': 1, '886676': 1, '1686939': 1, '787272': 1, '788104': 1, '784838': 1, '784228': 1, '787067': 1, '217622': 1, '783595': 2, '369526': 1, '1622339': 1, '1687951': 1, '784707': 1, '722017': 2, '786838': 3, '784508': 1, '787521': 1, '785686': 2, '787732': 1, '1671759': 1, '1670172': 1, '787073': 1, '784102': 2, '788375': 1, '996589': 1, '787385': 0, '786823': 1, '785421': 1, '1622419': 1, '785177': 1, '722084': 2, '785335': 1, '788265': 1, '786075': 1, '786551': 11, '217601': 1, '784168': 1, '1688052': 1, '786213': 2, '786953': 15, '785638': 1, '1622604': 1, '784526': 1, '1686754': 1, '786574': 22, '788441': 1, '217755': 1, '783917': 32, '722278': 1, '931110': 3, '721962': 1, '1687163': 1, '786442': 1, '784657': 1, '1622503': 1, '787082': 1, '784744': 1, '938574': 1, '1670227': 1, '785307': 3, '786088': 1, '72146': 1, '1670235': 2, '721994': 1, '784823': 1, '785222': 3, '1688058': 1, '788476': 2, '784574': 1, '999803': 1, '1688029': 1, '787293': 2, '784543': 1, '784804': 1, '783522': 1, '785080': 1, '784358': 1, '784138': 1, '784246': 1, '217799': 1, '786552': 1, '786647': 1, '787988': 1, '786862': 4, '785361': 3, '785271': 1, '938582': 1, '1688021': 1, '217805': 1, '1248414': 1, '786756': 13, '1622183': 1, '722372': 1, '784605': 2, '784051': 1, '1622687': 1, '996255': 1, '786908': 5, '217733': 1, '721979': 1, '999728': 1, '784752': 1, '788110': 1, '787190': 1, '783637': 1, '722274': 1, '785079': 1, '786828': 12, '785428': 1, '783798': 1, '785391': 1, '787486': 1, '786897': 1, '788397': 1, '938569': 1, '787693': 2, '722218': 1, '786170': 1, '784817': 1, '786701': 1, '1752580': 1, '783992': 1, '722185': 3, '832814': 1, '722199': 1, '784741': 1, '783709': 1, '787628': 1, '786766': 15, '996107': 1, '785190': 3, '1622690': 1, '786502': 1, '996309': 1, '722058': 1, '787869': 1, '784384': 1, '1622387': 1, '784457': 2, '785565': 1, '786436': 4, '784157': 3, '938623': 1, '785874': 1, '784383': 1, '938559': 1, '785257': 2, '722162': 1, '217882': 1, '1251315': 1, '787237': 1, '1622744': 15, '784971': 1, '784033': 1, '783820': 1, '787143': 2, '784860': 1, '788218': 1, '786386': 1, '786805': 1, '785228': 1, '783575': 1, '786651': 2, '783949': 1, '1686546': 1, '217879': 1, '788011': 2, '785649': 1, '938541': 1, '786496': 1, '1752564': 1, '784253': 33, '1622540': 1, '1622401': 1, '787253': 7, '785019': 2, '787656': 4, '1669967': 1, '722321': 1, '423763': 1, '931100': 2, '217547': 1, '787684': 1, '788372': 1, '787047': 1, '1622411': 1, '784571': 2, '938625': 1, '890022': 2, '788216': 1, '938518': 1, '1677545': 1, '1751275': 1, '722129': 1, '784130': 1, '784394': 1, '938591': 6, '1275978': 3, '785038': 1, '785102': 2, '996351': 1, '785392': 1, '783555': 2, '785613': 1, '1686524': 1, '217643': 1, '938549': 1, '783935': 2, '787505': 4, '785589': 1, '1677662': 1, '721989': 1, '786583': 1, '787711': 1, '785560': 1, '787701': 1, '786145': 1, '784199': 1, '783651': 2, '996119': 2, '839730': 1, '787185': 1, '786871': 3, '722241': 3, '783865': 1, '783590': 1, '785545': 1, '217739': 1, '785084': 1, '785882': 1, '788395': 1, '217647': 1, '722216': 1, '788422': 1, '999922': 4, '786832': 58, '786254': 1, '1622627': 1, '784723': 1, '1688076': 1, '995080': 1, '722251': 1, '219780': 1, '938539': 1, '786998': 1, '722329': 2, '786266': 14, '1279016': 1, '784954': 1, '784889': 1, '783942': 1, '787031': 1, '1622526': 1, '1622656': 2, '1659614': 1, '786332': 1, '785346': 1, '217809': 1, '217751': 2, '785148': 1, '217861': 1, '785828': 1, '784131': 1, '217839': 1, '217810': 1, '785459': 1, '786078': 2, '1688046': 1, '784165': 1, '788020': 1, '784248': 1, '785337': 2, '721951': 3, '787420': 0, '787607': 1, '786367': 8, '788052': 1, '786928': 7, '785899': 1, '785623': 2, '784576': 1, '787170': 1, '784835': 1, '788440': 1, '788430': 1, '721983': 1, '787758': 1, '788163': 1, '1688027': 1, '786870': 2, '783819': 1, '1622528': 3, '783678': 1, '785852': 1, '786328': 1, '999605': 1, '1279086': 1, '722416': 1, '1671424': 1, '722238': 1, '784494': 1, '785896': 1, '784697': 1, '786040': 5, '1622738': 1, '1688068': 1, '722331': 1, '787061': 1, '785278': 5, '938455': 2, '722307': 1, '217869': 1, '784176': 1, '217767': 1, '496045': 1, '938474': 2, '217764': 1, '1678028': 1, '785653': 1, '785879': 1, '1622711': 1, '787686': 1, '1622506': 1, '1622680': 1, '786167': 1, '787034': 1, '1686655': 1, '785731': 1, '788058': 1, '217880': 2, '785276': 1, '217828': 2, '784032': 1, '787346': 9, '722055': 1, '722123': 1, '938471': 2, '1687930': 1, '1688067': 1, '787920': 1, '1686957': 1, '788283': 6, '938446': 1, '786736': 4, '783580': 1, '783829': 1, '938555': 1, '1622759': 2, '784242': 1, '217713': 1, '722009': 1, '784710': 1, '938409': 2, '217793': 2, '785170': 1, '786349': 1, '217856': 2, '786560': 1, '217555': 1, '783737': 1, '721944': 2, '785512': 2, '786055': 1, '786028': 1, '722266': 1, '217570': 3, '722450': 2, '787120': 1, '788166': 1, '999615': 1, '788297': 1, '784850': 1, '784320': 1, '785098': 2, '784900': 1, '787842': 1, '413124': 117, '784218': 1, '786600': 1, '1622434': 1, '787331': 9, '784873': 1, '783789': 1, '787638': 1, '943216': 3, '369544': 1, '785813': 2, '1677618': 1, '369513': 1, '784783': 1, '217906': 1, '784499': 2, '788065': 1, '787188': 1, '783986': 1, '938488': 4, '785294': 1, '217516': 1, '999670': 1, '784690': 4, '788432': 1, '787611': 1, '785643': 1, '785277': 1, '1672162': 1, '72147': 1, '784676': 13, '722425': 2, '943210': 1, '938595': 1, '938626': 3, '938610': 3, '784669': 10, '788320': 1, '787980': 2, '217621': 1, '786215': 2, '1622412': 1, '722013': 2, '787183': 1, '1671727': 1, '784959': 1, '788203': 1, '217874': 1, '787329': 1, '786471': 1, '1658656': 2, '783706': 1, '1622400': 1, '938523': 2, '783859': 1, '787698': 1, '785472': 1, '785101': 1, '787828': 1, '784029': 1, '788335': 1, '832812': 0, '783726': 2, '783920': 1, '938543': 1, '784347': 1, '784145': 1, '571046': 1, '787282': 2, '786706': 5, '938821': 1, '784038': 1, '784994': 1, '889862': 1, '217663': 1, '783860': 1, '784973': 1, '784904': 1, '785727': 1, '999603': 1, '788408': 3, '722146': 2, '784818': 3, '783761': 1, '721986': 5, '785678': 1, '787169': 1, '785538': 1, '783934': 1, '786589': 1, '784581': 3, '1000322': 2, '722227': 4, '784762': 1, '783963': 4, '785274': 5, '783517': 1, '784855': 1, '787840': 1, '785650': 5, '788178': 3, '1688116': 1, '217482': 1, '783954': 1, '1554020': 1, '786895': 3, '722079': 3, '217842': 2, '785209': 1, '784940': 3, '785751': 3, '786951': 1, '786273': 1, '787363': 1, '784164': 5, '785566': 1, '722395': 1, '999683': 1, '785775': 1, '784503': 3, '1000360': 2, '788328': 2, '784524': 1, '788063': 3, '217613': 1, '1622673': 1, '217761': 1, '785112': 1, '1622181': 1, '784094': 1, '784527': 1, '1622758': 1, '784738': 15, '784830': 1, '784913': 1, '994987': 1, '1687597': 2, '785123': 1, '786410': 2, '788147': 1, '785500': 4, '1658660': 1, '785445': 1, '217592': 1, '784049': 2, '785220': 13, '787309': 5, '785679': 2, '937330': 2, '787044': 1, '784902': 1, '788089': 1, '788330': 1, '786708': 1, '1622389': 1, '786966': 1, '784173': 1, '787785': 1, '787090': 2, '785844': 1, '788079': 1, '788098': 1, '785250': 1, '1629309': 2, '722207': 1, '783835': 1, '786802': 1, '786868': 1, '787463': 1, '938532': 5, '217891': 1, '1428325': 2, '1671578': 1, '785308': 2, '787650': 4, '722032': 1, '1687949': 1, '787642': 1, '786492': 1, '1622662': 1, '785199': 1, '786881': 3, '938642': 1, '784978': 1, '786519': 1, '217781': 1, '786644': 5, '784150': 1, '217900': 1, '217932': 1, '786757': 1, '785539': 1, '938535': 1, '1752563': 1, '787266': 1, '1276487': 3, '722352': 1, '1669991': 1, '999723': 1, '785124': 1, '1688031': 1, '785173': 2, '785558': 1, '785735': 1, '1671918': 1, '1677522': 1, '722394': 1, '784307': 1, '786244': 1, '785596': 2, '787569': 1, '784160': 1, '784836': 1, '786466': 1, '217645': 1, '786192': 1, '788349': 2, '722219': 2, '217667': 2, '787824': 1, '785760': 1, '1000372': 1, '787103': 6, '783902': 1, '784585': 1, '784245': 1, '787194': 2, '1658662': 5, '786338': 1, '784362': 2, '217849': 1, '787903': 1, '785393': 1, '787754': 1, '785178': 1, '784610': 5, '785824': 1, '783833': 1, '1622617': 1, '787729': 1, '787995': 1, '1622372': 1, '787968': 1, '964033': 2, '786814': 1, '943215': 1, '722070': 1, '787488': 4, '783908': 1, '786742': 1, '784028': 1, '784731': 1, '785181': 3, '787146': 12, '786105': 9, '785176': 4, '785796': 1, '784270': 1, '783930': 2, '788120': 1, '1444377': 1, '786578': 1, '1000218': 1, '785059': 1, '784713': 2, '930646': 2, '786013': 13, '784630': 1, '786580': 1, '787259': 1, '721943': 1, '785378': 1, '1686772': 1, '784789': 2, '788393': 4, '938652': 2, '785426': 1, '787383': 2, '1622384': 1, '1671762': 1, '786844': 1, '784607': 1, '786633': 1, '786811': 1, '784523': 9, '930644': 1, '784304': 1, '788463': 1, '1763774': 1, '787455': 1, '787131': 1, '785108': 1, '784765': 1, '217818': 1, '787327': 1, '783506': 1, '787251': 1, '788172': 1, '787731': 1, '786712': 21, '1678051': 1, '1671402': 1, '786548': 1, '1000358': 1, '1752574': 1, '785251': 1, '783822': 1, '1672039': 2, '1764156': 1, '999924': 3, '787111': 1, '1677721': 1, '784591': 1, '783769': 1, '786381': 1, '787038': 3, '938375': 1, '1288845': 1, '722085': 1, '788391': 2, '786054': 1, '721978': 1, '785556': 4, '217470': 1, '787339': 1, '786276': 11, '786986': 1, '786363': 2, '784078': 1, '784156': 2, '785388': 1, '217835': 1, '217904': 1, '783498': 1, '787236': 1, '784217': 7, '786110': 1, '786425': 1, '938473': 1, '722349': 3, '1622408': 1, '785526': 1, '785007': 2, '217928': 5, '787880': 1, '1677652': 1, '786665': 2, '886675': 8, '786613': 1, '1671508': 1, '785296': 1, '786713': 6, '785532': 2, '886671': 1, '1764142': 1, '783748': 2, '788127': 1, '1622446': 1, '785416': 1, '784214': 1, '787584': 3, '784007': 1, '722312': 1, '787396': 3, '722308': 1, '1631211': 1, '217562': 1, '786801': 1, '787422': 0, '784057': 1, '1002966': 1, '784290': 8, '783683': 1, '1622404': 1, '1758105': 1, '784661': 1, '785651': 1, '787728': 1, '217528': 1, '786709': 1, '999568': 1, '217685': 1, '783951': 1, '1686954': 1, '788153': 1, '134749': 1, '217686': 1, '786459': 1, '938505': 4, '788238': 1, '721942': 1, '995059': 1, '786197': 1, '938421': 1, '786762': 7, '785773': 1, '786122': 5, '786624': 1, '785397': 1, '722536': 1, '783912': 1, '785295': 1, '787512': 1, '1622363': 1, '938640': 1, '996420': 3, '784822': 1, '1764146': 1, '784107': 1, '784545': 1, '722276': 2, '786534': 1, '1670226': 1, '785360': 2, '787809': 1, '783834': 1, '217640': 1, '722145': 1, '1752570': 1, '1677668': 1, '783573': 2, '722237': 1, '1622734': 1, '1622642': 1, '784965': 1, '938615': 2, '722360': 1, '783815': 1, '785347': 1, '787630': 1, '784119': 1, '783910': 4, '217834': 1, '785975': 26, '786274': 1, '784450': 2, '783496': 1, '1686763': 1, '785118': 1, '787623': 1, '785284': 4, '1622438': 1, '783682': 1, '785782': 1, '787072': 1, '786594': 1, '217770': 1, '786554': 1, '1688066': 2, '785603': 1, '1672124': 1, '217867': 2, '722167': 1, '1622329': 1, '785627': 1, '783768': 1, '217841': 1, '786737': 1, '1622587': 1, '787805': 1, '783578': 1, '787086': 1, '1000351': 1, '788354': 1, '1687615': 1, '784422': 1, '938550': 1, '1000340': 1, '938384': 1, '72149': 6, '784579': 1, '786653': 2, '783754': 1, '1671758': 4, '786261': 9, '787421': 0, '785748': 1, '1622630': 1, '788459': 1, '786714': 15, '786392': 4, '996042': 1, '217489': 1, '786255': 18, '625326': 4, '1686770': 1, '785200': 1, '786730': 1, '787482': 6, '1672088': 1, '783933': 1, '784396': 1, '722528': 1, '785493': 1, '217474': 1, '785240': 3, '784167': 1, '1622406': 0, '787916': 2, '787443': 11, '1622296': 1, '788037': 1, '787942': 1, '788332': 6, '217753': 1, '217784': 1, '783896': 1, '786547': 1, '784638': 1, '786886': 1, '1622470': 1, '1622717': 1, '788168': 2, '784247': 1, '787321': 5, '784778': 1, '783669': 1, '217854': 1, '1274135': 1, '784375': 1, '1622297': 1, '722014': 1, '787005': 1, '943791': 3, '217795': 1, '722523': 1, '788271': 1, '1622488': 1, '722289': 1, '786877': 4, '785323': 1, '787392': 1, '784005': 1, '369502': 1, '785452': 1, '783842': 1, '788272': 1, '787404': 0, '788359': 1, '788396': 1, '788072': 1, '995957': 1, '785183': 1, '1670001': 1, '784338': 3, '788186': 2, '785702': 2, '787578': 12, '786585': 1, '217758': 1, '369517': 1, '786799': 1, '217820': 1, '788302': 9, '786095': 6, '1622333': 1, '783504': 1, '999722': 3, '786187': 1, '721948': 2, '785496': 1, '938561': 1, '786135': 1, '785652': 2, '785160': 1, '786457': 2, '788257': 2, '787608': 1, '786612': 3, '722105': 1, '787074': 1, '784701': 1, '785085': 1, '938380': 1, '786954': 1, '787947': 2, '788356': 1, '784803': 1, '784679': 1, '938519': 1, '786932': 5, '785595': 4, '784112': 1, '999925': 2, '938507': 1, '722361': 1, '1622362': 1, '784003': 1, '783801': 9, '1002425': 1, '786520': 1, '785892': 1, '787604': 1, '783811': 1, '722300': 1, '785745': 1, '938648': 19, '722369': 2, '787682': 2, '785049': 1, '785375': 1, '784236': 2, '784888': 1, '999913': 1, '787302': 1, '788088': 1, '784540': 1, '787776': 1, '1278955': 1, '785752': 1, '1677664': 2, '788082': 1, '785581': 1, '786597': 1, '1687159': 1, '786439': 1, '786605': 2, '784816': 2, '217860': 1, '1000318': 3, '722296': 1, '786226': 14, '784074': 3, '1670201': 1, '784224': 5, '1622590': 1, '788019': 1, '784537': 1, '1764151': 1, '786076': 14, '788223': 1, '722282': 1, '1622319': 1, '785234': 1, '785374': 1, '788122': 1, '787071': 1, '784332': 1, '788027': 1, '722533': 1, '784687': 3, '1622600': 1, '785289': 1, '1622390': 1, '783990': 72, '786123': 2, '788111': 1, '217773': 1, '1622500': 1, '787777': 1, '1622716': 1, '722073': 1, '722337': 1, '217692': 1, '788445': 1, '783981': 1, '784312': 1, '784244': 1, '786424': 3, '788132': 3, '783786': 1, '785396': 1, '722043': 1, '783832': 1, '938382': 2, '785096': 1, '722355': 1, '786652': 1, '787575': 1, '787249': 1, '787504': 2, '784584': 1, '903424': 1, '784106': 1, '1688041': 1, '785087': 1, '994807': 1, '785436': 1, '786920': 2, '722093': 2, '524906': 0, '783765': 1, '783581': 1, '783882': 1, '784182': 1, '785634': 1, '787544': 1, '787767': 1, '786638': 1, '1554027': 1, '1000349': 1, '786460': 1, '1763463': 1, '722012': 1, '784446': 1, '217693': 1, '784655': 3, '784769': 1, '788022': 2, '938632': 1, '1767790': 1, '787281': 2, '788075': 1, '788028': 1, '787434': 11, '786211': 1, '785244': 12, '1688042': 7, '1670180': 2, '786223': 1, '72131': 1, '786658': 3, '1677544': 1, '217506': 1, '999745': 1, '785970': 54, '786673': 1, '784914': 3, '785345': 1, '784596': 1, '787857': 1, '788398': 1, '788007': 4, '1687969': 1, '1671623': 1, '785067': 2, '787714': 1, '1622748': 1, '938492': 3, '786051': 3, '1367354': 1, '217911': 1, '785164': 1, '784870': 1, '786083': 4, '787893': 5, '1705054': 2, '787150': 1, '784238': 1, '785717': 1, '783914': 1, '783718': 5, '937331': 1, '1295875': 1, '787586': 1, '1633363': 1, '788266': 1, '1002581': 1, '786400': 1, '786569': 1, '785511': 1, '786280': 1, '787057': 2, '786465': 1, '784546': 1, '217638': 1, '786780': 2, '786787': 1, '938513': 3, '217518': 1, '785662': 1, '785432': 1, '787838': 1, '217943': 1, '786323': 1, '722277': 1, '1622541': 2, '785594': 1, '217606': 2, '1622691': 1, '787913': 1, '1763764': 1, '996319': 2, '1686659': 1, '786525': 1, '217484': 1, '788045': 6, '217502': 1, '217660': 1, '785834': 2, '1275879': 1, '722328': 1, '783782': 1, '217682': 1, '217657': 1, '994957': 1, '1000310': 1, '784980': 1, '788250': 1, '999916': 1, '788067': 1, '1686648': 1, '786390': 1, '788195': 1, '372692': 1, '786082': 1, '1764138': 4, '783806': 1, '784982': 1, '785859': 2, '784147': 1, '785672': 1, '783662': 1, '787827': 4, '787550': 1, '784390': 2, '786798': 2, '785861': 1, '1687929': 1, '785263': 3, '787087': 1, '1278917': 1, '787773': 1, '784509': 1, '783631': 1, '787312': 1, '783588': 2, '785357': 1, '788400': 1, '217631': 1, '785061': 1, '787557': 2, '784962': 1, '786711': 3, '787520': 1, '1622591': 1, '1622722': 1, '784598': 1, '787275': 4, '783851': 9, '72129': 1, '785739': 2, '787690': 1, '1622300': 1, '787851': 1, '1677666': 1, '786282': 1, '721880': 1, '722263': 1, '1632025': 1, '783630': 8, '938461': 1, '722287': 1, '786228': 1, '788049': 1, '785503': 1, '786455': 1, '1658645': 3, '722402': 1, '1622636': 1, '783960': 5, '787152': 1, '785408': 1, '786842': 3, '722293': 1, '1000324': 2, '722144': 1, '784140': 1, '1671581': 1, '1275976': 1, '722341': 1, '784847': 1, '786146': 1, '1691453': 1, '784354': 1, '722403': 1, '217826': 1, '787735': 1, '1752571': 1, '785811': 1, '787674': 2, '783802': 2, '785636': 1, '787035': 1, '1622682': 1, '787178': 2, '785161': 1, '1687961': 1, '1622668': 2, '1687956': 1, '785722': 1, '784933': 6, '786859': 1, '786230': 3, '787456': 0, '788134': 1, '217848': 4, '784344': 3, '784516': 1, '217656': 1, '785430': 1, '722377': 1, '1688065': 1, '1700455': 1, '783884': 1, '784784': 1, '788378': 1, '786311': 1, '787112': 1, '217569': 1, '788208': 1, '783600': 1, '785639': 1, '785541': 7, '785757': 1, '722081': 1, '784911': 1, '996122': 1, '1713558': 1, '784595': 1, '783921': 1, '785557': 1, '786957': 1, '785622': 1, '784685': 1, '217819': 3, '785013': 1, '722035': 2, '1622659': 1, '999809': 1, '786065': 1, '785321': 1, '784448': 1, '783731': 5, '217509': 1, '722203': 1, '1671502': 3, '783743': 1, '938589': 1, '785677': 1, '783521': 1, '784928': 1, '785690': 1, '784515': 1, '721981': 1, '788189': 1, '217599': 1, '784063': 1, '1428328': 1, '786140': 1, '889482': 1, '1000095': 1, '788205': 1, '217933': 2, '788151': 1, '787077': 1, '784535': 1, '786067': 1, '1278915': 1, '784044': 1, '722029': 1, '943208': 2, '938603': 1, '1622377': 1, '217905': 1, '788417': 1, '784439': 1, '787845': 1, '996439': 1, '1622320': 1, '938439': 2, '785147': 1, '217644': 1, '783824': 1, '722376': 1, '784266': 4, '72152': 1, '722358': 2, '785858': 1, '783758': 1, '788358': 1, '787560': 1, '217924': 1, '722050': 1, '783976': 1, '784702': 5, '786925': 8, '1632520': 1, '784006': 1, '787134': 1, '783813': 1, '1688023': 1, '786539': 1, '999598': 2, '785826': 1, '786507': 1, '787403': 2, '787748': 1, '788180': 1, '785365': 1, '785601': 1, '72145': 1, '787129': 1, '722158': 1, '788030': 1, '219771': 0, '784469': 1, '788353': 1, '784827': 1, '784922': 6, '785182': 1, '938481': 3, '1000236': 1, '721958': 1, '786489': 1, '217734': 1, '786820': 5, '787216': 1, '785362': 1, '787807': 1, '1688028': 1, '784883': 1, '721973': 1, '787317': 2, '1658666': 4, '786905': 8, '787285': 1, '722159': 0, '1622424': 1, '722033': 1, '784539': 1, '788447': 1, '938608': 1, '784924': 1, '787102': 1, '786880': 1, '1622700': 1, '936950': 3, '788901': 1, '1677650': 1, '784782': 2, '785009': 1, '787977': 1, '786173': 17, '784750': 1, '721949': 1, '1554271': 1, '787972': 1, '1686658': 1, '787414': 0, '72134': 1, '784443': 1, '1000359': 1, '722152': 1, '787365': 2, '1622707': 1, '722000': 1, '1687959': 1, '722546': 1, '787484': 0, '784621': 2, '217892': 1, '785842': 1, '784557': 1, '217557': 1, '938548': 1, '783880': 1, '722202': 2, '787427': 0, '832807': 0, '217942': 4, '786688': 15, '999921': 1, '1279048': 1, '996352': 1, '784219': 2, '1774999': 1, '786238': 2, '1000347': 1, '784667': 1, '786720': 1, '784417': 5, '786840': 4, '1000898': 2, '217902': 1, '721965': 1, '217807': 1, '787496': 1, '786262': 1, '787010': 2, '888628': 1, '788224': 2, '938820': 2, '1687947': 1, '785806': 1, '938490': 1, '787847': 1, '784599': 2, '1677665': 1, '889246': 1, '785455': 1, '785487': 1, '999926': 2, '787432': 1, '783558': 1, '72120': 2, '787791': 3, '787348': 1, '786835': 14, '784210': 5, '788421': 1, '784353': 1, '72144': 1, '784216': 1, '785035': 2, '1428322': 1, '1622492': 1, '788051': 1, '1622623': 1, '722220': 1, '784593': 1, '217575': 1, '785795': 2, '217907': 1, '722034': 1, '787723': 1, '786882': 6, '785480': 1, '786495': 1, '217500': 1, '787813': 1, '722125': 1, '784409': 1, '785312': 2, '787598': 1, '722564': 1, '1688053': 1, '787358': 5, '786847': 1, '1622658': 1, '1000332': 1, '1688074': 1, '787387': 1, '784481': 1, '787854': 1, '938638': 1, '785695': 1, '999697': 1, '784111': 3, '784832': 1, '1660084': 1, '786313': 1, '788390': 1, '785070': 1, '996194': 1, '784144': 1, '788415': 1, '941900': 1, '788086': 1, '787123': 1, '786563': 1, '722193': 1, '786130': 1, '938592': 2, '783816': 19, '369516': 1, '1000305': 0, '1752576': 1, '788242': 1, '784512': 1, '786627': 6, '786330': 1, '1622781': 1, '1481597': 1, '785890': 4, '787340': 15, '784942': 1, '786491': 1, '783698': 1, '369512': 1, '721985': 1, '784000': 1, '784416': 1, '787470': 1, '784445': 1, '369533': 1, '787721': 1, '786302': 1, '785778': 1, '722338': 1, '217762': 2, '787141': 1, '787371': 1, '787574': 1, '1677670': 1, '788096': 1, '788305': 1, '721976': 1, '1688075': 1, '784276': 1, '217648': 1, '785783': 1, '962319': 1, '784718': 1, '786670': 1, '996350': 2, '722114': 1, '786887': 1, '786693': 2, '784460': 2, '786133': 1, '787429': 1, '787353': 1, '1622677': 1, '783690': 1, '787765': 1, '785645': 1, '217903': 1, '722186': 1, '1000342': 1, '1622307': 2, '788309': 1, '786878': 1, '1622732': 1, '787783': 1, '786573': 1, '1686705': 1, '788254': 1, '784570': 1, '787653': 14, '784333': 9, '1671487': 3, '787166': 1, '787956': 1, '784086': 1, '1688464': 1, '217812': 1, '784528': 1, '784361': 2, '787996': 1, '787011': 1, '785571': 1, '783609': 2, '786109': 1, '787359': 1, '783779': 1, '785412': 2, '722431': 1, '786518': 1, '787015': 1, '784419': 1, '1622306': 2, '72127': 1, '785119': 1, '785115': 1, '217568': 1, '1677657': 1, '783780': 1, '783970': 1, '722010': 1, '369527': 1, '217715': 1, '786214': 1, '784907': 1, '1622454': 1, '784386': 1, '1764136': 1, '999909': 1, '784229': 2, '784474': 2, '786278': 3, '787397': 1, '217674': 1, '783601': 1, '785800': 1, '788106': 1, '943792': 1, '785004': 1, '1677654': 1, '786865': 1, '1622586': 1, '1295874': 1, '1632024': 4, '786722': 1, '785670': 1, '938571': 1, '217616': 1, '999828': 1, '787515': 1, '72124': 1, '784227': 1, '784189': 1, '217780': 1, '1687899': 1, '721995': 1, '785024': 1, '788365': 1, '784203': 2, '785162': 1, '783670': 1, '217752': 1, '784740': 1, '788449': 1, '786599': 1, '1624728': 1, '1672042': 1, '722344': 1, '722051': 1, '785728': 1, '784092': 4, '1658650': 1, '784807': 1, '785158': 1, '784763': 1, '785862': 1, '1763769': 0, '786169': 1, '787326': 12, '996402': 1, '787083': 1, '722381': 1, '787139': 1, '1622772': 1, '1653055': 1, '1767048': 1, '996726': 1, '1669958': 1, '217540': 1, '1622376': 1, '72121': 1, '783746': 1, '787912': 1, '784104': 3, '938377': 1, '722370': 2, '1622449': 2, '784622': 1, '785831': 2, '999729': 1, '217545': 1, '938495': 1, '722137': 1, '1622705': 1, '938457': 2, '785073': 1, '787328': 1, '785144': 1, '787433': 1, '788046': 1, '788240': 1, '787390': 2, '721886': 1, '785353': 1, '784787': 1, '1677663': 1, '1622761': 1, '369542': 1, '1622187': 1, '217524': 1, '784972': 1, '1622529': 1, '1688059': 3, '785675': 1, '722040': 1, '787406': 1, '217778': 1, '785447': 1, '784799': 1, '787287': 1, '787841': 1, '217794': 1, '783611': 2, '722042': 1, '787379': 3, '721970': 2, '938578': 1, '787250': 2, '786039': 2, '787256': 1, '785435': 6, '722117': 1, '938480': 1, '786234': 2, '786036': 2, '217522': 1, '1622699': 1, '1622672': 1, '787514': 4, '217754': 1, '1671764': 1, '1677620': 2, '783589': 1, '784083': 1, '785770': 1, '1622289': 1, '786995': 1, '938413': 1, '1622295': 1, '787039': 1, '787962': 1, '217590': 2, '783577': 1, '722160': 1, '784613': 1, '785238': 1, '783993': 1, '1687601': 1, '785264': 1, '999669': 1, '786222': 1, '787092': 2, '1670229': 1, '1000323': 1, '785495': 1, '722396': 1, '1622731': 1, '786779': 2, '1772358': 3, '788201': 1, '1671760': 1, '788327': 1, '784511': 2, '785552': 1, '783643': 1, '722535': 1, '1622513': 2, '1686641': 1, '784194': 34, '785732': 1, '787572': 2, '786817': 1, '938462': 1, '1275186': 1, '721968': 1, '722020': 1, '722322': 1, '783542': 1, '1671743': 1, '784262': 1, '783713': 1, '785866': 1, '996361': 1, '784983': 2, '787643': 3, '783828': 1, '787554': 2, '785287': 2, '722149': 2, '784215': 0, '784991': 1, '787122': 7, '1686657': 1, '784695': 6, '1000213': 2, '1767056': 1, '786617': 3, '217703': 1, '785377': 2, '996048': 1, '786721': 1, '784108': 2, '217572': 2, '786947': 2, '938553': 1, '787757': 1, '787130': 7, '1278960': 1, '788199': 1, '999547': 1, '785791': 3, '786782': 20, '787563': 1, '787366': 1, '784654': 17, '786360': 1, '1622692': 1, '1764073': 1, '785660': 2, '787260': 1, '784510': 1, '938491': 1, '786405': 3, '787759': 1, '783864': 1, '1622439': 1, '784413': 1, '1677610': 4, '785609': 1, '787565': 5, '996339': 1, '786808': 1, '1000904': 1, '722187': 1, '784299': 1, '1428329': 1, '783548': 1, '784065': 1, '785398': 1, '784011': 1, '785268': 3, '787507': 1, '1622502': 1, '785441': 1, '1622530': 1, '938644': 1, '786556': 1, '786745': 19, '1622661': 1, '785262': 1, '786097': 1, '722286': 1, '722062': 1, '788185': 2, '786174': 1, '786445': 2, '785001': 3, '1686702': 1, '722554': 3, '1688045': 2, '787046': 5, '217691': 1, '787255': 1, '1767789': 1, '1622385': 1, '785245': 2, '784040': 1, '721957': 1, '786604': 1, '785591': 1, '893109': 1, '785661': 3, '785730': 1, '784964': 3, '994953': 1, '784018': 1, '722180': 1, '217668': 1, '722026': 3, '787262': 1, '787772': 1, '788024': 2, '72153': 1, '787487': 3, '787652': 9, '785310': 2, '1686769': 1, '784327': 1, '787128': 1, '784371': 3, '785785': 1, '1622311': 1, '787736': 1, '785376': 1, '1671920': 1, '217915': 1, '1677661': 1, '217659': 1, '783503': 13, '784753': 1, '1622441': 1, '786778': 1, '1364346': 1, '217908': 2, '784456': 1, '785610': 1, '217567': 1, '1622631': 1, '788220': 2, '784454': 1, '784755': 1, '787651': 1, '788114': 1, '938493': 2, '786183': 1, '783719': 1, '722173': 1, '783728': 4, '784148': 1, '722177': 1, '1671919': 1, '217689': 1, '784185': 1, '1622747': 1, '788301': 1, '996353': 1, '785894': 1, '219779': 2, '369530': 1, '787610': 1, '722018': 1, '784263': 1, '1278542': 2, '938563': 1, '217887': 1, '783890': 1, '1669968': 1, '786257': 3, '217544': 1, '786696': 1, '788329': 1, '938520': 1, '786300': 2, '784126': 2, '788133': 1, '1670115': 1, '786069': 1, '1622462': 1, '786992': 1, '783904': 2, '938465': 1, '784418': 1, '786901': 8, '784377': 1, '786740': 1, '787475': 1, '1000829': 1, '938419': 11, '787697': 1, '788439': 2, '1686588': 1, '784232': 9, '785051': 1, '1622768': 1, '217598': 1, '785462': 1, '1622486': 1, '783751': 1, '1752573': 1, '786549': 2, '1670209': 2, '784239': 2, '1786545': 1, '721996': 1, '722232': 1, '1622312': 1, '788068': 1, '786994': 1, '783805': 2, '787311': 1, '784493': 1, '369503': 1, '722211': 1, '785646': 1, '938568': 1, '784542': 1, '787027': 1, '788146': 2, '217588': 1, '784056': 1, '787037': 3, '217491': 1, '217526': 1, '784628': 1, '786087': 1, '1622750': 1, '785243': 8, '1677669': 1, '787155': 1, '785230': 4, '832799': 1, '1622288': 1, '786879': 1, '785817': 1, '1671921': 2, '783547': 1, '938560': 1, '938564': 2, '786200': 1, '783663': 1, '788099': 1, '783881': 1, '788469': 3, '785836': 1, '787914': 1, '217897': 2, '784477': 1, '785469': 1, '787626': 1, '784466': 1, '786186': 1, '784433': 1, '787064': 1, '1622647': 1, '785356': 1, '786499': 2, '1622645': 1, '783773': 1, '938529': 1, '785956': 5, '1688040': 1, '1658642': 1, '1688025': 1, '938524': 1, '1688062': 1, '999725': 1, '1622521': 1, '217926': 1, '784627': 1, '784617': 1, '784230': 1, '784556': 10, '938647': 2, '722561': 1, '788094': 1, '722141': 1, '787467': 3, '784548': 1, '786205': 1, '783736': 3, '217642': 1, '927654': 1, '783688': 1, '722174': 7, '784562': 1, '722446': 1, '787066': 1, '1622366': 1, '1672146': 1, '787873': 1, '785163': 1, '786860': 5, '784146': 3, '217859': 1, '786729': 1, '788278': 1, '784341': 1, '786621': 1, '722559': 1, '1688078': 1, '783639': 1, '786239': 2, '786705': 1, '787533': 5, '1278543': 1, '785815': 2, '1622180': 1, '217485': 1, '786430': 1, '787662': 1, '941434': 3, '784357': 1, '369545': 1, '786896': 1, '787448': 3, '1622599': 1, '786343': 1, '785063': 2, '786776': 7, '1000088': 1, '217785': 1, '784906': 2, '938556': 1, '783764': 1, '786493': 1, '784997': 1, '787710': 1, '1687957': 1, '787926': 1, '784291': 1, '1686643': 1, '786415': 1, '784274': 1, '962420': 1, '787372': 1, '783952': 2, '786660': 1, '1672148': 6, '785740': 1, '1622484': 1, '786681': 1, '783893': 1, '785302': 1, '217593': 1, '787308': 1, '785878': 2, '787998': 1, '784381': 1, '786312': 1, '784843': 1, '784468': 1, '784271': 7, '784698': 1, '786382': 1, '788070': 1, '1622740': 1, '784808': 1, '787627': 2, '785755': 1, '786793': 1, '722367': 1, '787537': 2, '784117': 1, '722252': 1, '784625': 1, '721992': 1, '786056': 2, '1622695': 1, '785003': 3, '1677649': 1, '217466': 1, '788364': 1, '217720': 1, '785299': 1, '786576': 1, '787408': 1, '786732': 1, '784989': 1, '786630': 1, '722242': 1, '788200': 1, '787605': 1, '785420': 1, '785103': 5, '721964': 2, '786333': 1, '785411': 1, '787069': 1, '1292024': 1, '785753': 1, '722208': 1, '1622498': 1, '785259': 1, '722004': 1, '784646': 1, '722212': 1, '787171': 1, '786674': 2, '784809': 1, '785018': 3, '784467': 1, '1622641': 1, '217723': 1, '784561': 2, '783972': 1, '785655': 1, '786650': 1, '786773': 39, '786106': 1, '938587': 1, '785319': 1, '784382': 1, '787573': 2, '787063': 1, '722233': 1, '722171': 1, '787707': 1, '784387': 7, '1622607': 1, '788039': 1, '217871': 1, '832810': 0, '217597': 1, '721977': 1, '786727': 1, '787959': 1, '785597': 1, '72139': 2, '783763': 1, '722273': 1, '785336': 1, '1687180': 2, '788371': 1, '787234': 1, '1686580': 3, '785669': 1, '787676': 1, '784222': 1, '1687964': 1, '787459': 0, '1686651': 1, '788286': 1, '722532': 1, '1622780': 1, '783534': 1, '1752579': 1, '217618': 1, '996247': 1, '787999': 1, '722258': 1, '785261': 1, '784366': 3, '72142': 1, '785533': 1, '1622679': 1, '785704': 1, '1278918': 1, '786281': 1, '994966': 1, '786375': 4, '787548': 1, '217651': 1, '722072': 1, '784500': 1, '996369': 2, '217821': 1, '785625': 1, '999740': 1, '1687942': 1, '784486': 3, '786115': 1, '217774': 1, '1622370': 1, '785689': 1, '783733': 1, '722179': 2, '217697': 1, '711260': 1, '1660900': 2, '786113': 1, '722432': 1, '787117': 1, '787661': 2, '938515': 1, '784426': 1, '784874': 1, '787663': 3, '788347': 1, '786334': 1, '784773': 1, '217650': 1, '787513': 1, '785766': 1, '832804': 0, '938598': 4, '787347': 1, '785540': 2, '785895': 6, '785113': 1, '783697': 1, '943212': 1, '722099': 1, '722169': 1, '787566': 1, '788352': 3, '784153': 4, '786387': 1, '936949': 1, '721975': 1, '722374': 1, '784364': 2, '1687614': 1, '722379': 1, '938508': 2, '1622629': 1, '783863': 1, '783535': 2, '1687643': 1, '786440': 1, '784792': 1, '787101': 1, '786148': 1, '785152': 2, '722557': 1, '785726': 1, '786242': 5, '217737': 1, '1622601': 1, '784586': 1, '1686543': 1, '787085': 23, '995956': 2, '788310': 1, '217629': 1, '784311': 3, '787927': 1, '927648': 10, '72148': 1, '722143': 1, '1622763': 1, '722201': 1, '785715': 1, '788202': 1, '787233': 1, '785446': 1, '783744': 1, '787896': 1, '722067': 2, '784225': 1, '784031': 1, '994986': 2, '785373': 1, '996521': 1, '786286': 1, '369519': 1, '786749': 1, '938478': 5, '1677645': 1, '786427': 1, '1000101': 1, '785450': 1, '786764': 4, '783901': 1, '938651': 1, '783775': 3, '787207': 1, '938635': 4, '1622409': 1, '788138': 1, '783766': 3, '1672036': 1, '1000361': 1, '786419': 4, '788029': 1, '788003': 4, '786855': 1, '786509': 1, '787172': 1, '786158': 3, '785317': 1, '1622783': 1, '785298': 1, '1000355': 2, '1622336': 2, '784254': 1, '784811': 1, '785060': 1, '787677': 1, '786364': 1, '786848': 1, '722126': 1, '217832': 1, '783827': 1, '788269': 1, '785105': 3, '786692': 1, '788361': 1, '1622754': 1, '1686637': 1, '1622715': 1, '786504': 1, '783771': 5, '786376': 1, '964000': 1, '787923': 1, '784829': 5, '783838': 1, '788326': 1, '1622416': 4, '787882': 1, '784288': 4, '721926': 1, '784352': 1, '784839': 1, '786092': 4, '1000393': 1, '784580': 4, '1622361': 1, '217701': 1, '962419': 2, '788460': 12, '786818': 1, '369505': 1, '787831': 1, '1688034': 2, '786777': 1, '785640': 1, '785718': 1, '783632': 1, '784848': 1, '1622395': 1, '788406': 1, '1670232': 1, '785269': 1, '1431555': 1, '787708': 1, '785463': 2, '1622352': 1, '722415': 5, '786963': 1, '722280': 1, '785772': 3, '785140': 2, '784882': 1, '787245': 1, '999804': 1, '1686525': 2, '785716': 1, '787201': 1, '999617': 1, '1000300': 1, '787762': 1, '996520': 1, '996586': 1, '788084': 1, '938588': 1, '785631': 2, '999676': 1, '784604': 1, '722268': 1, '217476': 1, '787752': 1, '217529': 1, '783550': 1, '786669': 1, '785835': 1, '217846': 1, '785763': 1, '786659': 3, '787296': 3, '217636': 2, '784559': 1, '787313': 1, '784618': 1, '783946': 6, '784674': 1, '784360': 1, '787528': 4, '784193': 1, '784212': 1, '786125': 6, '722183': 1, '785350': 1, '784566': 1, '786351': 1, '786922': 2, '722363': 2, '995979': 1, '784082': 1, '217465': 2, '217496': 1, '1672011': 1, '783968': 1, '786786': 4, '786272': 1, '1677626': 1, '787672': 1, '217934': 2, '722148': 1, '217582': 1, '785790': 1, '1622651': 1, '1000339': 5, '787023': 4, '217521': 1, '784452': 1, '785506': 2, '784639': 1, '785804': 1, '785801': 1, '785720': 1, '721956': 1, '788472': 1, '217630': 1, '786061': 1, '217565': 1, '1658652': 1, '787276': 1, '1622619': 1, '787928': 1, '1622648': 1, '784355': 1, '784728': 1, '786969': 1, '1447115': 1, '787596': 1, '722319': 1, '1672009': 1, '1688049': 1, '785053': 1, '938521': 1, '788362': 1, '999716': 1, '785400': 1, '786566': 2, '722024': 4, '788336': 1, '217654': 1, '787883': 1, '784081': 1, '783885': 4, '786310': 6, '785083': 1, '787148': 10, '786482': 1, '786307': 1, '1671622': 1, '787205': 13, '938489': 2, '788210': 1, '722373': 1, '784135': 1, '1660904': 1, '938602': 1, '784035': 8, '839728': 1, '788150': 1, '783858': 1, '722542': 1, '786321': 4, '787242': 1, '784868': 1, '1622714': 1, '217609': 3, '786136': 1, '785305': 1, '788473': 1, '787624': 1, '938628': 3, '785058': 1, '787345': 1, '1622764': 2, '1671936': 1, '1672085': 1, '787301': 9, '788345': 1, '999755': 1, '1622637': 1, '784756': 1, '787360': 1, '786071': 1, '783495': 3, '722334': 1, '722275': 1, '786950': 6, '783557': 1, '783846': 1, '787265': 1, '786209': 1, '787635': 2, '783629': 1, '785159': 12, '786528': 1, '785624': 1, '786899': 1, '783514': 1, '783677': 19, '72137': 1, '787722': 1, '1428332': 1, '1622727': 1, '786754': 2, '784837': 2, '787951': 1, '795642': 1, '1446861': 1, '787750': 1, '786769': 1, '217748': 1, '217766': 1, '786431': 1, '1622730': 1, '1686642': 3, '785215': 1, '1622789': 1, '927933': 1, '786506': 1, '783945': 1, '788389': 1, '217639': 1, '722419': 1, '786412': 1, '722368': 1, '369515': 1, '787436': 2, '786142': 21, '1686640': 2, '784875': 1, '787465': 0, '217741': 1, '722116': 1, '783872': 3, '217519': 1, '785685': 1, '783722': 1, '996340': 4, '787889': 1, '722388': 1, '785293': 1, '786636': 7, '217790': 1, '784181': 2, '784463': 1, '787886': 1, '217745': 1, '1622324': 1, '217782': 1, '787909': 1, '722269': 1, '1622609': 1, '722551': 3, '785978': 53, '1622496': 1, '786924': 1, '788188': 1, '783540': 2, '783923': 3, '787976': 1, '783844': 1, '784788': 1, '785394': 1, '785522': 1, '1622620': 3, '722006': 1, '783927': 2, '787290': 5, '785074': 1, '784158': 1, '217469': 1, '217824': 1, '938412': 1, '787501': 3, '1622189': 1, '787810': 1, '217791': 2, '785809': 1, '1002392': 1, '785383': 2, '786529': 1, '785413': 1, '787742': 1, '787936': 1, '938551': 1, '1672037': 1, '722244': 1, '1686647': 1, '787025': 1, '721990': 1, '785418': 1, '1000237': 1, '784322': 1, '938514': 1, '996438': 1, '785241': 1, '786206': 1, '1773118': 1, '1707485': 1, '217699': 1, '783772': 1, '722327': 1, '1671624': 1, '784725': 1, '1622417': 1, '72132': 1, '785382': 1, '1622420': 1, '784749': 1, '787970': 1, '786731': 1, '217881': 1, '217617': 1, '786577': 4, '785877': 1, '722332': 1, '1622468': 1, '787681': 1, '885492': 1, '217836': 2, '996365': 1, '784768': 1, '787944': 2, '722330': 1, '786473': 16, '1622388': 1, '786291': 1, '786408': 2, '217507': 1, '217586': 1, '722002': 1, '1622310': 1, '994994': 1, '898361': 3, '722003': 1, '1622347': 1, '1670210': 1, '1687624': 1, '785320': 1, '786545': 4, '786794': 4, '785000': 1, '786221': 4, '1622192': 1, '840722': 1, '788184': 1, '938630': 1, '1297504': 1, '784265': 1, '996648': 3, '786856': 9, '219770': 0, '1622618': 1, '788475': 1, '784487': 1, '722347': 1, '788232': 12, '786204': 1, '787399': 1, '783654': 1, '784174': 2, '72136': 2, '1658667': 1, '943209': 1, '1688047': 1, '722567': 1, '786393': 1, '787004': 1, '786725': 3, '722243': 1, '786646': 3, '787306': 1, '785888': 1, '784912': 1, '786407': 1, '787050': 1, '1002561': 3, '722530': 1, '784488': 2, '996202': 1, '784910': 1, '1000097': 1, '785088': 1, '722359': 1, '784573': 3, '553331': 1, '1758829': 0, '787564': 1, '784097': 1, '785410': 1, '1622704': 1, '787192': 1, '787625': 14, '787218': 1, '786199': 1, '722422': 1, '938456': 1, '903423': 1, '785029': 13, '787567': 1, '722046': 1, '217585': 1, '784345': 3, '786293': 1, '1622685': 1, '784626': 2, '784990': 2, '787343': 1, '787793': 1, '788409': 1, '1622291': 1, '787618': 1, '1622358': 1, '722210': 4, '784717': 1, '786432': 3, '217747': 3, '786991': 1, '217688': 2, '786582': 1, '786803': 1, '784776': 1, '786494': 1, '1622464': 1, '1688043': 1, '785680': 1, '217726': 1, '787730': 1, '1000350': 2, '786586': 1, '1622455': 1, '217936': 1, '785091': 1, '787703': 1, '785236': 1, '784050': 1, '783497': 1, '1764145': 1, '786997': 1, '721941': 1, '786875': 1, '217530': 1, '785491': 2, '784931': 1, '177285': 1, '783720': 2, '787973': 1, '217866': 2, '785630': 2, '722537': 1, '783568': 1, '786441': 1, '1764144': 1, '217554': 1, '1618356': 1, '786546': 1, '787483': 1, '217705': 2, '785893': 1, '938475': 2, '217865': 1, '787821': 1, '787093': 1, '788032': 1, '784356': 1, '217771': 1, '786531': 1, '1000382': 1, '784716': 1, '785881': 1, '369524': 1, '787210': 25, '1000899': 1, '1278916': 2, '786824': 3, '787478': 0, '783554': 1, '938528': 1, '788324': 1, '786971': 1, '787751': 1, '786057': 1, '217700': 1, '369500': 1, '786538': 2, '788061': 2, '938650': 4, '786437': 1, '785620': 1, '785789': 4, '787369': 1, '616691': 1, '785442': 1, '217512': 1, '784606': 1, '787816': 1, '785150': 1, '783624': 8, '784328': 1, '785340': 1, '787657': 27, '787105': 1, '721869': 1, '784268': 1, '786059': 8, '785458': 1, '786606': 5, '1622703': 2, '783512': 1, '786472': 1, '786941': 14, '783747': 1, '785424': 2, '938596': 1, '995932': 1, '722005': 1, '784073': 1, '787323': 1, '788047': 1, '722060': 3, '1763770': 0, '787153': 2, '722078': 1, '217608': 1, '787068': 9, '1687955': 1, '938547': 1, '1672031': 1, '218153': 1, '938378': 1, '1622338': 1, '784747': 1, '785724': 1, '786938': 1, '1000320': 1, '787462': 1, '1677558': 1, '786601': 1, '1622595': 1, '217857': 1, '788154': 4, '788209': 1, '787195': 14, '217731': 3, '786395': 2, '786874': 15, '217716': 1, '217671': 1, '783552': 1, '784455': 4, '784677': 1, '786857': 2, '783948': 1, '722324': 1, '785534': 4, '786128': 1, '788025': 1, '784402': 3, '786157': 1, '784760': 6, '785553': 1, '217566': 1, '783757': 3, '788423': 4, '787395': 2, '787620': 1, '938411': 1, '783665': 1, '787442': 1, '783760': 7, '785149': 1, '784480': 1, '787095': 9, '785737': 1, '787425': 0, '784177': 2, '787187': 1, '938613': 1, '786913': 279, '787186': 5, '722311': 1, '786738': 1, '722087': 2, '1686712': 1, '1688044': 1, '784633': 2, '784506': 4, '785588': 1, '784786': 1, '785326': 1, '1622757': 1, '786918': 3, '784438': 1, '931109': 1, '787933': 1, '1764147': 3, '788219': 1, '1000336': 1, '786030': 1, '722161': 2, '785519': 1, '722522': 1, '788177': 1, '1671408': 1, '783943': 6, '784675': 1, '788315': 1, '721946': 1, '785054': 1, '938496': 1, '785226': 1, '1688057': 1, '1000830': 1, '787485': 0, '787797': 1, '1752572': 1, '787808': 1, '786810': 1, '784587': 1, '1671926': 1, '788303': 1, '217710': 1, '886405': 1, '999906': 1, '722164': 1, '217646': 1, '938599': 1, '784541': 28, '1758830': 1, '787815': 1, '788424': 1, '784485': 1, '1000352': 1, '1705053': 1, '722190': 1, '787734': 1, '938614': 1, '784700': 5, '787667': 1, '1752577': 1, '787526': 1, '787094': 1, '722054': 1, '1622415': 1, '72133': 1, '787740': 1, '784305': 4, '784380': 4, '785774': 1, '938537': 2, '968987': 1, '722122': 1, '784909': 3, '785369': 1, '786444': 1, '787884': 1, '787438': 1, '722206': 1, '927871': 2, '1687960': 1, '217549': 1, '1687943': 1, '785701': 1, '999935': 1, '1672152': 1, '785688': 1, '785415': 3, '722297': 1, '931104': 6, '786752': 6, '996592': 1, '787209': 1, '785097': 1, '722366': 1, '217589': 1, '1677672': 1, '217884': 1, '722543': 2, '784632': 1, '787891': 2, '786561': 4, '1622435': 1, '786139': 1, '788234': 2, '785657': 1, '1686815': 1, '722157': 1, '785389': 2, '1000356': 1, '785602': 1, '784603': 1, '785698': 2, '784237': 1, '722217': 1, '783527': 2, '784856': 1, '785210': 1, '783505': 1, '785315': 3, '788348': 1, '722022': 1, '722107': 1, '721928': 1, '786487': 1, '722371': 1, '996252': 1, '784482': 1, '787743': 1, '1764732': 1, '784955': 4, '1688070': 1, '786289': 6, '1686646': 1, '217786': 1, '783796': 3, '783680': 1, '788333': 1, '1622675': 1, '1686940': 1, '785733': 1, '786955': 1, '783689': 2, '784575': 2, '788379': 1, '788137': 1, '999604': 1, '722097': 2, '938636': 2, '1428321': 1, '785820': 1, '783614': 1, '783878': 1, '784611': 1, '784161': 1, '217607': 2, '217889': 1, '787247': 2, '785380': 1, '784249': 1, '784278': 2, '783531': 1, '786384': 1, '787335': 1, '784957': 15, '722335': 2, '1622634': 1, '787492': 1, '722178': 1, '787934': 1, '786751': 2, '784824': 1, '784941': 6, '784300': 3, '783510': 1, '785322': 1, '217490': 1, '995963': 1, '369511': 1, '786320': 1, '1444375': 2, '722457': 1, '787601': 1, '1658657': 1, '217858': 1, '784403': 1, '1688020': 1, '785423': 1, '996050': 1, '788074': 1, '784737': 1, '217811': 1, '784689': 1, '787477': 0, '786035': 1, '786858': 6, '832805': 5, '996727': 1, '784772': 2, '217815': 1, '786347': 1, '783526': 1, '217875': 1, '785765': 1, '785300': 1, '785130': 3, '784651': 12, '784842': 1, '721888': 1, '786999': 1, '786203': 1, '786112': 1, '217850': 4, '722303': 1, '1622614': 1, '625000': 1, '783644': 3, '1622713': 0, '785793': 1, '787664': 1, '722526': 1, '784098': 1, '786697': 1, '788229': 1, '996416': 1, '786984': 1, '722421': 1, '938653': 1, '1686526': 1, '787382': 1, '787811': 1, '1622497': 1, '1672075': 1, '722192': 1, '786271': 1, '783961': 1, '786892': 3, '784501': 2, '788015': 1, '721991': 1, '785193': 1, '938545': 1, '938606': 1, '785141': 1, '787864': 1, '784325': 1, '785282': 1, '784530': 1, '787769': 1, '995965': 1, '786042': 1, '722226': 2, '722031': 1, '784221': 2, '1622660': 1, '786602': 1, '787915': 1, '784420': 22, '786344': 1, '722213': 1, '784376': 1, '788144': 1, '1688069': 1, '722318': 1, '995933': 6, '784496': 1, '786250': 6, '783787': 1, '785513': 1, '1672008': 1, '784890': 1, '786642': 1, '786345': 1, '1000215': 1, '785127': 15, '784415': 1, '1622726': 1, '786939': 3, '784379': 4, '1671767': 1, '785100': 1, '1138463': 1, '1763766': 0, '788221': 1, '784444': 1, '785505': 1, '787384': 1, '787471': 7, '786151': 1, '785155': 1, '783883': 1, '784014': 1, '783900': 2, '786819': 1, '787633': 1, '722524': 1, '788374': 2, '784019': 3, '788405': 3, '783693': 1, '787199': 2, '788113': 1, '787213': 1, '786435': 2, '722015': 4, '785856': 1, '784519': 2, '217893': 1, '721993': 2, '1686523': 1, '784884': 1, '783655': 1, '786153': 1, '787045': 1, '217666': 1, '784001': 1, '1758866': 3, '784134': 4, '1000337': 1, '785224': 2, '784853': 3, '722076': 1, '785570': 2, '722088': 2, '784208': 1, '786107': 1, '788373': 2, '783691': 1, '1758106': 1, '722382': 1, '784407': 1, '784929': 1, '1688026': 1, '722221': 2, '217804': 1, '783931': 3, '787386': 1, '784775': 1, '886430': 1, '784547': 3, '785145': 1, '786829': 20, '785676': 1, '786968': 1, '786972': 1, '1000353': 2, '785247': 1, '1351066': 1, '1677653': 3, '1660898': 1, '217552': 1, '1622499': 2, '217600': 1, '786379': 1, '1622472': 1, '787675': 1, '785501': 2, '217626': 2, '785137': 1, '217501': 1, '217801': 1, '784289': 1, '1622341': 1, '785742': 2, '784708': 1, '1622292': 2, '996362': 1, '1263742': 1, '784178': 1, '722023': 1, '786294': 1, '785185': 13, '787081': 1, '787780': 1, '1751071': 1, '938637': 1, '784852': 1, '786237': 4, '783656': 1, '785673': 1, '783841': 1, '217684': 1, '786609': 4, '787003': 1, '943207': 3, '1686703': 1, '788035': 1, '786190': 3, '787292': 2, '784620': 1, '783817': 1, '784191': 1, '787986': 1, '788404': 1, '784949': 1, '787510': 2, '785095': 10, '785694': 1, '1687619': 1, '783610': 1, '788103': 1, '784736': 1, '788118': 1, '785857': 1, '784550': 1, '784243': 1, '785502': 1, '938506': 1, '217563': 1, '783625': 2, '1622795': 1, '784340': 1, '783905': 1, '1622451': 1, '1622293': 1, '786279': 1, '786590': 1, '938641': 1, '784046': 1, '1622490': 1, '783966': 1, '785132': 1, '722429': 1, '783617': 1, '722176': 3, '938486': 1, '786316': 3, '217894': 4, '788157': 1, '785042': 1, '1622676': 1, '786483': 1, '722124': 1, '722261': 1, '783926': 1, '786533': 1, '1677700': 1, '786595': 1, '786486': 1, '784241': 17, '784421': 1, '1671768': 1, '217537': 1, '784891': 1, '786265': 2, '1276488': 1, '217759': 1, '938385': 1, '785520': 1, '787671': 3, '1000309': 1, '787902': 1, '783870': 1, '787254': 1, '787856': 1, '722378': 1, '783849': 5, '784170': 1, '786195': 2, '902078': 1, '786503': 5, '784451': 3, '999923': 3, '722383': 1, '217706': 1, '787232': 3, '786475': 1, '999741': 1, '784739': 1, '786129': 1, '783721': 2, '785198': 1, '788313': 2, '217738': 5, '785802': 1, '217756': 1, '785658': 3, '784048': 1, '787270': 1, '721947': 1, '785014': 1, '1622355': 1, '1671935': 2, '787006': 1, '1669927': 1, '784877': 1, '786739': 1, '722110': 1, '787231': 3, '788102': 1, '786339': 1, '787032': 1, '941432': 1, '784226': 1, '785549': 1, '784705': 1, '787525': 3, '931098': 1, '787644': 1, '785010': 1, '785547': 1, '787826': 1, '784711': 1, '786176': 1, '722375': 1, '786917': 5, '783957': 1, '784110': 2, '787545': 1, '1687149': 1, '966073': 1, '938472': 1, '217520': 1, '784893': 1, '995055': 2, '787133': 2, '786926': 2, '217558': 1, '217587': 4, '722326': 1, '787145': 1, '721929': 1, '788466': 4, '787228': 1, '787646': 1, '1670170': 1, '936951': 1, '786314': 1, '1658661': 1, '786611': 4, '784314': 1, '784841': 1, '785621': 1, '1671922': 1, '785684': 2, '787214': 4, '785705': 1, '787222': 1, '1428327': 2, '784602': 1, '1367356': 1, '722449': 1, '722315': 2, '786635': 1, '787267': 1, '787303': 1, '785367': 2, '784844': 1, '784211': 1, '1622392': 1, '784721': 1, '784513': 1, '785779': 1, '786156': 1, '1687179': 2, '784826': 1, '1622719': 2, '787235': 1, '938536': 1, '784781': 1, '785478': 1, '1622405': 1, '785256': 1, '1672074': 1, '1446209': 1, '996522': 1, '787191': 1, '785283': 3, '786822': 12, '783684': 1, '783712': 5, '996348': 1, '786619': 5, '787491': 1, '1622765': 1, '786096': 1, '787065': 1, '784563': 1, '217939': 1, '785699': 1, '786750': 3, '785286': 3, '938646': 8, '1677699': 1, '785384': 1, '1000335': 1, '786298': 1, '783839': 15, '1000362': 1, '787416': 1, '785206': 1, '1622640': 1, '788340': 1, '217687': 1, '1000331': 1, '1622456': 2, '785743': 1, '722558': 1, '788000': 1, '786501': 1, '1428324': 1, '787444': 1, '787798': 1, '784127': 1, '1622624': 1, '785023': 1, '722290': 1, '784272': 1, '784294': 1, '788258': 1, '786285': 2, '1670204': 1, '787689': 1, '783628': 2, '783944': 1, '786618': 1, '1622774': 1, '785470': 2, '787055': 1, '999735': 0, '217886': 4, '784859': 1, '785093': 4, '1686654': 1, '785572': 1, '784470': 1, '785048': 1, '722281': 1, '785089': 15, '784930': 1, '784810': 1, '783895': 3, '787246': 4, '722404': 1, '1687649': 1, '786934': 4, '722314': 1, '217690': 1, '1770601': 1, '787052': 1, '1622505': 2, '787706': 1, '785821': 1, '785202': 2, '786231': 3, '784664': 1, '783606': 3, '787419': 1, '217615': 1, '722150': 3, '786052': 6, '1671486': 1, '938546': 1, '787541': 2, '941435': 1, '786931': 1, '1622507': 1, '785034': 2, '722390': 1, '787848': 1, '1672006': 2, '1670176': 1, '785465': 1, '786903': 6, '788204': 1, '788319': 1, '786513': 34, '784114': 1, '786935': 10, '1367355': 5, '786045': 3, '785897': 1, '943211': 6, '784152': 1, '886674': 1, '784732': 1, '784993': 1, '938601': 1, '786512': 1, '1622701': 1, '785016': 1, '788268': 1, '1428323': 1, '1000831': 1, '783524': 2, '938468': 1, '785619': 1, '784036': 1, '785471': 1, '783608': 1, '785759': 1, '787115': 2, '784594': 1, '787905': 1, '787164': 1, '786454': 2, '783788': 1, '784857': 1, '722038': 2, '786155': 4, '1622407': 1, '785131': 7, '217468': 1, '788160': 1, '1622519': 1, '788248': 1, '783738': 2, '787935': 1, '785136': 1, '785179': 2, '785867': 2, '72143': 1, '784709': 1, '788077': 1, '786667': 3, '784887': 1, '786258': 10, '784317': 2, '994963': 1, '1622753': 1, '1622632': 1, '722080': 1, '787779': 1, '788135': 1, '722434': 1, '784066': 1, '72150': 1, '783808': 7, '784854': 1, '1686638': 1, '217578': 1, '784981': 2, '1622791': 1, '722172': 1, '1622360': 1, '722209': 1, '783647': 1, '1622794': 3, '787929': 1, '784534': 3, '1622739': 1, '927661': 2, '786797': 1, '1669916': 1, '786562': 2, '783561': 1, '784348': 1, '786885': 8, '886392': 1, '783995': 13, '1622418': 1, '1672029': 1, '786175': 1, '783825': 1, '786625': 1, '788386': 3, '938530': 3, '722265': 1, '785794': 1, '996336': 1, '604737': 1, '938497': 1, '787449': 0, '1686563': 1, '784693': 1, '1000341': 1, '784992': 5, '785536': 1, '217477': 1, '785204': 1, '784447': 1, '217564': 1, '786643': 1, '785872': 2, '722197': 4, '787866': 1, '722387': 1, '788175': 2, '787445': 1, '786443': 1, '787480': 1, '785142': 1, '722426': 1, '217852': 1, '788008': 1, '784313': 6, '784779': 1, '938451': 1, '784688': 4, '787872': 1, '786965': 5, '784055': 1, '786517': 13, '1622318': 1, '999564': 1, '219769': 0, '785691': 1, '784641': 3, '786852': 7, '938593': 1, '1671625': 1, '788260': 1, '722305': 1, '785542': 1, '786398': 1, '785629': 1, '784682': 1, '721998': 1, '996356': 1, '787768': 1, '938567': 3, '217652': 1, '995968': 1, '721932': 1, '786654': 1, '787862': 1, '784727': 1, '785666': 3, '217535': 1, '786456': 1, '786544': 1, '784123': 1, '784301': 1, '785464': 1, '1002426': 2, '784745': 2, '786804': 1, '785479': 1, '722435': 1, '787355': 3, '1622638': 1, '785260': 1, '217532': 1, '784316': 3, '788294': 1, '785605': 1, '786180': 2, '787239': 1, '787413': 1, '787695': 1, '1688462': 1, '784825': 1, '1622402': 1, '217872': 2, '788159': 1, '787378': 1, '788001': 1, '784250': 1, '784099': 1, '784295': 1, '785746': 1, '217742': 2, '784070': 1, '1700454': 1, '938531': 1, '786434': 1, '722156': 1, '785292': 1, '786826': 28, '786421': 3, '788337': 1, '787437': 3, '722433': 2, '785006': 1, '785064': 1, '938387': 1, '783742': 1, '787954': 1, '787989': 1, '786141': 1, '785864': 1, '787022': 3, '217517': 1, '784187': 1, '783592': 4, '788259': 1, '786450': 4, '722095': 1, '787685': 2, '784820': 1, '786198': 1, '784916': 6, '788078': 1, '787261': 2, '787818': 1, '786565': 1, '786759': 10, '783804': 1, '784113': 1, '217628': 1, '217729': 1, '783653': 4, '783924': 1, '72141': 1, '785037': 1, '786411': 1, '787833': 1, '787647': 1, '786616': 1, '1764152': 1, '1622735': 1, '722271': 2, '784999': 2, '722198': 1, '787696': 1, '786806': 1, '940776': 2, '788226': 0, '787268': 1, '369522': 1, '217696': 1, '786488': 1, '1622643': 1, '832813': 0, '784970': 1, '784175': 1, '999601': 1, '1622788': 1, '1654703': 1, '787202': 1, '1670208': 1, '787244': 1, '786687': 1, '722061': 1, '999915': 2, '783593': 2, '784694': 14, '1622430': 1, '783645': 1, '787699': 1, '217743': 1, '788053': 1, '785449': 1, '784155': 1, '72117': 1, '788237': 1, '785258': 1, '788255': 1, '941431': 5, '786626': 1, '786037': 1, '722398': 1, '787945': 1, '217495': 2, '722112': 3, '787907': 1, '786217': 1, '787641': 1, '786085': 3, '786099': 1, '787981': 1, '787167': 1, '784137': 1, '783919': 1, '783672': 5, '1622305': 1, '787325': 6, '783559': 1, '217827': 1, '787284': 2, '1460967': 1, '1622379': 1, '788314': 1, '159478': 1, '784648': 3, '722223': 1, '785414': 1, '786789': 5, '721967': 1, '783570': 2, '785880': 1, '787555': 1, '1622437': 1, '217847': 1, '786851': 9, '996204': 1, '786523': 1, '1688077': 1, '72118': 1, '785516': 2, '1622368': 10, '722409': 1, '783530': 1, '722008': 1, '786104': 2, '788392': 1, '785562': 3, '785721': 1, '786985': 1, '722165': 1, '786490': 1, '786514': 1, '159477': 1, '783958': 1, '722045': 25, '784862': 1, '784435': 1, '788124': 2, '787802': 1, '784609': 1, '786760': 2, '787405': 1, '786426': 1, '786510': 1, '783988': 1, '217471': 1, '788073': 3, '787058': 1, '786923': 1, '787556': 22, '722140': 1, '787585': 1, '787744': 1, '784812': 1, '786212': 1, '786691': 1, '788287': 1, '783633': 1, '786417': 1, '217925': 1, '784186': 3, '784894': 1, '783488': 1, '785090': 1, '786126': 2, '784128': 1, '722310': 1, '785600': 1, '786904': 12, '722057': 2, '785473': 1, '938604': 5, '784658': 4, '785849': 1, '784389': 1, '1688060': 1, '787497': 1, '784257': 1, '784908': 1, '786535': 1, '786152': 3, '785381': 1, '722231': 1, '217503': 1, '788306': 1, '788446': 2, '786335': 3, '217488': 1, '786511': 1, '830825': 1, '786718': 1, '786401': 1, '1687963': 1, '786267': 2, '217538': 1, '786353': 1, '787024': 1, '784195': 1, '787189': 35, '784758': 1, '786063': 1, '785212': 2, '784473': 1, '785172': 1, '787168': 1, '369508': 1, '785419': 5, '784729': 1, '783797': 1, '1622381': 1, '1622188': 1, '217788': 1, '783525': 1, '788136': 1, '788369': 2, '1622351': 1, '999627': 1, '369504': 1, '786210': 1, '786894': 7, '219768': 0, '1687936': 1, '1686636': 1, '1622294': 1, '785697': 1, '787599': 2, '839729': 1, '1764137': 1, '785027': 1, '996736': 1, '785404': 4, '787012': 1, '722184': 2, '785668': 4, '722295': 2, '784351': 2, '786378': 3, '788366': 1, '999831': 1, '787741': 1, '785045': 1, '1622457': 2, '786707': 1, '786792': 1, '1687151': 1, '785385': 1, '786796': 1, '788464': 1, '1672073': 2, '1672072': 1, '787946': 1, '788457': 1, '786906': 3, '785313': 3, '784719': 1, '787774': 1, '786064': 7, '1622290': 1, '1279068': 1, '787393': 4, '785664': 1, '787295': 3, '786397': 1, '217627': 2, '722063': 2, '999565': 2, '783994': 1, '783774': 1, '1622615': 1, '1622444': 2, '784790': 3, '1000363': 3, '787782': 1, '784039': 19, '722102': 1, '784899': 1, '783739': 1, '722200': 4, '785614': 1, '783586': 2, '784944': 6, '787000': 1, '1686814': 1, '786295': 153, '783741': 6, '1671482': 1, '784401': 1, '786372': 2, '784016': 1, '217525': 1, '217534': 1, '1670169': 1, '787252': 1, '938581': 1, '787760': 1, '786352': 1, '1622718': 1, '787464': 0, '786409': 1, '217873': 3, '784961': 3, '785784': 1, '783752': 2, '786374': 1, '1672028': 1, '787679': 3, '783675': 2, '786077': 1, '722115': 1, '217823': 2, '217808': 1, '1622678': 3, '788252': 1, '784629': 1, '886677': 1, '785075': 5, '786876': 1, '787530': 1, '784798': 1, '784489': 1, '996010': 1, '721887': 1, '783962': 1, '72122': 1, '786961': 1, '938464': 1, '785827': 2, '369529': 1, '787257': 1, '787593': 2, '999902': 1, '787571': 1, '785092': 1, '1687948': 1, '369521': 1, '217619': 1, '787127': 1, '785343': 1, '784871': 1, '784635': 1, '785606': 1, '785889': 1, '785528': 2, '1622508': 1, '938853': 1, '787775': 1, '783695': 1, '785461': 1, '784209': 2, '785734': 1, '787118': 18, '1622665': 1, '1622736': 1, '786377': 3, '788293': 1, '788311': 1, '785341': 1, '785355': 1, '783886': 1, '784207': 1, '938566': 1, '999562': 0, '369532': 1, '788066': 1, '787391': 9, '785371': 2, '784280': 1, '786596': 1, '784831': 1, '785850': 1, '1688037': 1, '783803': 2, '786164': 23, '369523': 1, '786481': 1, '787849': 1, '1622394': 2, '996304': 1, '217792': 1, '1622793': 1, '1279015': 1, '722001': 1, '1622657': 1, '999566': 1, '788331': 1, '785221': 1, '785197': 1, '786914': 28, '938504': 1, '786785': 6, '784867': 1, '785359': 1, '784159': 1, '788182': 1, '783638': 1, '786150': 4, '786235': 3, '783843': 2, '785667': 1, '1688056': 1, '722272': 1, '938594': 2, '72125': 1, '788444': 0, '786527': 1, '783681': 3, '217596': 3, '786526': 1, '784614': 1, '787113': 1, '722389': 2, '938485': 1, '785564': 2, '1622459': 1, '784129': 1, '785290': 1, '788013': 2, '1622698': 1, '783845': 1, '999883': 1, '788281': 1, '786369': 1, '788341': 1, '72151': 1, '787691': 2, '785529': 1, '785281': 1, '787969': 9, '787908': 1, '786592': 1, '784367': 1, '787304': 1, '722262': 1, '217831': 3, '1622712': 1, '785579': 1, '786765': 1, '785104': 1, '721953': 7, '787509': 1, '787588': 1, '1686644': 1, '788090': 2, '786666': 4, '786962': 3, '787097': 7, '787952': 1, '784691': 1, '788419': 1, '1622588': 6, '928034': 2, '1658651': 1, '784504': 1, '999752': 1, '1686661': 1, '785235': 1, '783790': 1, '785133': 2, '784976': 3, '722074': 3, '788428': 1, '784714': 1, '787665': 1, '722391': 1, '784950': 1, '786325': 1, '786891': 3, '217798': 1, '722091': 4, '996074': 1, '217637': 1, '787576': 1, '788276': 1, '722412': 1, '787221': 2, '787193': 5, '787156': 1, '1622359': 1, '785659': 1, '786043': 3, '787820': 1, '217494': 1, '787070': 1, '1671579': 1, '786196': 19, '785485': 1, '217573': 1, '783507': 1, '783950': 2, '786910': 1, '1622332': 2, '785110': 2, '938645': 1, '722364': 1, '786299': 3, '722108': 1, '938584': 1, '999679': 1, '722385': 3, '217923': 3, '217571': 1, '787361': 3, '994962': 1, '217515': 1, '788097': 1, '787177': 1, '786245': 9, '1622667': 1, '783909': 1, '786579': 1, '787410': 22, '787279': 1, '217898': 1, '785550': 1, '72140': 1, '898360': 1, '788165': 1, '785167': 1, '217620': 1, '786867': 20, '784791': 1, '722430': 1, '785792': 1, '787184': 1, '788212': 1, '217624': 1, '785129': 1, '217658': 1, '787096': 7, '786414': 1, '787461': 1, '937085': 1, '1622383': 3, '788009': 1, '783762': 1, '1677625': 2, '785712': 1, '784284': 1, '788264': 1, '785033': 1, '1622723': 1, '785120': 1, '938379': 1, '786593': 1, '1688050': 1, '1701578': 1, '999600': 2, '787431': 5, '784385': 1, '785637': 2, '785598': 1, '839966': 2, '217679': 1, '788342': 1, '786322': 1, '722562': 1, '783783': 1, '217802': 10, '787819': 1, '784285': 1, '787211': 1, '786655': 3, '786248': 1, '999625': 1, '784259': 1, '1263743': 1, '1633371': 1, '785109': 4, '787446': 1, '786093': 1, '787114': 1, '784568': 1, '784577': 1, '788107': 3, '785099': 2, '785814': 1, '786988': 5, '783528': 1, '783705': 1, '785843': 3, '788145': 1, '1677655': 1, '787263': 3, '217919': 1, '786940': 1, '72114': 1, '787426': 0, '217845': 1, '786453': 1, '788130': 1, '785040': 1, '217546': 1, '722365': 1, '783734': 2, '785819': 1, '1622626': 1, '784507': 1, '928033': 1, '784517': 3, '784879': 1, '1622364': 1, '938494': 1, '786572': 1, '787680': 1, '787298': 2, '1622322': 1, '1688054': 1, '786350': 1, '786979': 1, '787336': 1, '938477': 1, '1622495': 1, '722283': 1, '788256': 1, '786118': 1, '219781': 2, '369525': 1, '1671488': 1, '788112': 1, '784492': 4, '1758831': 1, '785044': 1, '1671485': 1, '1686532': 1, '786536': 13, '890023': 1, '783937': 1, '785011': 3, '1002389': 1, '787887': 1, '1622413': 1, '938538': 1, '784441': 1, '786807': 1, '1622309': 1, '1764148': 1, '832809': 0, '785865': 1, '786821': 12, '787614': 1, '786038': 2, '785324': 1, '784872': 2, '786733': 1, '1688018': 2, '1622589': 1, '1622344': 1, '783984': 1, '786154': 2, '786371': 2, '788298': 6, '369528': 1, '788285': 1, '784337': 1, '785303': 1, '786485': 1, '217498': 1, '787367': 1, '786521': 1, '787447': 1, '999726': 2, '784041': 1, '785285': 1, '783781': 1, '787716': 1, '783850': 1, '786948': 11, '786100': 1, '788251': 2, '788155': 4, '1000357': 8, '787356': 1, '787531': 1, '1758865': 1, '785041': 21, '788411': 1, '784601': 1, '784770': 1, '787629': 7, '1763773': 0, '787655': 12, '1677656': 1, '787984': 1, '994972': 1, '938390': 1, '1686727': 1, '783545': 2, '786072': 1, '1622625': 2, '784733': 1, '784275': 1, '787960': 1, '1622664': 1, '787380': 1, '1622785': 1, '787147': 1, '1671489': 1, '783879': 1, '784813': 1, '784393': 2, '1677651': 2, '786958': 4, '1622326': 2, '788436': 4, '369520': 1, '785062': 1, '786791': 7, '1622709': 1, '784886': 1, '788438': 1, '722027': 1, '787524': 1, '788455': 1, '1670203': 2, '784615': 1, '786615': 1, '786429': 1, '721876': 1, '1250519': 1, '217757': 1, '788206': 1, '786418': 1, '786657': 1, '788284': 1, '783868': 2, '785992': 46, '1662329': 1, '1304022': 1, '72119': 1, '217487': 1, '787859': 1, '938476': 1, '787179': 1, '785157': 3, '787673': 2, '787493': 1, '927870': 1, '999888': 1, '786640': 1, '722101': 1, '786974': 1, '1622304': 1, '785744': 1, '722529': 1, '786648': 8, '785454': 1, '999684': 1, '888627': 2, '787124': 1, '787008': 1, '785328': 5, '938470': 1, '785615': 1, '784880': 1, '787219': 3, '787930': 1, '722544': 1, '785334': 1, '1000377': 1, '787755': 1, '722447': 1, '783911': 1, '786676': 1, '72113': 1, '938482': 4, '783666': 1, '938391': 1, '996342': 1, '938580': 1, '784116': 1, '616690': 1, '1688465': 1, '787832': 1, '217472': 1, '369506': 1, '786131': 1, '999608': 1, '217787': 1, '788304': 1, '783776': 1, '783702': 6, '786391': 1, '1672149': 1, '784414': 1, '784267': 1, '786591': 1, '1002562': 1, '783616': 3, '1622603': 1, '787450': 0, '783602': 1, '996104': 1, '786193': 2, '788434': 1, '788057': 1, '785510': 1, '722320': 1, '786268': 1, '785883': 2, '788109': 5, '788105': 1, '783640': 1, '1687944': 1, '785094': 1, '787502': 1, '786331': 1, '783996': 1, '784336': 1, '1672202': 2, '784525': 1, '786743': 1, '722342': 0, '941433': 1, '784330': 3, '787059': 1, '783795': 3, '785279': 1, '784076': 1, '785833': 2, '1622741': 2, '786046': 3, '785174': 2, '784461': 1, '1672040': 1, '784465': 1, '1622489': 1, '786324': 6, '787702': 1, '938449': 1, '217864': 1, '784240': 1, '722119': 2, '787551': 8, '787877': 1, '938534': 4, '217670': 1, '788370': 1, '787590': 2, '787424': 0, '787020': 1, '786451': 1, '783867': 1, '787370': 1, '1000392': 1, '786185': 3, '72154': 1, '1428326': 1, '783936': 2, '1000348': 1, '785217': 3, '786359': 1, '787212': 1, '784459': 1, '722552': 1, '784002': 1, '784866': 1, '886680': 1, '938498': 7, '783541': 1, '1672125': 2, '785403': 1, '786423': 1, '787125': 1, '1000301': 1, '1622594': 1, '787694': 1, '785693': 1, '217718': 1, '786761': 1, '786462': 1, '217508': 2, '938386': 3, '1671747': 1, '722131': 1, '784795': 1, '785231': 1, '787788': 1, '1622524': 1, '786480': 2, '938517': 1, '783998': 1, '786031': 1, '784449': 2, '786893': 1, '784027': 1, '785873': 1, '786114': 1, '217511': 2, '217673': 1, '1622287': 1, '787724': 1, '787098': 5, '1622694': 1, '786162': 1, '999751': 1, '788468': 1, '783492': 1, '784984': 1, '786388': 1, '783703': 7, '1622386': 1, '783989': 1, '1622708': 1, '786216': 1, '996587': 1, '788461': 1, '1686723': 1, '784026': 3, '1367353': 1, '938487': 1, '217694': 1, '785531': 2, '722228': 1, '1622688': 1, '788031': 1, '1002391': 1, '1622702': 5, '1658655': 1, '1622628': 1, '788360': 1, '722153': 1, '788334': 1, '787609': 1, '784346': 1, '1000344': 1, '722030': 6, '786062': 3, '722384': 1, '1622325': 1, '1622458': 1, '1671422': 1, '784560': 1, '784378': 1, '784502': 1, '785972': 8, '785066': 1, '786639': 1, '1687164': 1, '787075': 1, '1622621': 1, '999742': 1, '787761': 1, '722025': 1, '784060': 1, '787107': 1, '1772570': 1, '785768': 1, '786663': 17, '931105': 1, '217603': 1, '928032': 2, '784043': 1, '787990': 1, '787160': 4, '722195': 1, '784395': 1, '217714': 1, '785886': 1, '784306': 1, '839967': 1, '784132': 8, '784118': 1, '785015': 1, '722007': 4, '787603': 1, '787041': 20, '787906': 1, '938445': 1, '1622534': 1, '788443': 0, '721980': 1, '832808': 0, '938502': 3, '787198': 1, '784061': 1, '785521': 1, '786469': 1, '784087': 1, '785409': 3, '1622308': 1, '722565': 1, '787868': 1, '1764149': 1, '722248': 1, '787415': 1, '1002390': 4, '786869': 1, '784861': 1, '783714': 3, '1622467': 1, '783529': 1, '786884': 1, '999668': 1, '788167': 1, '783724': 1, '783877': 1, '783847': 1, '784053': 1, '786726': 5, '787354': 2, '785194': 1, '784183': 1, '788471': 2, '1622608': 1, '722041': 3, '1658649': 4, '1688048': 1, '785569': 1, '785216': 2, '217550': 1, '786584': 1, '785692': 3, '722234': 3, '786907': 1, '784966': 1, '787368': 1, '722392': 1, '788181': 1, '217744': 3, '1000354': 1, '786685': 1, '369518': 1, '785466': 1, '786929': 6, '785352': 1, '785205': 36, '787846': 1, '783518': 1, '1686686': 1, '1687958': 4, '785725': 1, '722019': 2, '623529': 0, '217730': 1, '369540': 1, '785406': 1, '786695': 14, '996117': 1, '1622465': 1, '1622367': 1, '1622622': 1, '784437': 1, '722418': 1, '788465': 1, '784397': 1, '787181': 1, '938622': 1, '217542': 1, '784520': 1, '784045': 2, '787439': 1, '786980': 1, '784963': 1, '787014': 1, '783549': 1, '785787': 1, '787532': 1, '786505': 3, '722401': 1, '785837': 1, '785711': 1, '784956': 1, '217680': 1, '217499': 1, '783791': 1, '834508': 1, '999671': 1, '788156': 1, '1000338': 1, '217614': 3, '787099': 3, '995995': 2, '938572': 1, '722256': 1, '786361': 1, '1622633': 1, '787499': 2, '1687905': 1, '786263': 1, '784115': 2, '788429': 12, '1671590': 1, '787374': 1, '784555': 1, '784365': 1, '783515': 1, '787542': 1, '995075': 1, '784624': 2, '938444': 2, '217914': 1, '217561': 1, '721961': 4, '217722': 2, '785829': 1, '938388': 1, '786420': 1, '1752569': 1, '787715': 6, '786902': 1, '784282': 7, '787997': 1, '722451': 1, '722453': 1, '369537': 1, '785117': 1, '722151': 1, '785021': 33, '787823': 1, '722215': 1, '784004': 1, '784476': 1, '787561': 5, '783696': 3, '784538': 3, '938408': 4, '1687141': 1, '785576': 4, '787875': 1, '217822': 2, '72126': 1, '1658648': 1, '783922': 1, '785267': 1, '788317': 1, '721966': 1, '787865': 1, '938435': 3, '217927': 1, '1622790': 3, '785846': 1, '785612': 1, '784987': 2, '783891': 1, '1686975': 1, '785434': 1, '785700': 1, '787580': 5, '217661': 1, '785484': 1, '784917': 1, '999590': 1, '787299': 2, '722191': 2, '786728': 7, '996051': 1, '785977': 75, '785192': 1, '785065': 1, '787352': 1, '783560': 1, '784969': 11, '788056': 1, '784458': 1, '217533': 1, '1622654': 1, '783852': 1, '785255': 1, '217728': 1, '788207': 1, '788454': 1, '722134': 1, '1671503': 1, '785504': 1, '938542': 1, '787002': 1, '1622494': 1, '217768': 1, '787338': 1, '788452': 1, '839992': 1, '783767': 2, '784326': 3, '1686768': 1, '369510': 3, '784318': 1, '783818': 1, '788042': 1, '1304339': 1, '787766': 1, '784514': 1, '217678': 1, '786422': 1, '787636': 5, '1622775': 1, '787860': 1, '1701579': 2, '784743': 1, '722292': 1, '999561': 1, '784151': 1, '784059': 1, '788418': 3, '786452': 1, '786680': 1, '786846': 1, '722092': 1, '784828': 1, '785012': 1, '783692': 1, '1622343': 1, '217695': 2, '1752565': 3, '787001': 1, '721940': 1, '786675': 2, '784012': 1, '784905': 3, '722132': 1, '783648': 2, '785444': 1, '784583': 2, '785563': 1, '786309': 1, '786841': 4, '788123': 1, '784637': 6, '788183': 1, '787917': 1, '787009': 1, '996393': 1, '72116': 1, '787091': 4, '783710': 1, '786755': 1, '785590': 1, '217772': 1, '787519': 1, '217653': 1, '217604': 1, '785440': 1, '787503': 1, '721974': 1, '1691800': 1, '786809': 4, '999858': 1, '784536': 3, '788312': 1, '722255': 2, '938459': 2, '785863': 3, '1686802': 1, '722357': 2, '217481': 1, '1677518': 1, '785270': 1, '787948': 1, '1686652': 1, '217725': 1, '783673': 1, '788325': 1, '722518': 1, '72123': 2, '783830': 2, '786044': 2, '788239': 21, '786944': 2, '217486': 1, '786202': 1, '787175': 1, '787342': 7, '787911': 1, '785756': 3, '785246': 1, '784141': 2, '1671938': 1, '787870': 1, '785477': 1, '786540': 15, '786816': 2, '999893': 1, '898362': 1, '787136': 1, '786484': 1, '1275977': 1, '784125': 2, '784746': 8, '938383': 1, '1672020': 1, '786172': 1, '787110': 1, '996323': 1, '1622752': 1, '785175': 1, '784009': 1, '1295876': 1, '786446': 1, '787151': 6, '784369': 6, '999599': 1, '1686649': 1, '787400': 1, '722130': 1, '722284': 1, '785758': 3, '832811': 0, '784895': 1, '786275': 1, '999678': 1, '783915': 1, '784068': 1, '787600': 3, '1622693': 1, '783546': 1, '722531': 1, '1686801': 1, '938552': 3, '722354': 1, '788474': 9, '1686838': 1, '785314': 1, '786909': 6, '938663': 1, '927651': 1, '938407': 3, '1622525': 1, '785072': 1, '786340': 1, '217876': 3, '787215': 1, '784233': 1, '788004': 1, '785358': 1, '785020': 1, '785189': 4, '787553': 1, '785682': 1, '786368': 1, '938503': 1, '1622443': 1, '786284': 1, '1000313': 1, '788427': 1, '722294': 1, '788081': 1, '1000848': 1, '786919': 2, '996310': 1, '787516': 1, '217712': 1, '784484': 1, '784436': 1, '787040': 1, '787613': 1, '785052': 5, '786575': 4, '784343': 1, '722100': 1, '938483': 1, '784558': 1, '784297': 1, '889248': 1, '217863': 1, '783715': 2, '1000381': 1, '72135': 1, '784197': 1, '788190': 1, '787666': 4, '787817': 1, '786649': 1, '785370': 5, '783679': 1, '786121': 1, '788131': 1, '786033': 1, '786795': 3, '1460968': 1, '999650': 1, '1662954': 1, '722103': 1, '722225': 1, '783967': 1, '1622313': 1, '785456': 1, '722545': 1, '883772': 1, '787013': 1, '938453': 1, '787570': 7, '787649': 1, '722135': 1, '787474': 1, '1687618': 1, '786678': 1, '1304337': 2, '784572': 2, '787834': 1, '784478': 11, '943213': 1, '938612': 2, '785729': 2, '786461': 1, '788261': 15, '1622448': 0, '785891': 1, '786049': 2, '787958': 1, '783623': 4, '722313': 1, '785754': 1, '1000837': 1, '787536': 4, '217851': 1, '786467': 2, '788323': 1, '785869': 1, '786236': 1, '787871': 1, '1670121': 1, '785490': 1, '788092': 1, '785486': 1, '1677520': 1, '785497': 3, '722048': 1, '1430252': 1, '787943': 1, '1688017': 3, '785348': 3, '786326': 1, '938500': 1, '784101': 4, '785187': 1, '783759': 1, '784785': 1, '783740': 1, '785125': 1, '786973': 1, '217816': 1, '788351': 2, '885493': 1, '938585': 10, '783569': 1, '788187': 5, '721971': 1, '787490': 6, '784149': 4, '785808': 1, '784734': 1, '1622777': 1, '784660': 5, '784310': 1, '1000307': 1, '784943': 1, '787230': 1, '787717': 1, '722519': 1, '784124': 22, '783533': 1, '785273': 1, '786717': 1, '786458': 1, '1658665': 1, '785884': 1, '786767': 1, '788462': 1, '784947': 1, '785683': 1, '783800': 1, '788087': 1, '787332': 2, '217594': 1, '784644': 1, '787135': 1, '938562': 1, '1000327': 1, '1752578': 1, '784324': 3, '787918': 1, '1622663': 1, '72115': 1, '1686516': 2, '783642': 1, '786032': 1, '1622696': 1, '1658664': 1, '785868': 1, '786864': 3, '1622483': 1, '786047': 4, '784673': 1, '783516': 1, '999611': 1, '787388': 1, '786470': 7, '785387': 1, '1622512': 1, '722118': 1, '722517': 1, '785687': 1, '786124': 1, '722336': 1, '787454': 0, '787019': 1, '999602': 1, '996363': 1, '999607': 2, '1622650': 1, '784567': 1, '217591': 6, '721935': 1, '938452': 2, '786161': 1, '210923': 1, '784897': 1, '1002412': 1, '783501': 1, '783493': 1, '788006': 1, '788129': 1, '995934': 1, '787401': 0, '786683': 3, '721884': 4, '785077': 1, '784069': 1, '1672045': 1, '785709': 1, '786315': 4, '784881': 1, '938460': 2, '783584': 1, '369541': 1, '784015': 1, '786671': 4, '783854': 1, '788425': 1, '787375': 2, '1763771': 0, '784631': 1, '1671763': 2, '784659': 1, '1764140': 1, '788076': 3, '787376': 1, '784349': 3, '722264': 1, '1687965': 1, '722205': 3, '784518': 1, '1671484': 1, '787874': 1, '1622766': 1, '722253': 1, '787784': 1, '787583': 1, '787835': 1, '722380': 1, '784200': 1, '786724': 2, '217641': 1, '786447': 1, '785039': 5, '786365': 1, '787468': 0, '785272': 3, '938573': 1, '832806': 1, '722520': 1, '787949': 1, '784863': 1, '1622527': 1, '722194': 1, '787291': 1, '784388': 2, '784021': 2, '784184': 2, '786389': 3, '785898': 1, '788126': 1, '787042': 1, '788026': 1, '786956': 1, '788005': 1, '786815': 1, '784497': 1, '999546': 1, '785810': 1, '783928': 6, '785047': 1, '788368': 1, '996366': 1, '1622686': 1, '785586': 1, '785871': 1, '787763': 1, '786679': 1, '785474': 5, '1687645': 1, '1687650': 1, '217769': 8, '787016': 1, '788055': 1, '1622369': 1, '786567': 1, '788139': 1, '788263': 1, '938576': 1, '722340': 1, '785696': 1, '722064': 2, '786915': 2, '1622374': 2, '785644': 1, '785585': 1, '1622380': 1, '786952': 1, '788152': 1, '1622616': 1, '786138': 8, '786416': 1, '784974': 1, '1688051': 1, '787547': 10, '783869': 4, '217800': 1, '788339': 4, '785476': 1, '783899': 4, '783667': 1, '1686684': 1, '785405': 2, '1764155': 1, '1671501': 1, '785252': 1, '785068': 2, '788344': 1, '785851': 1, '217635': 1, '787407': 6, '784085': 1, '722065': 4, '786233': 1, '786524': 1, '787733': 1, '784864': 1, '785368': 1, '787394': 1, '783940': 1, '788010': 1, '786628': 1, '938554': 1, '1764153': 1, '787149': 1, '1304338': 1, '785736': 1, '217475': 1, '1479086': 1, '783704': 3, '783745': 6, '1622354': 1, '786768': 1, '786744': 1, '1622397': 1, '785468': 1, '787753': 1, '786191': 2, '1622328': 1, '721927': 1, '786348': 1, '786117': 1, '787957': 1, '785632': 1, '1316539': 1, '722397': 1, '787324': 1, '994956': 1, '1622605': 1, '785489': 1, '785593': 1, '786933': 3, '787892': 1, '785057': 13, '217559': 1, '217473': 2, '72112': 1, '787888': 1, '785492': 1, '783876': 1, '784252': 1, '784898': 2, '217901': 1, '784025': 5, '721959': 3, '786336': 1, '787852': 1, '884720': 1, '1622598': 1, '709153': 1, '217817': 1, '783537': 1, '996723': 2, '1622776': 1, '787243': 2, '784532': 1, '787919': 2, '995066': 1, '784636': 1, '1002750': 1, '784608': 1, '786854': 4, '787806': 1, '785788': 2, '787876': 1, '787967': 1, '784398': 1, '219650': 1, '722302': 1, '722170': 1, '1671923': 1, '785354': 1, '1671738': 1, '785106': 1, '217806': 1, '788164': 1, '786177': 1, '786029': 1, '785288': 1, '786500': 1, '786229': 3, '785488': 1, '784198': 1, '722427': 1, '787271': 2, '788034': 1, '722550': 1, '784490': 1, '784077': 1, '784430': 2, '784091': 1, '783664': 1, '785107': 46, '217610': 1, '1629310': 1, '784329': 5, '785703': 1, '938558': 1, '785169': 4, '788450': 1, '938484': 1, '1622746': 1, '721955': 1, '785559': 1, '996360': 1, '1000328': 3, '784298': 1, '787602': 2, '788300': 3, '999544': 1, '722393': 4, '786208': 2, '722563': 1, '786699': 1, '786220': 1, '999612': 1, '787900': 2, '785390': 1, '722066': 1, '786497': 1, '722408': 1, '787203': 1, '217492': 1, '783659': 37, '787453': 1, '785254': 1, '786610': 1, '787781': 1, '784205': 1, '788308': 2, '785780': 2, '722299': 2, '787428': 0, '783490': 2, '938619': 1, '787121': 1, '786677': 1, '788085': 1, '785301': 1, '786385': 25, '788171': 1, '785211': 1, '785583': 3, '784715': 1, '1672084': 2, '1691790': 1, '786967': 1, '787749': 1, '787725': 1, '1622743': 1, '1669959': 2, '783612': 1, '1687205': 1, '785762': 3, '788431': 1, '1688035': 1, '787975': 1, '217920': 1, '784302': 1, '938467': 3, '785028': 1, '177284': 1, '785830': 1, '785786': 1, '1364344': 1, '787670': 1, '784995': 1, '785578': 3, '787844': 1, '783717': 1, '788380': 1, '784915': 1, '1671504': 1, '996349': 2, '784979': 1, '785587': 2, '788270': 1, '785568': 3, '994964': 1, '217765': 1, '722257': 1, '788193': 1, '722028': 1, '786207': 1, '1686656': 2, '217929': 2, '784623': 1, '786831': 23, '1687954': 1, '788381': 1, '722235': 1, '786911': 6, '785165': 1, '722155': 2, '786116': 1, '784771': 1, '1672163': 1, '788291': 1, '786329': 1, '889475': 1, '787162': 1, '786380': 1, '786747': 1, '786132': 1, '783598': 2, '787157': 10, '787479': 1, '999620': 1, '785266': 1, '786883': 1, '1670175': 1, '786108': 1, '786101': 1, '786830': 16, '217789': 5, '722410': 1, '999626': 4, '784945': 1, '786703': 1, '1622710': 1, '787220': 1, '786734': 1, '785031': 1, '787226': 2, '999907': 1, '786073': 1, '931099': 1, '783987': 1, '785514': 1, '787993': 1, '788048': 1, '786833': 38, '217649': 1, '787314': 2, '784544': 1, '787991': 2, '784533': 1, '1688073': 2, '995135': 1, '787719': 1, '1622606': 1, '784331': 2, '784766': 1, '217899': 2, '784022': 1, '786251': 28, '788467': 1, '786515': 1, '783604': 1, '787634': 1, '1660902': 1, '784453': 1, '786716': 1, '787863': 1, '785309': 1, '786715': 1, '783812': 1, '217625': 1, '1622669': 1, '786694': 2, '788296': 1, '1622646': 1, '785046': 1, '785498': 1, '217634': 1, '722086': 1, '999898': 1, '1688024': 1, '788292': 2, '785017': 1, '786179': 1, '787229': 2, '786861': 1, '787562': 1, '721982': 1, '786702': 1, '785582': 2, '1000404': 1, '786171': 1, '783953': 1, '784681': 1, '785543': 1, '1622755': 2, '788158': 2, '785771': 3, '722267': 1, '786448': 6, '788241': 1, '787137': 1, '784235': 1, '1622767': 1, '938639': 1, '787843': 1, '217746': 4, '784582': 3, '722138': 1, '786227': 1, '1000103': 1, '785139': 3, '785223': 1, '784411': 1, '787089': 1, '786301': 1, '784472': 5, '787579': 1, '785706': 1, '786543': 1, '785628': 1, '721997': 11, '787412': 6, '784706': 1, '787839': 1, '784440': 1, '996322': 1, '788299': 2, '1622681': 1, '783513': 6, '996196': 1, '784920': 1, '722259': 1, '784179': 1, '786853': 1, '783723': 1, '1622335': 1, '1669879': 1, '787307': 1, '1658646': 1, '784730': 1, '786292': 1, '785848': 1, '786143': 1, '787637': 1, '1622190': 1, '999880': 1, '722420': 1, '1687598': 1, '1622706': 1, '788071': 3, '785663': 4, '787441': 1, '788211': 1, '785407': 2, '785025': 1, '785807': 1, '996346': 1, '1763772': 0, '787489': 2, '721960': 1, '787787': 1, '787079': 4, '784072': 3, '787897': 1, '785853': 1, '784359': 1, '217467': 2, '786373': 1, '786165': 1, '783618': 1, '783932': 1, '217541': 1, '785184': 5, '783556': 2, '722333': 1, '1687952': 1, '784551': 1, '784683': 1, '784794': 2, '787159': 2, '996197': 2, '721933': 1, '786587': 1, '785138': 1, '787206': 1, '785681': 3, '788288': 1, '1622493': 1, '786719': 1, '787007': 1, '783982': 1, '787726': 1, '786532': 1, '784552': 2, '786034': 2, '1622733': 2, '786194': 9, '1000329': 1, '785845': 1, '1688022': 2, '783975': 3, '369534': 1, '1622460': 1, '783918': 1, '785422': 2, '1622485': 1, '217727': 2, '787718': 1, '786568': 1, '786240': 1, '787631': 2, '217478': 1, '1428330': 1, '786346': 1, '785618': 1, '783583': 1, '783699': 1, '722525': 1, '784797': 1, '784062': 1, '786413': 1, '783871': 1, '787174': 1, '784923': 1, '784428': 1, '787581': 1, '968957': 1, '1677621': 1, '784269': 1, '786080': 3, '217838': 2, '786898': 1, '785524': 1, '995063': 1, '787654': 3, '786068': 1, '787423': 0, '931102': 1, '1755936': 2, '787418': 1, '784363': 1, '787825': 1, '783999': 1, '783903': 1, '722306': 2, '784751': 1, '788217': 1, '1687953': 1, '785005': 3, '787632': 1, '785008': 1, '1687962': 1, '786066': 1, '999847': 1, '889247': 4, '787592': 4, '1622491': 1, '788433': 1, '784206': 1, '784213': 1, '787088': 1, '787648': 1, '784171': 5, '722556': 1, '1622509': 1, '786189': 1, '788346': 1, '722139': 2, '1669957': 1, '938631': 2, '1279047': 1, '785537': 1, '217531': 3, '785425': 2, '786686': 1, '785316': 2, '784726': 1, '722037': 1, '787289': 2, '784549': 1, '785767': 1, '786836': 7, '788448': 2, '938410': 1, '217704': 1, '787789': 1, '785082': 1, '785812': 1, '217672': 1, '219773': 0, '785592': 1, '938620': 1, '722136': 1, '783661': 1, '786873': 2, '938583': 1, '784968': 1, '787812': 1, '787692': 1, '788280': 1, '1677647': 1, '787409': 19, '784064': 1, '788014': 1, '1686650': 1, '72138': 1, '786249': 2, '1658692': 1, '787204': 1, '786812': 12, '787084': 1, '722077': 2, '938629': 1, '788274': 1, '1622649': 3, '785535': 1, '784309': 1, '722181': 2, '722406': 1, '996734': 1, '784934': 1, '785395': 1, '786550': 1, '784162': 1, '787297': 3, '787460': 1, '787867': 1, '787080': 3, '1660179': 2, '722521': 1, '783985': 1, '1700412': 1, '784759': 1, '787559': 2, '784260': 1, '783605': 3, '217870': 2, '786748': 3, '1658647': 2, '1622720': 1, '784764': 3, '722121': 1, '722039': 1, '788017': 1, '722548': 1, '785577': 1, '927649': 1, '784958': 1, '785887': 3, '787850': 1, '783520': 1, '784283': 1, '787106': 1, '784849': 1, '219683': 1, '786845': 15, '785460': 1, '784704': 1, '787158': 1, '785043': 1, '786664': 1, '784133': 1, '784650': 1, '217910': 2, '1622373': 1, '999784': 1, '785036': 1, '1688038': 1, '1671748': 1, '787941': 1, '784937': 1, '217536': 1, '785121': 1, '938590': 2, '927647': 1, '571045': 1, '784953': 1, '1554270': 1, '786522': 1, '786704': 3, '787727': 1, '784925': 12, '785349': 1, '217514': 1, '722036': 1, '1670238': 1, '787979': 1, '783658': 1, '785146': 1, '217493': 1, '787594': 2, '785738': 1, '783499': 1, '787660': 1, '931103': 1, '783596': 1, '722011': 4, '785647': 1, '787974': 1, '217844': 1, '72111': 1, '786758': 1, '784023': 1, '999548': 1, '1687140': 1, '785196': 1, '788289': 1, '785372': 1, '784815': 1, '217814': 1, '996649': 1, '1752575': 1, '784075': 1, '784806': 1, '1000319': 1, '786084': 2, '784946': 3, '787320': 2, '786356': 1, '784429': 1, '999545': 1, '787669': 1, '996653': 1, '788213': 1, '787931': 3, '1622414': 1, '785769': 1, '1677667': 4, '784010': 1, '785128': 2, '217895': 1, '783511': 1, '1000836': 1, '787771': 1, '217885': 1, '217883': 1, '217740': 2, '783650': 3, '784103': 1, '784321': 2, '784030': 5, '784712': 1, '784699': 1, '784876': 1, '786900': 4, '785291': 1, '785876': 1, '1672127': 1, '217632': 1, '1622440': 1, '783959': 1, '784578': 1, '787591': 1, '787288': 5, '784553': 2, '217719': 1, '786476': 3, '722082': 2, '788100': 1, '785304': 1, '784342': 3, '787138': 1, '722448': 1, '783929': 1, '786394': 1, '788235': 1, '1622762': 1, '787963': 1, '787225': 1, '784281': 1, '784612': 1, '787595': 1, '217708': 1, '217605': 1, '996329': 1, '783676': 2, '786355': 1, '787381': 1, '787738': 1, '1622792': 1, '786018': 44, '931106': 1, '785280': 1, '787615': 1, '996118': 1, '938565': 1, '1002560': 1, '722288': 1, '938617': 2, '783792': 1, '784368': 1, '784833': 1, '1764143': 1, '786498': 2, '787457': 1, '784892': 1, '784802': 84, '1686735': 1, '1672030': 1, '785218': 1, '786341': 1, '1670153': 1, '217664': 1, '785840': 1, '787861': 1, '722044': 1, '788040': 1, '1658653': 1, '788050': 1, '784279': 1, '786632': 1, '943793': 1, '786243': 3, '722052': 1, '788012': 1, '927653': 1, '785508': 1, '722075': 1, '783793': 2, '784373': 1, '787978': 1, '788179': 1, '787898': 4, '787786': 1, '1767791': 2, '784142': 1, '722166': 1, '1000295': 1, '217868': 1, '938579': 1, '721883': 1, '1622184': 1, '1660899': 1, '938381': 1, '1658654': 1, '783770': 1, '786317': 1, '1671925': 1, '938600': 1, '786698': 1, '722090': 1, '722399': 1, '721988': 1, '784096': 2, '785507': 1, '787837': 1, '1670181': 1, '788385': 1, '785654': 3, '785342': 4, '785032': 1, '787517': 1, '783907': 1, '786710': 1, '786772': 7, '722423': 4, '938458': 1, '783494': 1, '787398': 1, '787910': 1, '787126': 1, '783727': 1, '784166': 2, '786219': 3, '786362': 1, '1763490': 1, '788231': 1, '786053': 1, '787349': 3, '784350': 1, '787739': 1, '217825': 2, '788080': 2, '217556': 2, '722405': 1, '784647': 1, '722356': 1, '1002968': 1, '1752581': 1, '722351': 1, '1002580': 2, '785626': 1, '217675': 1, '784684': 34, '786783': 19, '1672147': 1, '786144': 1, '783778': 1, '784531': 4, '787033': 1, '995074': 1, '786160': 5, '783964': 1, '787582': 3, '787500': 1, '787796': 2, '786662': 1, '787344': 6, '1688063': 3, '217683': 2, '787274': 3, '787076': 26, '786959': 1, '783980': 4, '785366': 1, '787925': 1, '1437270': 0, '1428319': 1, '787899': 8, '999904': 1, '787534': 1, '930645': 1, '785195': 12, '1763767': 0, '217497': 1, '784814': 1, '784277': 2, '996105': 1, '787362': 2, '784666': 2, '1622531': 1, '786318': 1, '787224': 1, '787048': 1, '938577': 2, '783657': 1, '785797': 3, '786147': 1, '788228': 1, '787549': 1, '788343': 2, '788458': 1, '784425': 1, '783874': 1, '999877': 1, '786843': 2, '217890': 1, '788435': 1, '1554069': 1, '788043': 1, '1622450': 1, '787712': 1, '785855': 3, '785776': 1, '786641': 15, '722540': 1, '788170': 1, '785134': 1, '938396': 1, '784986': 1, '787051': 4, '938586': 1, '784255': 1, '785870': 1, '217843': 1, '786253': 2, '788321': 1, '722413': 1, '217896': 1, '788412': 1, '1622193': 1, '938616': 1, '787830': 1, '722553': 1, '1000346': 1, '784339': 3, '787116': 1, '787792': 1, '938570': 1, '788399': 2, '787476': 5, '931108': 2, '785551': 1, '217583': 1, '722189': 1, '787182': 1, '786184': 1, '786479': 1, '785707': 1, '786287': 1, '1764141': 1, '785022': 1, '787049': 52, '1000334': 1, '787683': 1, '722407': 1, '783853': 1, '785237': 4, '787940': 1, '787558': 1, '784948': 1, '786224': 2, '786890': 1, '886678': 1, '788143': 3, '722386': 1, '721972': 1, '787704': 1, '938525': 2, '786477': 1, '784938': 1, '783660': 1, '787983': 3, '783725': 3, '785344': 1, '784431': 1, '787659': 7, '787858': 1, '788064': 5, '1677611': 1, '722325': 1, '786079': 1, '788225': 1, '786081': 2, '1687927': 1, '783652': 1, '996001': 1, '787904': 1, '787720': 1, '788338': 1, '785607': 1, '786166': 1, '784996': 2, '784865': 4, '787036': 1, '783777': 1, '783785': 1, '1677648': 2, '783585': 1, '788038': 1, '786987': 2, '369538': 1, '784408': 1, '785635': 1, '787300': 1, '788267': 1, '938479': 1, '784319': 6, '785166': 2, '1622375': 1, '783866': 2, '788410': 1, '786989': 3, '938643': 1, '786404': 1, '783735': 1, '786449': 1, '784491': 1, '785050': 1, '785750': 1, '786558': 1, '1002967': 2, '787163': 1})\n"
     ]
    }
   ],
   "source": [
    "print(dict(list(W_c.items())[0:5]))"
   ]
  }
 ],
 "metadata": {
  "kernelspec": {
   "display_name": "Python 3",
   "language": "python",
   "name": "python3"
  },
  "language_info": {
   "codemirror_mode": {
    "name": "ipython",
    "version": 3
   },
   "file_extension": ".py",
   "mimetype": "text/x-python",
   "name": "python",
   "nbconvert_exporter": "python",
   "pygments_lexer": "ipython3",
   "version": "3.6.5"
  }
 },
 "nbformat": 4,
 "nbformat_minor": 2
}
